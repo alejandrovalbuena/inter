{
 "cells": [
  {
   "cell_type": "markdown",
   "metadata": {
    "id": "xoyr7F7GNiM6"
   },
   "source": [
    "# Prueba Intertrimestral\n",
    "\n",
    "**Nombre:** Alejandro\n",
    "\n",
    "**Apellidos:** Valbuena Núñez\n",
    "\n",
    "**Tiempo de la prueba: 2 Horas**\n",
    "\n",
    "**Asignatura:** Desarrollo de Aplicaciones para la Visualización de Datos\n",
    "\n",
    "**Fecha:** 18 de octubre de 2023\n",
    "\n",
    "**Instrucciones:**\n",
    "\n",
    "- Escribe código limpio y autoexplicativo.\n",
    "\n",
    "- Se eliminará 0.5 puntos por usar Seaborn o Matplotlib.\n",
    "\n",
    "- Se pueden utilizar los materiales de clase.\n",
    "\n",
    "- Se puede utilizar internet para búsqueda de dudas y documentación.\n",
    "\n",
    "- No se puede utilizar ningún tipo de LLM.\n",
    "\n",
    "- No se puede utilizar mensajería instantánea.\n",
    "\n",
    "- Sube tus resultados a tu repositorio de Github.\n",
    "\n",
    "- Imprime una versión en PDF en A3 y Portrait del notebook.\n",
    "\n",
    "- Envialo tus resultados a dmartincorral@icai.comillas.edu adjuntando el PDF y la url del notebook subido al repositorio de Github.\n"
   ]
  },
  {
   "cell_type": "markdown",
   "metadata": {
    "id": "_yd5v77lO4fW"
   },
   "source": [
    "## Inicialización de librerías\n",
    "\n",
    "Carga aquí todas las librerías que vayas a utilizar."
   ]
  },
  {
   "cell_type": "code",
   "execution_count": 131,
   "metadata": {
    "id": "xCJ9wLIePA99"
   },
   "outputs": [],
   "source": [
    "import pandas as pd\n",
    "import numpy as np\n",
    "from sklearn.datasets import fetch_california_housing\n",
    "from sklearn.decomposition import PCA\n",
    "import matplotlib.pyplot as plt\n",
    "from sklearn.model_selection import train_test_split\n",
    "from sklearn.svm import LinearSVC\n",
    "from sklearn.metrics import (classification_report, mean_squared_error, mean_absolute_error, mean_absolute_percentage_error,\n",
    "                            silhouette_score)\n",
    "from sklearn.linear_model import ElasticNet\n",
    "from sklearn.cluster import KMeans\n",
    "from sklearn.metrics import confusion_matrix as cm\n",
    "from sklearn.metrics import mean_squared_error\n",
    "from sklearn.ensemble import RandomForestRegressor\n",
    "import plotly.express as px\n",
    "from scipy.stats import ttest_ind\n",
    "import plotly.graph_objects as go"
   ]
  },
  {
   "cell_type": "markdown",
   "metadata": {
    "id": "-DcUj8fKPD19"
   },
   "source": [
    "## Ejercicio 1 (2 puntos):\n",
    "\n",
    "a) Crea una función que calcule y devuelva el factorial de un número entero. **(0.6 puntos)**\n",
    "\n",
    "b) Crea una función que verifique si un número es primo o no. **(0.6 puntos)**\n",
    "\n",
    "c) Muestra en un dataframe los 50 primeros números positivos, si es primo y su factorial utilizando las funciones anteriores. **(0.6 puntos)**\n",
    "\n",
    "d) ¿Cómo se podría programar en una clase las tres operaciones anteriores? **(0.2 puntos)**"
   ]
  },
  {
   "cell_type": "code",
   "execution_count": 1,
   "metadata": {
    "id": "IaPhSsDoSBL-"
   },
   "outputs": [
    {
     "name": "stdout",
     "output_type": "stream",
     "text": [
      "3628800\n"
     ]
    }
   ],
   "source": [
    "######### a)\n",
    "def factorial(n):\n",
    "   if n==0 or n==1:\n",
    "            resultado=1\n",
    "   elif n>1:\n",
    "            resultado=n*factorial(n-1)\n",
    "   return resultado\n",
    "\n",
    "#CALCULAMOS EL FACTORIAL DE 5.\n",
    "prueba = factorial(10)\n",
    "\n",
    "print(prueba)"
   ]
  },
  {
   "cell_type": "code",
   "execution_count": 10,
   "metadata": {},
   "outputs": [
    {
     "name": "stdout",
     "output_type": "stream",
     "text": [
      "False\n"
     ]
    }
   ],
   "source": [
    "######### b)\n",
    "\n",
    "def primo(numero):\n",
    "  if numero<2:\n",
    "    return False\n",
    "  for i in range(2, numero):\n",
    "     if  (numero % i)== 0:\n",
    "        return False\n",
    "  return True\n",
    "\n",
    "pruebaB = primo(4)\n",
    "\n",
    "print(pruebaB)"
   ]
  },
  {
   "cell_type": "code",
   "execution_count": 25,
   "metadata": {},
   "outputs": [
    {
     "data": {
      "text/html": [
       "<div>\n",
       "<style scoped>\n",
       "    .dataframe tbody tr th:only-of-type {\n",
       "        vertical-align: middle;\n",
       "    }\n",
       "\n",
       "    .dataframe tbody tr th {\n",
       "        vertical-align: top;\n",
       "    }\n",
       "\n",
       "    .dataframe thead th {\n",
       "        text-align: right;\n",
       "    }\n",
       "</style>\n",
       "<table border=\"1\" class=\"dataframe\">\n",
       "  <thead>\n",
       "    <tr style=\"text-align: right;\">\n",
       "      <th></th>\n",
       "      <th>Número</th>\n",
       "      <th>Es primo</th>\n",
       "      <th>Factorial</th>\n",
       "    </tr>\n",
       "  </thead>\n",
       "  <tbody>\n",
       "    <tr>\n",
       "      <th>0</th>\n",
       "      <td>1</td>\n",
       "      <td>False</td>\n",
       "      <td>1</td>\n",
       "    </tr>\n",
       "    <tr>\n",
       "      <th>1</th>\n",
       "      <td>2</td>\n",
       "      <td>True</td>\n",
       "      <td>2</td>\n",
       "    </tr>\n",
       "    <tr>\n",
       "      <th>2</th>\n",
       "      <td>3</td>\n",
       "      <td>True</td>\n",
       "      <td>6</td>\n",
       "    </tr>\n",
       "    <tr>\n",
       "      <th>3</th>\n",
       "      <td>4</td>\n",
       "      <td>False</td>\n",
       "      <td>24</td>\n",
       "    </tr>\n",
       "    <tr>\n",
       "      <th>4</th>\n",
       "      <td>5</td>\n",
       "      <td>True</td>\n",
       "      <td>120</td>\n",
       "    </tr>\n",
       "    <tr>\n",
       "      <th>5</th>\n",
       "      <td>6</td>\n",
       "      <td>False</td>\n",
       "      <td>720</td>\n",
       "    </tr>\n",
       "    <tr>\n",
       "      <th>6</th>\n",
       "      <td>7</td>\n",
       "      <td>True</td>\n",
       "      <td>5040</td>\n",
       "    </tr>\n",
       "    <tr>\n",
       "      <th>7</th>\n",
       "      <td>8</td>\n",
       "      <td>False</td>\n",
       "      <td>40320</td>\n",
       "    </tr>\n",
       "    <tr>\n",
       "      <th>8</th>\n",
       "      <td>9</td>\n",
       "      <td>False</td>\n",
       "      <td>362880</td>\n",
       "    </tr>\n",
       "    <tr>\n",
       "      <th>9</th>\n",
       "      <td>10</td>\n",
       "      <td>False</td>\n",
       "      <td>3628800</td>\n",
       "    </tr>\n",
       "    <tr>\n",
       "      <th>10</th>\n",
       "      <td>11</td>\n",
       "      <td>True</td>\n",
       "      <td>39916800</td>\n",
       "    </tr>\n",
       "    <tr>\n",
       "      <th>11</th>\n",
       "      <td>12</td>\n",
       "      <td>False</td>\n",
       "      <td>479001600</td>\n",
       "    </tr>\n",
       "    <tr>\n",
       "      <th>12</th>\n",
       "      <td>13</td>\n",
       "      <td>True</td>\n",
       "      <td>6227020800</td>\n",
       "    </tr>\n",
       "    <tr>\n",
       "      <th>13</th>\n",
       "      <td>14</td>\n",
       "      <td>False</td>\n",
       "      <td>87178291200</td>\n",
       "    </tr>\n",
       "    <tr>\n",
       "      <th>14</th>\n",
       "      <td>15</td>\n",
       "      <td>False</td>\n",
       "      <td>1307674368000</td>\n",
       "    </tr>\n",
       "    <tr>\n",
       "      <th>15</th>\n",
       "      <td>16</td>\n",
       "      <td>False</td>\n",
       "      <td>20922789888000</td>\n",
       "    </tr>\n",
       "    <tr>\n",
       "      <th>16</th>\n",
       "      <td>17</td>\n",
       "      <td>True</td>\n",
       "      <td>355687428096000</td>\n",
       "    </tr>\n",
       "    <tr>\n",
       "      <th>17</th>\n",
       "      <td>18</td>\n",
       "      <td>False</td>\n",
       "      <td>6402373705728000</td>\n",
       "    </tr>\n",
       "    <tr>\n",
       "      <th>18</th>\n",
       "      <td>19</td>\n",
       "      <td>True</td>\n",
       "      <td>121645100408832000</td>\n",
       "    </tr>\n",
       "    <tr>\n",
       "      <th>19</th>\n",
       "      <td>20</td>\n",
       "      <td>False</td>\n",
       "      <td>2432902008176640000</td>\n",
       "    </tr>\n",
       "    <tr>\n",
       "      <th>20</th>\n",
       "      <td>21</td>\n",
       "      <td>False</td>\n",
       "      <td>51090942171709440000</td>\n",
       "    </tr>\n",
       "    <tr>\n",
       "      <th>21</th>\n",
       "      <td>22</td>\n",
       "      <td>False</td>\n",
       "      <td>1124000727777607680000</td>\n",
       "    </tr>\n",
       "    <tr>\n",
       "      <th>22</th>\n",
       "      <td>23</td>\n",
       "      <td>True</td>\n",
       "      <td>25852016738884976640000</td>\n",
       "    </tr>\n",
       "    <tr>\n",
       "      <th>23</th>\n",
       "      <td>24</td>\n",
       "      <td>False</td>\n",
       "      <td>620448401733239439360000</td>\n",
       "    </tr>\n",
       "    <tr>\n",
       "      <th>24</th>\n",
       "      <td>25</td>\n",
       "      <td>False</td>\n",
       "      <td>15511210043330985984000000</td>\n",
       "    </tr>\n",
       "    <tr>\n",
       "      <th>25</th>\n",
       "      <td>26</td>\n",
       "      <td>False</td>\n",
       "      <td>403291461126605635584000000</td>\n",
       "    </tr>\n",
       "    <tr>\n",
       "      <th>26</th>\n",
       "      <td>27</td>\n",
       "      <td>False</td>\n",
       "      <td>10888869450418352160768000000</td>\n",
       "    </tr>\n",
       "    <tr>\n",
       "      <th>27</th>\n",
       "      <td>28</td>\n",
       "      <td>False</td>\n",
       "      <td>304888344611713860501504000000</td>\n",
       "    </tr>\n",
       "    <tr>\n",
       "      <th>28</th>\n",
       "      <td>29</td>\n",
       "      <td>True</td>\n",
       "      <td>8841761993739701954543616000000</td>\n",
       "    </tr>\n",
       "    <tr>\n",
       "      <th>29</th>\n",
       "      <td>30</td>\n",
       "      <td>False</td>\n",
       "      <td>265252859812191058636308480000000</td>\n",
       "    </tr>\n",
       "    <tr>\n",
       "      <th>30</th>\n",
       "      <td>31</td>\n",
       "      <td>True</td>\n",
       "      <td>8222838654177922817725562880000000</td>\n",
       "    </tr>\n",
       "    <tr>\n",
       "      <th>31</th>\n",
       "      <td>32</td>\n",
       "      <td>False</td>\n",
       "      <td>263130836933693530167218012160000000</td>\n",
       "    </tr>\n",
       "    <tr>\n",
       "      <th>32</th>\n",
       "      <td>33</td>\n",
       "      <td>False</td>\n",
       "      <td>8683317618811886495518194401280000000</td>\n",
       "    </tr>\n",
       "    <tr>\n",
       "      <th>33</th>\n",
       "      <td>34</td>\n",
       "      <td>False</td>\n",
       "      <td>295232799039604140847618609643520000000</td>\n",
       "    </tr>\n",
       "    <tr>\n",
       "      <th>34</th>\n",
       "      <td>35</td>\n",
       "      <td>False</td>\n",
       "      <td>10333147966386144929666651337523200000000</td>\n",
       "    </tr>\n",
       "    <tr>\n",
       "      <th>35</th>\n",
       "      <td>36</td>\n",
       "      <td>False</td>\n",
       "      <td>371993326789901217467999448150835200000000</td>\n",
       "    </tr>\n",
       "    <tr>\n",
       "      <th>36</th>\n",
       "      <td>37</td>\n",
       "      <td>True</td>\n",
       "      <td>13763753091226345046315979581580902400000000</td>\n",
       "    </tr>\n",
       "    <tr>\n",
       "      <th>37</th>\n",
       "      <td>38</td>\n",
       "      <td>False</td>\n",
       "      <td>523022617466601111760007224100074291200000000</td>\n",
       "    </tr>\n",
       "    <tr>\n",
       "      <th>38</th>\n",
       "      <td>39</td>\n",
       "      <td>False</td>\n",
       "      <td>20397882081197443358640281739902897356800000000</td>\n",
       "    </tr>\n",
       "    <tr>\n",
       "      <th>39</th>\n",
       "      <td>40</td>\n",
       "      <td>False</td>\n",
       "      <td>815915283247897734345611269596115894272000000000</td>\n",
       "    </tr>\n",
       "    <tr>\n",
       "      <th>40</th>\n",
       "      <td>41</td>\n",
       "      <td>True</td>\n",
       "      <td>3345252661316380710817006205344075166515200000...</td>\n",
       "    </tr>\n",
       "    <tr>\n",
       "      <th>41</th>\n",
       "      <td>42</td>\n",
       "      <td>False</td>\n",
       "      <td>1405006117752879898543142606244511569936384000...</td>\n",
       "    </tr>\n",
       "    <tr>\n",
       "      <th>42</th>\n",
       "      <td>43</td>\n",
       "      <td>True</td>\n",
       "      <td>6041526306337383563735513206851399750726451200...</td>\n",
       "    </tr>\n",
       "    <tr>\n",
       "      <th>43</th>\n",
       "      <td>44</td>\n",
       "      <td>False</td>\n",
       "      <td>2658271574788448768043625811014615890319638528...</td>\n",
       "    </tr>\n",
       "    <tr>\n",
       "      <th>44</th>\n",
       "      <td>45</td>\n",
       "      <td>False</td>\n",
       "      <td>1196222208654801945619631614956577150643837337...</td>\n",
       "    </tr>\n",
       "    <tr>\n",
       "      <th>45</th>\n",
       "      <td>46</td>\n",
       "      <td>False</td>\n",
       "      <td>5502622159812088949850305428800254892961651752...</td>\n",
       "    </tr>\n",
       "    <tr>\n",
       "      <th>46</th>\n",
       "      <td>47</td>\n",
       "      <td>True</td>\n",
       "      <td>2586232415111681806429643551536119799691976323...</td>\n",
       "    </tr>\n",
       "    <tr>\n",
       "      <th>47</th>\n",
       "      <td>48</td>\n",
       "      <td>False</td>\n",
       "      <td>1241391559253607267086228904737337503852148635...</td>\n",
       "    </tr>\n",
       "    <tr>\n",
       "      <th>48</th>\n",
       "      <td>49</td>\n",
       "      <td>False</td>\n",
       "      <td>6082818640342675608722521633212953768875528313...</td>\n",
       "    </tr>\n",
       "    <tr>\n",
       "      <th>49</th>\n",
       "      <td>50</td>\n",
       "      <td>False</td>\n",
       "      <td>3041409320171337804361260816606476884437764156...</td>\n",
       "    </tr>\n",
       "  </tbody>\n",
       "</table>\n",
       "</div>"
      ],
      "text/plain": [
       "    Número  Es primo                                          Factorial\n",
       "0        1     False                                                  1\n",
       "1        2      True                                                  2\n",
       "2        3      True                                                  6\n",
       "3        4     False                                                 24\n",
       "4        5      True                                                120\n",
       "5        6     False                                                720\n",
       "6        7      True                                               5040\n",
       "7        8     False                                              40320\n",
       "8        9     False                                             362880\n",
       "9       10     False                                            3628800\n",
       "10      11      True                                           39916800\n",
       "11      12     False                                          479001600\n",
       "12      13      True                                         6227020800\n",
       "13      14     False                                        87178291200\n",
       "14      15     False                                      1307674368000\n",
       "15      16     False                                     20922789888000\n",
       "16      17      True                                    355687428096000\n",
       "17      18     False                                   6402373705728000\n",
       "18      19      True                                 121645100408832000\n",
       "19      20     False                                2432902008176640000\n",
       "20      21     False                               51090942171709440000\n",
       "21      22     False                             1124000727777607680000\n",
       "22      23      True                            25852016738884976640000\n",
       "23      24     False                           620448401733239439360000\n",
       "24      25     False                         15511210043330985984000000\n",
       "25      26     False                        403291461126605635584000000\n",
       "26      27     False                      10888869450418352160768000000\n",
       "27      28     False                     304888344611713860501504000000\n",
       "28      29      True                    8841761993739701954543616000000\n",
       "29      30     False                  265252859812191058636308480000000\n",
       "30      31      True                 8222838654177922817725562880000000\n",
       "31      32     False               263130836933693530167218012160000000\n",
       "32      33     False              8683317618811886495518194401280000000\n",
       "33      34     False            295232799039604140847618609643520000000\n",
       "34      35     False          10333147966386144929666651337523200000000\n",
       "35      36     False         371993326789901217467999448150835200000000\n",
       "36      37      True       13763753091226345046315979581580902400000000\n",
       "37      38     False      523022617466601111760007224100074291200000000\n",
       "38      39     False    20397882081197443358640281739902897356800000000\n",
       "39      40     False   815915283247897734345611269596115894272000000000\n",
       "40      41      True  3345252661316380710817006205344075166515200000...\n",
       "41      42     False  1405006117752879898543142606244511569936384000...\n",
       "42      43      True  6041526306337383563735513206851399750726451200...\n",
       "43      44     False  2658271574788448768043625811014615890319638528...\n",
       "44      45     False  1196222208654801945619631614956577150643837337...\n",
       "45      46     False  5502622159812088949850305428800254892961651752...\n",
       "46      47      True  2586232415111681806429643551536119799691976323...\n",
       "47      48     False  1241391559253607267086228904737337503852148635...\n",
       "48      49     False  6082818640342675608722521633212953768875528313...\n",
       "49      50     False  3041409320171337804361260816606476884437764156..."
      ]
     },
     "execution_count": 25,
     "metadata": {},
     "output_type": "execute_result"
    }
   ],
   "source": [
    "######### c)\n",
    "\n",
    "numerosNaturales = list(range(1, 51))\n",
    "primos = [primo(n) for n in numerosNaturales]\n",
    "factoriales = [factorial(n) for n in numerosNaturales]\n",
    "\n",
    "df = pd.DataFrame({\n",
    "    'Número': numerosNaturales,\n",
    "    'Es primo': primos,\n",
    "    'Factorial': factoriales\n",
    "})\n",
    "\n",
    "df\n"
   ]
  },
  {
   "cell_type": "code",
   "execution_count": 142,
   "metadata": {},
   "outputs": [
    {
     "ename": "IndentationError",
     "evalue": "unindent does not match any outer indentation level (<tokenize>, line 18)",
     "output_type": "error",
     "traceback": [
      "\u001b[0;36m  File \u001b[0;32m<tokenize>:18\u001b[0;36m\u001b[0m\n\u001b[0;31m    return False\u001b[0m\n\u001b[0m    ^\u001b[0m\n\u001b[0;31mIndentationError\u001b[0m\u001b[0;31m:\u001b[0m unindent does not match any outer indentation level\n"
     ]
    }
   ],
   "source": [
    "class Numeros:\n",
    "    \n",
    "    def __init__(self, n):\n",
    "        self.n = n\n",
    "\n",
    "    def factorial(n):\n",
    "        if n==0 or n==1:\n",
    "            resultado=1\n",
    "        elif n>1:\n",
    "            resultado=n*factorial(n-1)\n",
    "        return resultado\n",
    "\n",
    "    def primo(n):\n",
    "          if numero<2:\n",
    "            return False\n",
    "          for i in range(2, numero):\n",
    "                if  (numero % i)== 0:\n",
    "            return False\n",
    "          return True\n",
    "\n",
    "    def df50(self):\n",
    "        serie = list(range(1, self.n + 1))\n",
    "        primos = [Numeros.primo(num) for num in numeros]\n",
    "        factoriales = [Numeros.factorial(num) for num in numeros]\n",
    "\n",
    "        df = pd.DataFrame({\n",
    "            'Número': serie,\n",
    "            'Es primo': primos,\n",
    "            'Factorial': factoriales\n",
    "        })\n",
    "\n",
    "        return df"
   ]
  },
  {
   "cell_type": "markdown",
   "metadata": {
    "id": "91Zj0Qo6SEDO"
   },
   "source": [
    "## Ejercicio 2 (4 puntos):\n",
    "\n",
    "a) Extrae de sklearn el conjunto de datos __California Housing dataset__\n",
    " y transfórmalo a dataframe de pandas **(0.25 puntos)**\n",
    "\n",
    "b) Construye una función que muestra la estructura del dataset, el número de NAs, tipos de variables y estadísticas básicas de cada una de las variables. **(0.5 puntos)**\n",
    "\n",
    "c) Construye una __Regresión lineal__ y un __Random forest__ que predigan el __Median house value__ según los datos disponibles. **(0.75 puntos)**\n",
    "\n",
    "d) Visualiza cuales son las variables (coeficientes) más importantes en cada uno de los modelos. **(1.25 puntos)**\n",
    "\n",
    "e) Decide a través de las métricas que consideres oportunas, cuál de los dos modelos es mejor, por qué y explica el proceso que has realizado para responder en los puntos anteriores. **(1.25 puntos)**"
   ]
  },
  {
   "cell_type": "code",
   "execution_count": 54,
   "metadata": {
    "id": "2Aiag2OvUDJF"
   },
   "outputs": [
    {
     "data": {
      "text/html": [
       "<div>\n",
       "<style scoped>\n",
       "    .dataframe tbody tr th:only-of-type {\n",
       "        vertical-align: middle;\n",
       "    }\n",
       "\n",
       "    .dataframe tbody tr th {\n",
       "        vertical-align: top;\n",
       "    }\n",
       "\n",
       "    .dataframe thead th {\n",
       "        text-align: right;\n",
       "    }\n",
       "</style>\n",
       "<table border=\"1\" class=\"dataframe\">\n",
       "  <thead>\n",
       "    <tr style=\"text-align: right;\">\n",
       "      <th></th>\n",
       "      <th>MedInc</th>\n",
       "      <th>HouseAge</th>\n",
       "      <th>AveRooms</th>\n",
       "      <th>AveBedrms</th>\n",
       "      <th>Population</th>\n",
       "      <th>AveOccup</th>\n",
       "      <th>Latitude</th>\n",
       "      <th>Longitude</th>\n",
       "      <th>target</th>\n",
       "    </tr>\n",
       "  </thead>\n",
       "  <tbody>\n",
       "    <tr>\n",
       "      <th>0</th>\n",
       "      <td>8.3252</td>\n",
       "      <td>41.0</td>\n",
       "      <td>6.984127</td>\n",
       "      <td>1.023810</td>\n",
       "      <td>322.0</td>\n",
       "      <td>2.555556</td>\n",
       "      <td>37.88</td>\n",
       "      <td>-122.23</td>\n",
       "      <td>4.526</td>\n",
       "    </tr>\n",
       "    <tr>\n",
       "      <th>1</th>\n",
       "      <td>8.3014</td>\n",
       "      <td>21.0</td>\n",
       "      <td>6.238137</td>\n",
       "      <td>0.971880</td>\n",
       "      <td>2401.0</td>\n",
       "      <td>2.109842</td>\n",
       "      <td>37.86</td>\n",
       "      <td>-122.22</td>\n",
       "      <td>3.585</td>\n",
       "    </tr>\n",
       "    <tr>\n",
       "      <th>2</th>\n",
       "      <td>7.2574</td>\n",
       "      <td>52.0</td>\n",
       "      <td>8.288136</td>\n",
       "      <td>1.073446</td>\n",
       "      <td>496.0</td>\n",
       "      <td>2.802260</td>\n",
       "      <td>37.85</td>\n",
       "      <td>-122.24</td>\n",
       "      <td>3.521</td>\n",
       "    </tr>\n",
       "    <tr>\n",
       "      <th>3</th>\n",
       "      <td>5.6431</td>\n",
       "      <td>52.0</td>\n",
       "      <td>5.817352</td>\n",
       "      <td>1.073059</td>\n",
       "      <td>558.0</td>\n",
       "      <td>2.547945</td>\n",
       "      <td>37.85</td>\n",
       "      <td>-122.25</td>\n",
       "      <td>3.413</td>\n",
       "    </tr>\n",
       "    <tr>\n",
       "      <th>4</th>\n",
       "      <td>3.8462</td>\n",
       "      <td>52.0</td>\n",
       "      <td>6.281853</td>\n",
       "      <td>1.081081</td>\n",
       "      <td>565.0</td>\n",
       "      <td>2.181467</td>\n",
       "      <td>37.85</td>\n",
       "      <td>-122.25</td>\n",
       "      <td>3.422</td>\n",
       "    </tr>\n",
       "  </tbody>\n",
       "</table>\n",
       "</div>"
      ],
      "text/plain": [
       "   MedInc  HouseAge  AveRooms  AveBedrms  Population  AveOccup  Latitude  \\\n",
       "0  8.3252      41.0  6.984127   1.023810       322.0  2.555556     37.88   \n",
       "1  8.3014      21.0  6.238137   0.971880      2401.0  2.109842     37.86   \n",
       "2  7.2574      52.0  8.288136   1.073446       496.0  2.802260     37.85   \n",
       "3  5.6431      52.0  5.817352   1.073059       558.0  2.547945     37.85   \n",
       "4  3.8462      52.0  6.281853   1.081081       565.0  2.181467     37.85   \n",
       "\n",
       "   Longitude  target  \n",
       "0    -122.23   4.526  \n",
       "1    -122.22   3.585  \n",
       "2    -122.24   3.521  \n",
       "3    -122.25   3.413  \n",
       "4    -122.25   3.422  "
      ]
     },
     "execution_count": 54,
     "metadata": {},
     "output_type": "execute_result"
    }
   ],
   "source": [
    "##### a)\n",
    "\n",
    "california_housing = fetch_california_housing()\n",
    "\n",
    "# Convertir los datos y las etiquetas en un DF de pandas \n",
    "df = pd.DataFrame(data = california_housing['data'], columns=california_housing['feature_names'])\n",
    "df['target'] = california_housing['target']\n",
    "\n",
    "df.head()"
   ]
  },
  {
   "cell_type": "code",
   "execution_count": 55,
   "metadata": {},
   "outputs": [
    {
     "name": "stdout",
     "output_type": "stream",
     "text": [
      "<class 'pandas.core.frame.DataFrame'>\n",
      "RangeIndex: 20640 entries, 0 to 20639\n",
      "Data columns (total 9 columns):\n",
      " #   Column      Non-Null Count  Dtype  \n",
      "---  ------      --------------  -----  \n",
      " 0   MedInc      20640 non-null  float64\n",
      " 1   HouseAge    20640 non-null  float64\n",
      " 2   AveRooms    20640 non-null  float64\n",
      " 3   AveBedrms   20640 non-null  float64\n",
      " 4   Population  20640 non-null  float64\n",
      " 5   AveOccup    20640 non-null  float64\n",
      " 6   Latitude    20640 non-null  float64\n",
      " 7   Longitude   20640 non-null  float64\n",
      " 8   target      20640 non-null  float64\n",
      "dtypes: float64(9)\n",
      "memory usage: 1.4 MB\n",
      "None\n",
      "(20640, 9)\n",
      "MedInc        0\n",
      "HouseAge      0\n",
      "AveRooms      0\n",
      "AveBedrms     0\n",
      "Population    0\n",
      "AveOccup      0\n",
      "Latitude      0\n",
      "Longitude     0\n",
      "target        0\n",
      "dtype: int64\n",
      "             MedInc      HouseAge      AveRooms     AveBedrms    Population  \\\n",
      "count  20640.000000  20640.000000  20640.000000  20640.000000  20640.000000   \n",
      "mean       3.870671     28.639486      5.429000      1.096675   1425.476744   \n",
      "std        1.899822     12.585558      2.474173      0.473911   1132.462122   \n",
      "min        0.499900      1.000000      0.846154      0.333333      3.000000   \n",
      "25%        2.563400     18.000000      4.440716      1.006079    787.000000   \n",
      "50%        3.534800     29.000000      5.229129      1.048780   1166.000000   \n",
      "75%        4.743250     37.000000      6.052381      1.099526   1725.000000   \n",
      "max       15.000100     52.000000    141.909091     34.066667  35682.000000   \n",
      "\n",
      "           AveOccup      Latitude     Longitude        target  \n",
      "count  20640.000000  20640.000000  20640.000000  20640.000000  \n",
      "mean       3.070655     35.631861   -119.569704      2.068558  \n",
      "std       10.386050      2.135952      2.003532      1.153956  \n",
      "min        0.692308     32.540000   -124.350000      0.149990  \n",
      "25%        2.429741     33.930000   -121.800000      1.196000  \n",
      "50%        2.818116     34.260000   -118.490000      1.797000  \n",
      "75%        3.282261     37.710000   -118.010000      2.647250  \n",
      "max     1243.333333     41.950000   -114.310000      5.000010  \n"
     ]
    }
   ],
   "source": [
    "####### b)\n",
    "\n",
    "def analizar(df):\n",
    "    print(df.info())\n",
    "    print(df.shape)\n",
    "    print(df.isna().sum())\n",
    "    print(df.describe())\n",
    "    \n",
    "analizar(df)"
   ]
  },
  {
   "cell_type": "code",
   "execution_count": 56,
   "metadata": {},
   "outputs": [
    {
     "name": "stdout",
     "output_type": "stream",
     "text": [
      "El RMSE de train del modelo es: 0.8779802590239685\n",
      "El MAE de train del modelo es: 0.680709598502441\n",
      "El MAPE de train del modelo es: 45.20172523874715 %\n",
      "\n",
      "El RMSE de test del modelo es: 0.8720194772729232\n",
      "El MAE de test del modelo es: 0.6785162737312245\n",
      "El MAPE de test del modelo es: 46.262056633536034 %\n"
     ]
    }
   ],
   "source": [
    "### c)   REGRESION LINEAL\n",
    "\n",
    "# Dividir train-test\n",
    "X = california_housing[\"data\"].copy()\n",
    "y = california_housing[\"target\"].copy()\n",
    "X_train, X_test, y_train, y_test = train_test_split(X, y ,test_size = 0.3, random_state = 123)\n",
    "\n",
    "reg = ElasticNet()\n",
    "reg.fit(X_train,y_train)\n",
    "\n",
    "predictions = reg.predict(X_test)\n",
    "\n",
    "predictions_train = reg.predict(X_train)\n",
    "\n",
    "rmse_train = np.sqrt(mean_squared_error(y_train,predictions_train))\n",
    "mae_train = mean_absolute_error(y_train, predictions_train)\n",
    "mape_train = mean_absolute_percentage_error(y_train, predictions_train)\n",
    "\n",
    "rmse_test = np.sqrt(mean_squared_error(y_test,predictions))\n",
    "mae_test = mean_absolute_error(y_test, predictions)\n",
    "mape_test = mean_absolute_percentage_error(y_test, predictions)\n",
    "\n",
    "print(\"El RMSE de train del modelo es: {}\".format(rmse_train))\n",
    "print(f\"El MAE de train del modelo es: {mae_train}\")\n",
    "print(f\"El MAPE de train del modelo es: {100 * mape_train} %\")\n",
    "\n",
    "print(\"\")\n",
    "\n",
    "print(\"El RMSE de test del modelo es: {}\".format(rmse_test))\n",
    "print(f\"El MAE de test del modelo es: {mae_test}\")\n",
    "print(f\"El MAPE de test del modelo es: {100*mape_test} %\")"
   ]
  },
  {
   "cell_type": "code",
   "execution_count": 58,
   "metadata": {},
   "outputs": [
    {
     "name": "stdout",
     "output_type": "stream",
     "text": [
      "0.24968809657836388\n"
     ]
    }
   ],
   "source": [
    "###### c) RANDOM FOREST\n",
    "\n",
    "rf = RandomForestRegressor(n_estimators=100, random_state=42)\n",
    "rf.fit(X_train, y_train)\n",
    "\n",
    "y_pred = rf.predict(X_test)\n",
    "\n",
    "mse = mean_squared_error(y_test, y_pred)\n",
    "print(mse)"
   ]
  },
  {
   "cell_type": "code",
   "execution_count": 128,
   "metadata": {},
   "outputs": [
    {
     "data": {
      "application/vnd.plotly.v1+json": {
       "config": {
        "plotlyServerURL": "https://plot.ly"
       },
       "data": [
        {
         "alignmentgroup": "True",
         "hovertemplate": "Coefficient Value=%{x}<br>Feature=%{y}<extra></extra>",
         "legendgroup": "",
         "marker": {
          "color": "#636efa",
          "pattern": {
           "shape": ""
          }
         },
         "name": "",
         "offsetgroup": "",
         "orientation": "h",
         "showlegend": false,
         "textposition": "auto",
         "type": "bar",
         "x": [
          0.2539127339603195,
          0.010973526725299686,
          1.1183074921414409e-05,
          0,
          0,
          0,
          0,
          0
         ],
         "xaxis": "x",
         "y": [
          "MedInc",
          "HouseAge",
          "Population",
          "Longitude",
          "Latitude",
          "AveOccup",
          "AveBedrms",
          "AveRooms"
         ],
         "yaxis": "y"
        }
       ],
       "layout": {
        "barmode": "relative",
        "legend": {
         "tracegroupgap": 0
        },
        "template": {
         "data": {
          "bar": [
           {
            "error_x": {
             "color": "#2a3f5f"
            },
            "error_y": {
             "color": "#2a3f5f"
            },
            "marker": {
             "line": {
              "color": "#E5ECF6",
              "width": 0.5
             },
             "pattern": {
              "fillmode": "overlay",
              "size": 10,
              "solidity": 0.2
             }
            },
            "type": "bar"
           }
          ],
          "barpolar": [
           {
            "marker": {
             "line": {
              "color": "#E5ECF6",
              "width": 0.5
             },
             "pattern": {
              "fillmode": "overlay",
              "size": 10,
              "solidity": 0.2
             }
            },
            "type": "barpolar"
           }
          ],
          "carpet": [
           {
            "aaxis": {
             "endlinecolor": "#2a3f5f",
             "gridcolor": "white",
             "linecolor": "white",
             "minorgridcolor": "white",
             "startlinecolor": "#2a3f5f"
            },
            "baxis": {
             "endlinecolor": "#2a3f5f",
             "gridcolor": "white",
             "linecolor": "white",
             "minorgridcolor": "white",
             "startlinecolor": "#2a3f5f"
            },
            "type": "carpet"
           }
          ],
          "choropleth": [
           {
            "colorbar": {
             "outlinewidth": 0,
             "ticks": ""
            },
            "type": "choropleth"
           }
          ],
          "contour": [
           {
            "colorbar": {
             "outlinewidth": 0,
             "ticks": ""
            },
            "colorscale": [
             [
              0,
              "#0d0887"
             ],
             [
              0.1111111111111111,
              "#46039f"
             ],
             [
              0.2222222222222222,
              "#7201a8"
             ],
             [
              0.3333333333333333,
              "#9c179e"
             ],
             [
              0.4444444444444444,
              "#bd3786"
             ],
             [
              0.5555555555555556,
              "#d8576b"
             ],
             [
              0.6666666666666666,
              "#ed7953"
             ],
             [
              0.7777777777777778,
              "#fb9f3a"
             ],
             [
              0.8888888888888888,
              "#fdca26"
             ],
             [
              1,
              "#f0f921"
             ]
            ],
            "type": "contour"
           }
          ],
          "contourcarpet": [
           {
            "colorbar": {
             "outlinewidth": 0,
             "ticks": ""
            },
            "type": "contourcarpet"
           }
          ],
          "heatmap": [
           {
            "colorbar": {
             "outlinewidth": 0,
             "ticks": ""
            },
            "colorscale": [
             [
              0,
              "#0d0887"
             ],
             [
              0.1111111111111111,
              "#46039f"
             ],
             [
              0.2222222222222222,
              "#7201a8"
             ],
             [
              0.3333333333333333,
              "#9c179e"
             ],
             [
              0.4444444444444444,
              "#bd3786"
             ],
             [
              0.5555555555555556,
              "#d8576b"
             ],
             [
              0.6666666666666666,
              "#ed7953"
             ],
             [
              0.7777777777777778,
              "#fb9f3a"
             ],
             [
              0.8888888888888888,
              "#fdca26"
             ],
             [
              1,
              "#f0f921"
             ]
            ],
            "type": "heatmap"
           }
          ],
          "heatmapgl": [
           {
            "colorbar": {
             "outlinewidth": 0,
             "ticks": ""
            },
            "colorscale": [
             [
              0,
              "#0d0887"
             ],
             [
              0.1111111111111111,
              "#46039f"
             ],
             [
              0.2222222222222222,
              "#7201a8"
             ],
             [
              0.3333333333333333,
              "#9c179e"
             ],
             [
              0.4444444444444444,
              "#bd3786"
             ],
             [
              0.5555555555555556,
              "#d8576b"
             ],
             [
              0.6666666666666666,
              "#ed7953"
             ],
             [
              0.7777777777777778,
              "#fb9f3a"
             ],
             [
              0.8888888888888888,
              "#fdca26"
             ],
             [
              1,
              "#f0f921"
             ]
            ],
            "type": "heatmapgl"
           }
          ],
          "histogram": [
           {
            "marker": {
             "pattern": {
              "fillmode": "overlay",
              "size": 10,
              "solidity": 0.2
             }
            },
            "type": "histogram"
           }
          ],
          "histogram2d": [
           {
            "colorbar": {
             "outlinewidth": 0,
             "ticks": ""
            },
            "colorscale": [
             [
              0,
              "#0d0887"
             ],
             [
              0.1111111111111111,
              "#46039f"
             ],
             [
              0.2222222222222222,
              "#7201a8"
             ],
             [
              0.3333333333333333,
              "#9c179e"
             ],
             [
              0.4444444444444444,
              "#bd3786"
             ],
             [
              0.5555555555555556,
              "#d8576b"
             ],
             [
              0.6666666666666666,
              "#ed7953"
             ],
             [
              0.7777777777777778,
              "#fb9f3a"
             ],
             [
              0.8888888888888888,
              "#fdca26"
             ],
             [
              1,
              "#f0f921"
             ]
            ],
            "type": "histogram2d"
           }
          ],
          "histogram2dcontour": [
           {
            "colorbar": {
             "outlinewidth": 0,
             "ticks": ""
            },
            "colorscale": [
             [
              0,
              "#0d0887"
             ],
             [
              0.1111111111111111,
              "#46039f"
             ],
             [
              0.2222222222222222,
              "#7201a8"
             ],
             [
              0.3333333333333333,
              "#9c179e"
             ],
             [
              0.4444444444444444,
              "#bd3786"
             ],
             [
              0.5555555555555556,
              "#d8576b"
             ],
             [
              0.6666666666666666,
              "#ed7953"
             ],
             [
              0.7777777777777778,
              "#fb9f3a"
             ],
             [
              0.8888888888888888,
              "#fdca26"
             ],
             [
              1,
              "#f0f921"
             ]
            ],
            "type": "histogram2dcontour"
           }
          ],
          "mesh3d": [
           {
            "colorbar": {
             "outlinewidth": 0,
             "ticks": ""
            },
            "type": "mesh3d"
           }
          ],
          "parcoords": [
           {
            "line": {
             "colorbar": {
              "outlinewidth": 0,
              "ticks": ""
             }
            },
            "type": "parcoords"
           }
          ],
          "pie": [
           {
            "automargin": true,
            "type": "pie"
           }
          ],
          "scatter": [
           {
            "marker": {
             "colorbar": {
              "outlinewidth": 0,
              "ticks": ""
             }
            },
            "type": "scatter"
           }
          ],
          "scatter3d": [
           {
            "line": {
             "colorbar": {
              "outlinewidth": 0,
              "ticks": ""
             }
            },
            "marker": {
             "colorbar": {
              "outlinewidth": 0,
              "ticks": ""
             }
            },
            "type": "scatter3d"
           }
          ],
          "scattercarpet": [
           {
            "marker": {
             "colorbar": {
              "outlinewidth": 0,
              "ticks": ""
             }
            },
            "type": "scattercarpet"
           }
          ],
          "scattergeo": [
           {
            "marker": {
             "colorbar": {
              "outlinewidth": 0,
              "ticks": ""
             }
            },
            "type": "scattergeo"
           }
          ],
          "scattergl": [
           {
            "marker": {
             "colorbar": {
              "outlinewidth": 0,
              "ticks": ""
             }
            },
            "type": "scattergl"
           }
          ],
          "scattermapbox": [
           {
            "marker": {
             "colorbar": {
              "outlinewidth": 0,
              "ticks": ""
             }
            },
            "type": "scattermapbox"
           }
          ],
          "scatterpolar": [
           {
            "marker": {
             "colorbar": {
              "outlinewidth": 0,
              "ticks": ""
             }
            },
            "type": "scatterpolar"
           }
          ],
          "scatterpolargl": [
           {
            "marker": {
             "colorbar": {
              "outlinewidth": 0,
              "ticks": ""
             }
            },
            "type": "scatterpolargl"
           }
          ],
          "scatterternary": [
           {
            "marker": {
             "colorbar": {
              "outlinewidth": 0,
              "ticks": ""
             }
            },
            "type": "scatterternary"
           }
          ],
          "surface": [
           {
            "colorbar": {
             "outlinewidth": 0,
             "ticks": ""
            },
            "colorscale": [
             [
              0,
              "#0d0887"
             ],
             [
              0.1111111111111111,
              "#46039f"
             ],
             [
              0.2222222222222222,
              "#7201a8"
             ],
             [
              0.3333333333333333,
              "#9c179e"
             ],
             [
              0.4444444444444444,
              "#bd3786"
             ],
             [
              0.5555555555555556,
              "#d8576b"
             ],
             [
              0.6666666666666666,
              "#ed7953"
             ],
             [
              0.7777777777777778,
              "#fb9f3a"
             ],
             [
              0.8888888888888888,
              "#fdca26"
             ],
             [
              1,
              "#f0f921"
             ]
            ],
            "type": "surface"
           }
          ],
          "table": [
           {
            "cells": {
             "fill": {
              "color": "#EBF0F8"
             },
             "line": {
              "color": "white"
             }
            },
            "header": {
             "fill": {
              "color": "#C8D4E3"
             },
             "line": {
              "color": "white"
             }
            },
            "type": "table"
           }
          ]
         },
         "layout": {
          "annotationdefaults": {
           "arrowcolor": "#2a3f5f",
           "arrowhead": 0,
           "arrowwidth": 1
          },
          "autotypenumbers": "strict",
          "coloraxis": {
           "colorbar": {
            "outlinewidth": 0,
            "ticks": ""
           }
          },
          "colorscale": {
           "diverging": [
            [
             0,
             "#8e0152"
            ],
            [
             0.1,
             "#c51b7d"
            ],
            [
             0.2,
             "#de77ae"
            ],
            [
             0.3,
             "#f1b6da"
            ],
            [
             0.4,
             "#fde0ef"
            ],
            [
             0.5,
             "#f7f7f7"
            ],
            [
             0.6,
             "#e6f5d0"
            ],
            [
             0.7,
             "#b8e186"
            ],
            [
             0.8,
             "#7fbc41"
            ],
            [
             0.9,
             "#4d9221"
            ],
            [
             1,
             "#276419"
            ]
           ],
           "sequential": [
            [
             0,
             "#0d0887"
            ],
            [
             0.1111111111111111,
             "#46039f"
            ],
            [
             0.2222222222222222,
             "#7201a8"
            ],
            [
             0.3333333333333333,
             "#9c179e"
            ],
            [
             0.4444444444444444,
             "#bd3786"
            ],
            [
             0.5555555555555556,
             "#d8576b"
            ],
            [
             0.6666666666666666,
             "#ed7953"
            ],
            [
             0.7777777777777778,
             "#fb9f3a"
            ],
            [
             0.8888888888888888,
             "#fdca26"
            ],
            [
             1,
             "#f0f921"
            ]
           ],
           "sequentialminus": [
            [
             0,
             "#0d0887"
            ],
            [
             0.1111111111111111,
             "#46039f"
            ],
            [
             0.2222222222222222,
             "#7201a8"
            ],
            [
             0.3333333333333333,
             "#9c179e"
            ],
            [
             0.4444444444444444,
             "#bd3786"
            ],
            [
             0.5555555555555556,
             "#d8576b"
            ],
            [
             0.6666666666666666,
             "#ed7953"
            ],
            [
             0.7777777777777778,
             "#fb9f3a"
            ],
            [
             0.8888888888888888,
             "#fdca26"
            ],
            [
             1,
             "#f0f921"
            ]
           ]
          },
          "colorway": [
           "#636efa",
           "#EF553B",
           "#00cc96",
           "#ab63fa",
           "#FFA15A",
           "#19d3f3",
           "#FF6692",
           "#B6E880",
           "#FF97FF",
           "#FECB52"
          ],
          "font": {
           "color": "#2a3f5f"
          },
          "geo": {
           "bgcolor": "white",
           "lakecolor": "white",
           "landcolor": "#E5ECF6",
           "showlakes": true,
           "showland": true,
           "subunitcolor": "white"
          },
          "hoverlabel": {
           "align": "left"
          },
          "hovermode": "closest",
          "mapbox": {
           "style": "light"
          },
          "paper_bgcolor": "white",
          "plot_bgcolor": "#E5ECF6",
          "polar": {
           "angularaxis": {
            "gridcolor": "white",
            "linecolor": "white",
            "ticks": ""
           },
           "bgcolor": "#E5ECF6",
           "radialaxis": {
            "gridcolor": "white",
            "linecolor": "white",
            "ticks": ""
           }
          },
          "scene": {
           "xaxis": {
            "backgroundcolor": "#E5ECF6",
            "gridcolor": "white",
            "gridwidth": 2,
            "linecolor": "white",
            "showbackground": true,
            "ticks": "",
            "zerolinecolor": "white"
           },
           "yaxis": {
            "backgroundcolor": "#E5ECF6",
            "gridcolor": "white",
            "gridwidth": 2,
            "linecolor": "white",
            "showbackground": true,
            "ticks": "",
            "zerolinecolor": "white"
           },
           "zaxis": {
            "backgroundcolor": "#E5ECF6",
            "gridcolor": "white",
            "gridwidth": 2,
            "linecolor": "white",
            "showbackground": true,
            "ticks": "",
            "zerolinecolor": "white"
           }
          },
          "shapedefaults": {
           "line": {
            "color": "#2a3f5f"
           }
          },
          "ternary": {
           "aaxis": {
            "gridcolor": "white",
            "linecolor": "white",
            "ticks": ""
           },
           "baxis": {
            "gridcolor": "white",
            "linecolor": "white",
            "ticks": ""
           },
           "bgcolor": "#E5ECF6",
           "caxis": {
            "gridcolor": "white",
            "linecolor": "white",
            "ticks": ""
           }
          },
          "title": {
           "x": 0.05
          },
          "xaxis": {
           "automargin": true,
           "gridcolor": "white",
           "linecolor": "white",
           "ticks": "",
           "title": {
            "standoff": 15
           },
           "zerolinecolor": "white",
           "zerolinewidth": 2
          },
          "yaxis": {
           "automargin": true,
           "gridcolor": "white",
           "linecolor": "white",
           "ticks": "",
           "title": {
            "standoff": 15
           },
           "zerolinecolor": "white",
           "zerolinewidth": 2
          }
         }
        },
        "title": {
         "text": "Importancia regresion"
        },
        "xaxis": {
         "anchor": "y",
         "domain": [
          0,
          1
         ],
         "title": {
          "text": "Coefficient Value"
         }
        },
        "yaxis": {
         "anchor": "x",
         "domain": [
          0,
          1
         ],
         "title": {
          "text": "Feature"
         }
        }
       }
      },
      "text/html": [
       "<div>                            <div id=\"214673c4-5114-4dda-9f55-2d75b1eb47d9\" class=\"plotly-graph-div\" style=\"height:525px; width:100%;\"></div>            <script type=\"text/javascript\">                require([\"plotly\"], function(Plotly) {                    window.PLOTLYENV=window.PLOTLYENV || {};                                    if (document.getElementById(\"214673c4-5114-4dda-9f55-2d75b1eb47d9\")) {                    Plotly.newPlot(                        \"214673c4-5114-4dda-9f55-2d75b1eb47d9\",                        [{\"alignmentgroup\":\"True\",\"hovertemplate\":\"Coefficient Value=%{x}<br>Feature=%{y}<extra></extra>\",\"legendgroup\":\"\",\"marker\":{\"color\":\"#636efa\",\"pattern\":{\"shape\":\"\"}},\"name\":\"\",\"offsetgroup\":\"\",\"orientation\":\"h\",\"showlegend\":false,\"textposition\":\"auto\",\"x\":[0.2539127339603195,0.010973526725299686,1.1183074921414409e-05,-0.0,-0.0,-0.0,-0.0,0.0],\"xaxis\":\"x\",\"y\":[\"MedInc\",\"HouseAge\",\"Population\",\"Longitude\",\"Latitude\",\"AveOccup\",\"AveBedrms\",\"AveRooms\"],\"yaxis\":\"y\",\"type\":\"bar\"}],                        {\"template\":{\"data\":{\"bar\":[{\"error_x\":{\"color\":\"#2a3f5f\"},\"error_y\":{\"color\":\"#2a3f5f\"},\"marker\":{\"line\":{\"color\":\"#E5ECF6\",\"width\":0.5},\"pattern\":{\"fillmode\":\"overlay\",\"size\":10,\"solidity\":0.2}},\"type\":\"bar\"}],\"barpolar\":[{\"marker\":{\"line\":{\"color\":\"#E5ECF6\",\"width\":0.5},\"pattern\":{\"fillmode\":\"overlay\",\"size\":10,\"solidity\":0.2}},\"type\":\"barpolar\"}],\"carpet\":[{\"aaxis\":{\"endlinecolor\":\"#2a3f5f\",\"gridcolor\":\"white\",\"linecolor\":\"white\",\"minorgridcolor\":\"white\",\"startlinecolor\":\"#2a3f5f\"},\"baxis\":{\"endlinecolor\":\"#2a3f5f\",\"gridcolor\":\"white\",\"linecolor\":\"white\",\"minorgridcolor\":\"white\",\"startlinecolor\":\"#2a3f5f\"},\"type\":\"carpet\"}],\"choropleth\":[{\"colorbar\":{\"outlinewidth\":0,\"ticks\":\"\"},\"type\":\"choropleth\"}],\"contour\":[{\"colorbar\":{\"outlinewidth\":0,\"ticks\":\"\"},\"colorscale\":[[0.0,\"#0d0887\"],[0.1111111111111111,\"#46039f\"],[0.2222222222222222,\"#7201a8\"],[0.3333333333333333,\"#9c179e\"],[0.4444444444444444,\"#bd3786\"],[0.5555555555555556,\"#d8576b\"],[0.6666666666666666,\"#ed7953\"],[0.7777777777777778,\"#fb9f3a\"],[0.8888888888888888,\"#fdca26\"],[1.0,\"#f0f921\"]],\"type\":\"contour\"}],\"contourcarpet\":[{\"colorbar\":{\"outlinewidth\":0,\"ticks\":\"\"},\"type\":\"contourcarpet\"}],\"heatmap\":[{\"colorbar\":{\"outlinewidth\":0,\"ticks\":\"\"},\"colorscale\":[[0.0,\"#0d0887\"],[0.1111111111111111,\"#46039f\"],[0.2222222222222222,\"#7201a8\"],[0.3333333333333333,\"#9c179e\"],[0.4444444444444444,\"#bd3786\"],[0.5555555555555556,\"#d8576b\"],[0.6666666666666666,\"#ed7953\"],[0.7777777777777778,\"#fb9f3a\"],[0.8888888888888888,\"#fdca26\"],[1.0,\"#f0f921\"]],\"type\":\"heatmap\"}],\"heatmapgl\":[{\"colorbar\":{\"outlinewidth\":0,\"ticks\":\"\"},\"colorscale\":[[0.0,\"#0d0887\"],[0.1111111111111111,\"#46039f\"],[0.2222222222222222,\"#7201a8\"],[0.3333333333333333,\"#9c179e\"],[0.4444444444444444,\"#bd3786\"],[0.5555555555555556,\"#d8576b\"],[0.6666666666666666,\"#ed7953\"],[0.7777777777777778,\"#fb9f3a\"],[0.8888888888888888,\"#fdca26\"],[1.0,\"#f0f921\"]],\"type\":\"heatmapgl\"}],\"histogram\":[{\"marker\":{\"pattern\":{\"fillmode\":\"overlay\",\"size\":10,\"solidity\":0.2}},\"type\":\"histogram\"}],\"histogram2d\":[{\"colorbar\":{\"outlinewidth\":0,\"ticks\":\"\"},\"colorscale\":[[0.0,\"#0d0887\"],[0.1111111111111111,\"#46039f\"],[0.2222222222222222,\"#7201a8\"],[0.3333333333333333,\"#9c179e\"],[0.4444444444444444,\"#bd3786\"],[0.5555555555555556,\"#d8576b\"],[0.6666666666666666,\"#ed7953\"],[0.7777777777777778,\"#fb9f3a\"],[0.8888888888888888,\"#fdca26\"],[1.0,\"#f0f921\"]],\"type\":\"histogram2d\"}],\"histogram2dcontour\":[{\"colorbar\":{\"outlinewidth\":0,\"ticks\":\"\"},\"colorscale\":[[0.0,\"#0d0887\"],[0.1111111111111111,\"#46039f\"],[0.2222222222222222,\"#7201a8\"],[0.3333333333333333,\"#9c179e\"],[0.4444444444444444,\"#bd3786\"],[0.5555555555555556,\"#d8576b\"],[0.6666666666666666,\"#ed7953\"],[0.7777777777777778,\"#fb9f3a\"],[0.8888888888888888,\"#fdca26\"],[1.0,\"#f0f921\"]],\"type\":\"histogram2dcontour\"}],\"mesh3d\":[{\"colorbar\":{\"outlinewidth\":0,\"ticks\":\"\"},\"type\":\"mesh3d\"}],\"parcoords\":[{\"line\":{\"colorbar\":{\"outlinewidth\":0,\"ticks\":\"\"}},\"type\":\"parcoords\"}],\"pie\":[{\"automargin\":true,\"type\":\"pie\"}],\"scatter\":[{\"marker\":{\"colorbar\":{\"outlinewidth\":0,\"ticks\":\"\"}},\"type\":\"scatter\"}],\"scatter3d\":[{\"line\":{\"colorbar\":{\"outlinewidth\":0,\"ticks\":\"\"}},\"marker\":{\"colorbar\":{\"outlinewidth\":0,\"ticks\":\"\"}},\"type\":\"scatter3d\"}],\"scattercarpet\":[{\"marker\":{\"colorbar\":{\"outlinewidth\":0,\"ticks\":\"\"}},\"type\":\"scattercarpet\"}],\"scattergeo\":[{\"marker\":{\"colorbar\":{\"outlinewidth\":0,\"ticks\":\"\"}},\"type\":\"scattergeo\"}],\"scattergl\":[{\"marker\":{\"colorbar\":{\"outlinewidth\":0,\"ticks\":\"\"}},\"type\":\"scattergl\"}],\"scattermapbox\":[{\"marker\":{\"colorbar\":{\"outlinewidth\":0,\"ticks\":\"\"}},\"type\":\"scattermapbox\"}],\"scatterpolar\":[{\"marker\":{\"colorbar\":{\"outlinewidth\":0,\"ticks\":\"\"}},\"type\":\"scatterpolar\"}],\"scatterpolargl\":[{\"marker\":{\"colorbar\":{\"outlinewidth\":0,\"ticks\":\"\"}},\"type\":\"scatterpolargl\"}],\"scatterternary\":[{\"marker\":{\"colorbar\":{\"outlinewidth\":0,\"ticks\":\"\"}},\"type\":\"scatterternary\"}],\"surface\":[{\"colorbar\":{\"outlinewidth\":0,\"ticks\":\"\"},\"colorscale\":[[0.0,\"#0d0887\"],[0.1111111111111111,\"#46039f\"],[0.2222222222222222,\"#7201a8\"],[0.3333333333333333,\"#9c179e\"],[0.4444444444444444,\"#bd3786\"],[0.5555555555555556,\"#d8576b\"],[0.6666666666666666,\"#ed7953\"],[0.7777777777777778,\"#fb9f3a\"],[0.8888888888888888,\"#fdca26\"],[1.0,\"#f0f921\"]],\"type\":\"surface\"}],\"table\":[{\"cells\":{\"fill\":{\"color\":\"#EBF0F8\"},\"line\":{\"color\":\"white\"}},\"header\":{\"fill\":{\"color\":\"#C8D4E3\"},\"line\":{\"color\":\"white\"}},\"type\":\"table\"}]},\"layout\":{\"annotationdefaults\":{\"arrowcolor\":\"#2a3f5f\",\"arrowhead\":0,\"arrowwidth\":1},\"autotypenumbers\":\"strict\",\"coloraxis\":{\"colorbar\":{\"outlinewidth\":0,\"ticks\":\"\"}},\"colorscale\":{\"diverging\":[[0,\"#8e0152\"],[0.1,\"#c51b7d\"],[0.2,\"#de77ae\"],[0.3,\"#f1b6da\"],[0.4,\"#fde0ef\"],[0.5,\"#f7f7f7\"],[0.6,\"#e6f5d0\"],[0.7,\"#b8e186\"],[0.8,\"#7fbc41\"],[0.9,\"#4d9221\"],[1,\"#276419\"]],\"sequential\":[[0.0,\"#0d0887\"],[0.1111111111111111,\"#46039f\"],[0.2222222222222222,\"#7201a8\"],[0.3333333333333333,\"#9c179e\"],[0.4444444444444444,\"#bd3786\"],[0.5555555555555556,\"#d8576b\"],[0.6666666666666666,\"#ed7953\"],[0.7777777777777778,\"#fb9f3a\"],[0.8888888888888888,\"#fdca26\"],[1.0,\"#f0f921\"]],\"sequentialminus\":[[0.0,\"#0d0887\"],[0.1111111111111111,\"#46039f\"],[0.2222222222222222,\"#7201a8\"],[0.3333333333333333,\"#9c179e\"],[0.4444444444444444,\"#bd3786\"],[0.5555555555555556,\"#d8576b\"],[0.6666666666666666,\"#ed7953\"],[0.7777777777777778,\"#fb9f3a\"],[0.8888888888888888,\"#fdca26\"],[1.0,\"#f0f921\"]]},\"colorway\":[\"#636efa\",\"#EF553B\",\"#00cc96\",\"#ab63fa\",\"#FFA15A\",\"#19d3f3\",\"#FF6692\",\"#B6E880\",\"#FF97FF\",\"#FECB52\"],\"font\":{\"color\":\"#2a3f5f\"},\"geo\":{\"bgcolor\":\"white\",\"lakecolor\":\"white\",\"landcolor\":\"#E5ECF6\",\"showlakes\":true,\"showland\":true,\"subunitcolor\":\"white\"},\"hoverlabel\":{\"align\":\"left\"},\"hovermode\":\"closest\",\"mapbox\":{\"style\":\"light\"},\"paper_bgcolor\":\"white\",\"plot_bgcolor\":\"#E5ECF6\",\"polar\":{\"angularaxis\":{\"gridcolor\":\"white\",\"linecolor\":\"white\",\"ticks\":\"\"},\"bgcolor\":\"#E5ECF6\",\"radialaxis\":{\"gridcolor\":\"white\",\"linecolor\":\"white\",\"ticks\":\"\"}},\"scene\":{\"xaxis\":{\"backgroundcolor\":\"#E5ECF6\",\"gridcolor\":\"white\",\"gridwidth\":2,\"linecolor\":\"white\",\"showbackground\":true,\"ticks\":\"\",\"zerolinecolor\":\"white\"},\"yaxis\":{\"backgroundcolor\":\"#E5ECF6\",\"gridcolor\":\"white\",\"gridwidth\":2,\"linecolor\":\"white\",\"showbackground\":true,\"ticks\":\"\",\"zerolinecolor\":\"white\"},\"zaxis\":{\"backgroundcolor\":\"#E5ECF6\",\"gridcolor\":\"white\",\"gridwidth\":2,\"linecolor\":\"white\",\"showbackground\":true,\"ticks\":\"\",\"zerolinecolor\":\"white\"}},\"shapedefaults\":{\"line\":{\"color\":\"#2a3f5f\"}},\"ternary\":{\"aaxis\":{\"gridcolor\":\"white\",\"linecolor\":\"white\",\"ticks\":\"\"},\"baxis\":{\"gridcolor\":\"white\",\"linecolor\":\"white\",\"ticks\":\"\"},\"bgcolor\":\"#E5ECF6\",\"caxis\":{\"gridcolor\":\"white\",\"linecolor\":\"white\",\"ticks\":\"\"}},\"title\":{\"x\":0.05},\"xaxis\":{\"automargin\":true,\"gridcolor\":\"white\",\"linecolor\":\"white\",\"ticks\":\"\",\"title\":{\"standoff\":15},\"zerolinecolor\":\"white\",\"zerolinewidth\":2},\"yaxis\":{\"automargin\":true,\"gridcolor\":\"white\",\"linecolor\":\"white\",\"ticks\":\"\",\"title\":{\"standoff\":15},\"zerolinecolor\":\"white\",\"zerolinewidth\":2}}},\"xaxis\":{\"anchor\":\"y\",\"domain\":[0.0,1.0],\"title\":{\"text\":\"Coefficient Value\"}},\"yaxis\":{\"anchor\":\"x\",\"domain\":[0.0,1.0],\"title\":{\"text\":\"Feature\"}},\"legend\":{\"tracegroupgap\":0},\"title\":{\"text\":\"Importancia regresion\"},\"barmode\":\"relative\"},                        {\"responsive\": true}                    ).then(function(){\n",
       "                            \n",
       "var gd = document.getElementById('214673c4-5114-4dda-9f55-2d75b1eb47d9');\n",
       "var x = new MutationObserver(function (mutations, observer) {{\n",
       "        var display = window.getComputedStyle(gd).display;\n",
       "        if (!display || display === 'none') {{\n",
       "            console.log([gd, 'removed!']);\n",
       "            Plotly.purge(gd);\n",
       "            observer.disconnect();\n",
       "        }}\n",
       "}});\n",
       "\n",
       "// Listen for the removal of the full notebook cells\n",
       "var notebookContainer = gd.closest('#notebook-container');\n",
       "if (notebookContainer) {{\n",
       "    x.observe(notebookContainer, {childList: true});\n",
       "}}\n",
       "\n",
       "// Listen for the clearing of the current output cell\n",
       "var outputEl = gd.closest('.output');\n",
       "if (outputEl) {{\n",
       "    x.observe(outputEl, {childList: true});\n",
       "}}\n",
       "\n",
       "                        })                };                });            </script>        </div>"
      ]
     },
     "metadata": {},
     "output_type": "display_data"
    }
   ],
   "source": [
    "###### d)\n",
    "\n",
    "feature_names = california_housing['feature_names']\n",
    "\n",
    "coefficients = reg.coef_\n",
    "sorted_idx = np.argsort(np.abs(coefficients))[::-1]\n",
    "\n",
    "fig = px.bar(x=np.array(coefficients)[sorted_idx],\n",
    "             y=np.array(feature_names)[sorted_idx],\n",
    "             orientation='h',\n",
    "             title='Importancia regresion',\n",
    "             labels={'x': 'Coefficient Value', 'y': 'Feature'})\n",
    "\n",
    "fig.show()"
   ]
  },
  {
   "cell_type": "code",
   "execution_count": null,
   "metadata": {},
   "outputs": [],
   "source": []
  },
  {
   "cell_type": "markdown",
   "metadata": {
    "id": "YhuImkegUE5a"
   },
   "source": [
    "## Ejercicio 3 (4 puntos):\n"
   ]
  },
  {
   "cell_type": "markdown",
   "metadata": {
    "id": "kUZlJzRKU1p0"
   },
   "source": [
    "*Consideremos* el dataset que contiene __The Most Streamed Spotify Songs 2023__ que se encuentra en el respositorio.\n",
    "\n",
    "Información de las variables:\n",
    "\n",
    "- track_name: Name of the song\n",
    "- artist(s)_name: Name of the artist(s) of the song\n",
    "- vartist_count: Number of artists contributing to the song\n",
    "- released_year: Year when the song was released\n",
    "- released_month: Month when the song was released\n",
    "- release_day: Day of the month when the song was released\n",
    "- in_spotify_playlists: Number of Spotify playlists the song is included in\n",
    "- in_spotify_charts: Presence and rank of the song on Spotify charts\n",
    "- streams: Total number of streams on Spotify\n",
    "- in_apple_playlists: Number of Apple Music playlists the song is included in\n",
    "- in_apple_charts: Presence and rank of the song on Apple Music charts\n",
    "- in_deezer_playlists: Number of Deezer playlists the song is included in\n",
    "- in_deezer_charts: Presence and rank of the song on Deezer charts\n",
    "- in_shazam_charts: Presence and rank of the song on Shazam charts\n",
    "- bpm: Beats per minute, a measure of song tempo\n",
    "- key: Key of the song\n",
    "- mode: Mode of the song (major or minor)\n",
    "- danceability_%: Percentage indicating how suitable the song is for dancing\n",
    "- valence_%: Positivity of the song's musical content\n",
    "- energy_%: Perceived energy level of the song\n",
    "- acousticness_%: Amount of acoustic sound in the song\n",
    "- instrumentalness_%: Amount of instrumental content in the song\n",
    "- liveness_%: Presence of live performance elements\n",
    "- speechiness_%: Amount of spoken words in the song\n",
    "\n",
    "Para las respuestas b, c, d, e, f y g es imperativo acompañarlas respuestas con una visualización.\n",
    "\n",
    "a) Lee el fichero en formato dataframe, aplica la función del ejercicio 2.b, elimina NAs y convierte a integer si fuera necesario. **(0.25 puntos)**\n",
    "\n",
    "b) ¿Cuántos artistas únicos hay? **(0.25 puntos)**\n",
    "\n",
    "c) ¿Cuál es la distribución de reproducciones? **(0.5 puntos)**\n",
    "\n",
    "d) ¿Existe una diferencia signitificativa en las reproducciones entre las canciones de un solo artista y las de más de uno? **(0.5 puntos)**\n",
    "\n",
    "e) ¿Cuáles son las propiedades de una canción que mejor correlan con el número de reproducciones de una canción? **(0.5 puntos)**\n",
    "\n",
    "f) ¿Cuáles son las variables que mejor predicen las canciones que están por encima el percentil 50? **(1 puntos)**\n",
    "\n",
    "*Nota: Crea una variable binaria (Hit/No Hit) en base a 3.c, crea una regresión logística y visualiza sus coeficientes.*\n",
    "\n",
    "g) Agrupa los 4 gráficos realizados en uno solo y haz una recomendación a un sello discográfico para producir un nuevo hit. **(1 puntos)**\n"
   ]
  },
  {
   "cell_type": "code",
   "execution_count": 66,
   "metadata": {
    "id": "nN73ExlTmNE_"
   },
   "outputs": [
    {
     "name": "stdout",
     "output_type": "stream",
     "text": [
      "<class 'pandas.core.frame.DataFrame'>\n",
      "RangeIndex: 953 entries, 0 to 952\n",
      "Data columns (total 24 columns):\n",
      " #   Column                Non-Null Count  Dtype \n",
      "---  ------                --------------  ----- \n",
      " 0   track_name            953 non-null    object\n",
      " 1   artist(s)_name        953 non-null    object\n",
      " 2   artist_count          953 non-null    int64 \n",
      " 3   released_year         953 non-null    int64 \n",
      " 4   released_month        953 non-null    int64 \n",
      " 5   released_day          953 non-null    int64 \n",
      " 6   in_spotify_playlists  953 non-null    int64 \n",
      " 7   in_spotify_charts     953 non-null    int64 \n",
      " 8   streams               953 non-null    object\n",
      " 9   in_apple_playlists    953 non-null    int64 \n",
      " 10  in_apple_charts       953 non-null    int64 \n",
      " 11  in_deezer_playlists   953 non-null    object\n",
      " 12  in_deezer_charts      953 non-null    int64 \n",
      " 13  in_shazam_charts      903 non-null    object\n",
      " 14  bpm                   953 non-null    int64 \n",
      " 15  key                   858 non-null    object\n",
      " 16  mode                  953 non-null    object\n",
      " 17  danceability_%        953 non-null    int64 \n",
      " 18  valence_%             953 non-null    int64 \n",
      " 19  energy_%              953 non-null    int64 \n",
      " 20  acousticness_%        953 non-null    int64 \n",
      " 21  instrumentalness_%    953 non-null    int64 \n",
      " 22  liveness_%            953 non-null    int64 \n",
      " 23  speechiness_%         953 non-null    int64 \n",
      "dtypes: int64(17), object(7)\n",
      "memory usage: 178.8+ KB\n",
      "None\n",
      "(953, 24)\n",
      "track_name               0\n",
      "artist(s)_name           0\n",
      "artist_count             0\n",
      "released_year            0\n",
      "released_month           0\n",
      "released_day             0\n",
      "in_spotify_playlists     0\n",
      "in_spotify_charts        0\n",
      "streams                  0\n",
      "in_apple_playlists       0\n",
      "in_apple_charts          0\n",
      "in_deezer_playlists      0\n",
      "in_deezer_charts         0\n",
      "in_shazam_charts        50\n",
      "bpm                      0\n",
      "key                     95\n",
      "mode                     0\n",
      "danceability_%           0\n",
      "valence_%                0\n",
      "energy_%                 0\n",
      "acousticness_%           0\n",
      "instrumentalness_%       0\n",
      "liveness_%               0\n",
      "speechiness_%            0\n",
      "dtype: int64\n",
      "       artist_count  released_year  released_month  released_day  \\\n",
      "count    953.000000     953.000000      953.000000    953.000000   \n",
      "mean       1.556139    2018.238195        6.033578     13.930745   \n",
      "std        0.893044      11.116218        3.566435      9.201949   \n",
      "min        1.000000    1930.000000        1.000000      1.000000   \n",
      "25%        1.000000    2020.000000        3.000000      6.000000   \n",
      "50%        1.000000    2022.000000        6.000000     13.000000   \n",
      "75%        2.000000    2022.000000        9.000000     22.000000   \n",
      "max        8.000000    2023.000000       12.000000     31.000000   \n",
      "\n",
      "       in_spotify_playlists  in_spotify_charts  in_apple_playlists  \\\n",
      "count            953.000000         953.000000          953.000000   \n",
      "mean            5200.124869          12.009444           67.812172   \n",
      "std             7897.608990          19.575992           86.441493   \n",
      "min               31.000000           0.000000            0.000000   \n",
      "25%              875.000000           0.000000           13.000000   \n",
      "50%             2224.000000           3.000000           34.000000   \n",
      "75%             5542.000000          16.000000           88.000000   \n",
      "max            52898.000000         147.000000          672.000000   \n",
      "\n",
      "       in_apple_charts  in_deezer_charts         bpm  danceability_%  \\\n",
      "count       953.000000        953.000000  953.000000       953.00000   \n",
      "mean         51.908709          2.666317  122.540399        66.96957   \n",
      "std          50.630241          6.035599   28.057802        14.63061   \n",
      "min           0.000000          0.000000   65.000000        23.00000   \n",
      "25%           7.000000          0.000000  100.000000        57.00000   \n",
      "50%          38.000000          0.000000  121.000000        69.00000   \n",
      "75%          87.000000          2.000000  140.000000        78.00000   \n",
      "max         275.000000         58.000000  206.000000        96.00000   \n",
      "\n",
      "        valence_%    energy_%  acousticness_%  instrumentalness_%  liveness_%  \\\n",
      "count  953.000000  953.000000      953.000000          953.000000  953.000000   \n",
      "mean    51.431270   64.279119       27.057712            1.581322   18.213012   \n",
      "std     23.480632   16.550526       25.996077            8.409800   13.711223   \n",
      "min      4.000000    9.000000        0.000000            0.000000    3.000000   \n",
      "25%     32.000000   53.000000        6.000000            0.000000   10.000000   \n",
      "50%     51.000000   66.000000       18.000000            0.000000   12.000000   \n",
      "75%     70.000000   77.000000       43.000000            0.000000   24.000000   \n",
      "max     97.000000   97.000000       97.000000           91.000000   97.000000   \n",
      "\n",
      "       speechiness_%  \n",
      "count     953.000000  \n",
      "mean       10.131165  \n",
      "std         9.912888  \n",
      "min         2.000000  \n",
      "25%         4.000000  \n",
      "50%         6.000000  \n",
      "75%        11.000000  \n",
      "max        64.000000  \n"
     ]
    }
   ],
   "source": [
    "###### a)\n",
    "\n",
    "data = pd.read_csv('spotify-2023.csv', encoding = 'ISO-8859-1')\n",
    "analizar(data)"
   ]
  },
  {
   "cell_type": "code",
   "execution_count": 69,
   "metadata": {},
   "outputs": [],
   "source": [
    "cleanData = data.dropna()"
   ]
  },
  {
   "cell_type": "code",
   "execution_count": 77,
   "metadata": {},
   "outputs": [
    {
     "data": {
      "text/html": [
       "<div>\n",
       "<style scoped>\n",
       "    .dataframe tbody tr th:only-of-type {\n",
       "        vertical-align: middle;\n",
       "    }\n",
       "\n",
       "    .dataframe tbody tr th {\n",
       "        vertical-align: top;\n",
       "    }\n",
       "\n",
       "    .dataframe thead th {\n",
       "        text-align: right;\n",
       "    }\n",
       "</style>\n",
       "<table border=\"1\" class=\"dataframe\">\n",
       "  <thead>\n",
       "    <tr style=\"text-align: right;\">\n",
       "      <th></th>\n",
       "      <th>track_name</th>\n",
       "      <th>artist(s)_name</th>\n",
       "      <th>artist_count</th>\n",
       "      <th>released_year</th>\n",
       "      <th>released_month</th>\n",
       "      <th>released_day</th>\n",
       "      <th>in_spotify_playlists</th>\n",
       "      <th>in_spotify_charts</th>\n",
       "      <th>streams</th>\n",
       "      <th>in_apple_playlists</th>\n",
       "      <th>...</th>\n",
       "      <th>bpm</th>\n",
       "      <th>key</th>\n",
       "      <th>mode</th>\n",
       "      <th>danceability_%</th>\n",
       "      <th>valence_%</th>\n",
       "      <th>energy_%</th>\n",
       "      <th>acousticness_%</th>\n",
       "      <th>instrumentalness_%</th>\n",
       "      <th>liveness_%</th>\n",
       "      <th>speechiness_%</th>\n",
       "    </tr>\n",
       "  </thead>\n",
       "  <tbody>\n",
       "    <tr>\n",
       "      <th>0</th>\n",
       "      <td>Seven (feat. Latto) (Explicit Ver.)</td>\n",
       "      <td>Latto, Jung Kook</td>\n",
       "      <td>2</td>\n",
       "      <td>2023</td>\n",
       "      <td>7</td>\n",
       "      <td>14</td>\n",
       "      <td>553</td>\n",
       "      <td>147</td>\n",
       "      <td>141381703</td>\n",
       "      <td>43</td>\n",
       "      <td>...</td>\n",
       "      <td>125</td>\n",
       "      <td>B</td>\n",
       "      <td>Major</td>\n",
       "      <td>80</td>\n",
       "      <td>89</td>\n",
       "      <td>83</td>\n",
       "      <td>31</td>\n",
       "      <td>0</td>\n",
       "      <td>8</td>\n",
       "      <td>4</td>\n",
       "    </tr>\n",
       "    <tr>\n",
       "      <th>1</th>\n",
       "      <td>LALA</td>\n",
       "      <td>Myke Towers</td>\n",
       "      <td>1</td>\n",
       "      <td>2023</td>\n",
       "      <td>3</td>\n",
       "      <td>23</td>\n",
       "      <td>1474</td>\n",
       "      <td>48</td>\n",
       "      <td>133716286</td>\n",
       "      <td>48</td>\n",
       "      <td>...</td>\n",
       "      <td>92</td>\n",
       "      <td>C#</td>\n",
       "      <td>Major</td>\n",
       "      <td>71</td>\n",
       "      <td>61</td>\n",
       "      <td>74</td>\n",
       "      <td>7</td>\n",
       "      <td>0</td>\n",
       "      <td>10</td>\n",
       "      <td>4</td>\n",
       "    </tr>\n",
       "    <tr>\n",
       "      <th>2</th>\n",
       "      <td>vampire</td>\n",
       "      <td>Olivia Rodrigo</td>\n",
       "      <td>1</td>\n",
       "      <td>2023</td>\n",
       "      <td>6</td>\n",
       "      <td>30</td>\n",
       "      <td>1397</td>\n",
       "      <td>113</td>\n",
       "      <td>140003974</td>\n",
       "      <td>94</td>\n",
       "      <td>...</td>\n",
       "      <td>138</td>\n",
       "      <td>F</td>\n",
       "      <td>Major</td>\n",
       "      <td>51</td>\n",
       "      <td>32</td>\n",
       "      <td>53</td>\n",
       "      <td>17</td>\n",
       "      <td>0</td>\n",
       "      <td>31</td>\n",
       "      <td>6</td>\n",
       "    </tr>\n",
       "    <tr>\n",
       "      <th>3</th>\n",
       "      <td>Cruel Summer</td>\n",
       "      <td>Taylor Swift</td>\n",
       "      <td>1</td>\n",
       "      <td>2019</td>\n",
       "      <td>8</td>\n",
       "      <td>23</td>\n",
       "      <td>7858</td>\n",
       "      <td>100</td>\n",
       "      <td>800840817</td>\n",
       "      <td>116</td>\n",
       "      <td>...</td>\n",
       "      <td>170</td>\n",
       "      <td>A</td>\n",
       "      <td>Major</td>\n",
       "      <td>55</td>\n",
       "      <td>58</td>\n",
       "      <td>72</td>\n",
       "      <td>11</td>\n",
       "      <td>0</td>\n",
       "      <td>11</td>\n",
       "      <td>15</td>\n",
       "    </tr>\n",
       "    <tr>\n",
       "      <th>4</th>\n",
       "      <td>WHERE SHE GOES</td>\n",
       "      <td>Bad Bunny</td>\n",
       "      <td>1</td>\n",
       "      <td>2023</td>\n",
       "      <td>5</td>\n",
       "      <td>18</td>\n",
       "      <td>3133</td>\n",
       "      <td>50</td>\n",
       "      <td>303236322</td>\n",
       "      <td>84</td>\n",
       "      <td>...</td>\n",
       "      <td>144</td>\n",
       "      <td>A</td>\n",
       "      <td>Minor</td>\n",
       "      <td>65</td>\n",
       "      <td>23</td>\n",
       "      <td>80</td>\n",
       "      <td>14</td>\n",
       "      <td>63</td>\n",
       "      <td>11</td>\n",
       "      <td>6</td>\n",
       "    </tr>\n",
       "    <tr>\n",
       "      <th>5</th>\n",
       "      <td>Sprinter</td>\n",
       "      <td>Dave, Central Cee</td>\n",
       "      <td>2</td>\n",
       "      <td>2023</td>\n",
       "      <td>6</td>\n",
       "      <td>1</td>\n",
       "      <td>2186</td>\n",
       "      <td>91</td>\n",
       "      <td>183706234</td>\n",
       "      <td>67</td>\n",
       "      <td>...</td>\n",
       "      <td>141</td>\n",
       "      <td>C#</td>\n",
       "      <td>Major</td>\n",
       "      <td>92</td>\n",
       "      <td>66</td>\n",
       "      <td>58</td>\n",
       "      <td>19</td>\n",
       "      <td>0</td>\n",
       "      <td>8</td>\n",
       "      <td>24</td>\n",
       "    </tr>\n",
       "    <tr>\n",
       "      <th>6</th>\n",
       "      <td>Ella Baila Sola</td>\n",
       "      <td>Eslabon Armado, Peso Pluma</td>\n",
       "      <td>2</td>\n",
       "      <td>2023</td>\n",
       "      <td>3</td>\n",
       "      <td>16</td>\n",
       "      <td>3090</td>\n",
       "      <td>50</td>\n",
       "      <td>725980112</td>\n",
       "      <td>34</td>\n",
       "      <td>...</td>\n",
       "      <td>148</td>\n",
       "      <td>F</td>\n",
       "      <td>Minor</td>\n",
       "      <td>67</td>\n",
       "      <td>83</td>\n",
       "      <td>76</td>\n",
       "      <td>48</td>\n",
       "      <td>0</td>\n",
       "      <td>8</td>\n",
       "      <td>3</td>\n",
       "    </tr>\n",
       "    <tr>\n",
       "      <th>7</th>\n",
       "      <td>Columbia</td>\n",
       "      <td>Quevedo</td>\n",
       "      <td>1</td>\n",
       "      <td>2023</td>\n",
       "      <td>7</td>\n",
       "      <td>7</td>\n",
       "      <td>714</td>\n",
       "      <td>43</td>\n",
       "      <td>58149378</td>\n",
       "      <td>25</td>\n",
       "      <td>...</td>\n",
       "      <td>100</td>\n",
       "      <td>F</td>\n",
       "      <td>Major</td>\n",
       "      <td>67</td>\n",
       "      <td>26</td>\n",
       "      <td>71</td>\n",
       "      <td>37</td>\n",
       "      <td>0</td>\n",
       "      <td>11</td>\n",
       "      <td>4</td>\n",
       "    </tr>\n",
       "    <tr>\n",
       "      <th>8</th>\n",
       "      <td>fukumean</td>\n",
       "      <td>Gunna</td>\n",
       "      <td>1</td>\n",
       "      <td>2023</td>\n",
       "      <td>5</td>\n",
       "      <td>15</td>\n",
       "      <td>1096</td>\n",
       "      <td>83</td>\n",
       "      <td>95217315</td>\n",
       "      <td>60</td>\n",
       "      <td>...</td>\n",
       "      <td>130</td>\n",
       "      <td>C#</td>\n",
       "      <td>Minor</td>\n",
       "      <td>85</td>\n",
       "      <td>22</td>\n",
       "      <td>62</td>\n",
       "      <td>12</td>\n",
       "      <td>0</td>\n",
       "      <td>28</td>\n",
       "      <td>9</td>\n",
       "    </tr>\n",
       "    <tr>\n",
       "      <th>9</th>\n",
       "      <td>La Bebe - Remix</td>\n",
       "      <td>Peso Pluma, Yng Lvcas</td>\n",
       "      <td>2</td>\n",
       "      <td>2023</td>\n",
       "      <td>3</td>\n",
       "      <td>17</td>\n",
       "      <td>2953</td>\n",
       "      <td>44</td>\n",
       "      <td>553634067</td>\n",
       "      <td>49</td>\n",
       "      <td>...</td>\n",
       "      <td>170</td>\n",
       "      <td>D</td>\n",
       "      <td>Minor</td>\n",
       "      <td>81</td>\n",
       "      <td>56</td>\n",
       "      <td>48</td>\n",
       "      <td>21</td>\n",
       "      <td>0</td>\n",
       "      <td>8</td>\n",
       "      <td>33</td>\n",
       "    </tr>\n",
       "    <tr>\n",
       "      <th>10</th>\n",
       "      <td>un x100to</td>\n",
       "      <td>Bad Bunny, Grupo Frontera</td>\n",
       "      <td>2</td>\n",
       "      <td>2023</td>\n",
       "      <td>4</td>\n",
       "      <td>17</td>\n",
       "      <td>2876</td>\n",
       "      <td>40</td>\n",
       "      <td>505671438</td>\n",
       "      <td>41</td>\n",
       "      <td>...</td>\n",
       "      <td>83</td>\n",
       "      <td>F#</td>\n",
       "      <td>Minor</td>\n",
       "      <td>57</td>\n",
       "      <td>56</td>\n",
       "      <td>72</td>\n",
       "      <td>23</td>\n",
       "      <td>0</td>\n",
       "      <td>27</td>\n",
       "      <td>5</td>\n",
       "    </tr>\n",
       "    <tr>\n",
       "      <th>11</th>\n",
       "      <td>Super Shy</td>\n",
       "      <td>NewJeans</td>\n",
       "      <td>1</td>\n",
       "      <td>2023</td>\n",
       "      <td>7</td>\n",
       "      <td>7</td>\n",
       "      <td>422</td>\n",
       "      <td>55</td>\n",
       "      <td>58255150</td>\n",
       "      <td>37</td>\n",
       "      <td>...</td>\n",
       "      <td>150</td>\n",
       "      <td>F</td>\n",
       "      <td>Minor</td>\n",
       "      <td>78</td>\n",
       "      <td>52</td>\n",
       "      <td>82</td>\n",
       "      <td>18</td>\n",
       "      <td>0</td>\n",
       "      <td>15</td>\n",
       "      <td>7</td>\n",
       "    </tr>\n",
       "    <tr>\n",
       "      <th>13</th>\n",
       "      <td>Daylight</td>\n",
       "      <td>David Kushner</td>\n",
       "      <td>1</td>\n",
       "      <td>2023</td>\n",
       "      <td>4</td>\n",
       "      <td>14</td>\n",
       "      <td>3528</td>\n",
       "      <td>98</td>\n",
       "      <td>387570742</td>\n",
       "      <td>80</td>\n",
       "      <td>...</td>\n",
       "      <td>130</td>\n",
       "      <td>D</td>\n",
       "      <td>Minor</td>\n",
       "      <td>51</td>\n",
       "      <td>32</td>\n",
       "      <td>43</td>\n",
       "      <td>83</td>\n",
       "      <td>0</td>\n",
       "      <td>9</td>\n",
       "      <td>3</td>\n",
       "    </tr>\n",
       "    <tr>\n",
       "      <th>15</th>\n",
       "      <td>Kill Bill</td>\n",
       "      <td>SZA</td>\n",
       "      <td>1</td>\n",
       "      <td>2022</td>\n",
       "      <td>12</td>\n",
       "      <td>8</td>\n",
       "      <td>8109</td>\n",
       "      <td>77</td>\n",
       "      <td>1163093654</td>\n",
       "      <td>183</td>\n",
       "      <td>...</td>\n",
       "      <td>89</td>\n",
       "      <td>G#</td>\n",
       "      <td>Major</td>\n",
       "      <td>64</td>\n",
       "      <td>43</td>\n",
       "      <td>73</td>\n",
       "      <td>5</td>\n",
       "      <td>17</td>\n",
       "      <td>16</td>\n",
       "      <td>4</td>\n",
       "    </tr>\n",
       "    <tr>\n",
       "      <th>16</th>\n",
       "      <td>Cupid - Twin Ver.</td>\n",
       "      <td>Fifty Fifty</td>\n",
       "      <td>1</td>\n",
       "      <td>2023</td>\n",
       "      <td>2</td>\n",
       "      <td>24</td>\n",
       "      <td>2942</td>\n",
       "      <td>77</td>\n",
       "      <td>496795686</td>\n",
       "      <td>91</td>\n",
       "      <td>...</td>\n",
       "      <td>120</td>\n",
       "      <td>B</td>\n",
       "      <td>Minor</td>\n",
       "      <td>78</td>\n",
       "      <td>76</td>\n",
       "      <td>59</td>\n",
       "      <td>43</td>\n",
       "      <td>0</td>\n",
       "      <td>34</td>\n",
       "      <td>3</td>\n",
       "    </tr>\n",
       "    <tr>\n",
       "      <th>18</th>\n",
       "      <td>Classy 101</td>\n",
       "      <td>Feid, Young Miko</td>\n",
       "      <td>2</td>\n",
       "      <td>2023</td>\n",
       "      <td>3</td>\n",
       "      <td>31</td>\n",
       "      <td>2610</td>\n",
       "      <td>40</td>\n",
       "      <td>335222234</td>\n",
       "      <td>43</td>\n",
       "      <td>...</td>\n",
       "      <td>100</td>\n",
       "      <td>B</td>\n",
       "      <td>Major</td>\n",
       "      <td>86</td>\n",
       "      <td>67</td>\n",
       "      <td>66</td>\n",
       "      <td>14</td>\n",
       "      <td>0</td>\n",
       "      <td>12</td>\n",
       "      <td>16</td>\n",
       "    </tr>\n",
       "    <tr>\n",
       "      <th>19</th>\n",
       "      <td>Like Crazy</td>\n",
       "      <td>Jimin</td>\n",
       "      <td>1</td>\n",
       "      <td>2023</td>\n",
       "      <td>3</td>\n",
       "      <td>24</td>\n",
       "      <td>596</td>\n",
       "      <td>68</td>\n",
       "      <td>363369738</td>\n",
       "      <td>8</td>\n",
       "      <td>...</td>\n",
       "      <td>120</td>\n",
       "      <td>G</td>\n",
       "      <td>Major</td>\n",
       "      <td>63</td>\n",
       "      <td>36</td>\n",
       "      <td>73</td>\n",
       "      <td>0</td>\n",
       "      <td>0</td>\n",
       "      <td>36</td>\n",
       "      <td>4</td>\n",
       "    </tr>\n",
       "    <tr>\n",
       "      <th>20</th>\n",
       "      <td>LADY GAGA</td>\n",
       "      <td>Gabito Ballesteros, Junior H, Peso Pluma</td>\n",
       "      <td>3</td>\n",
       "      <td>2023</td>\n",
       "      <td>6</td>\n",
       "      <td>22</td>\n",
       "      <td>332</td>\n",
       "      <td>26</td>\n",
       "      <td>86444842</td>\n",
       "      <td>11</td>\n",
       "      <td>...</td>\n",
       "      <td>140</td>\n",
       "      <td>F</td>\n",
       "      <td>Minor</td>\n",
       "      <td>65</td>\n",
       "      <td>87</td>\n",
       "      <td>74</td>\n",
       "      <td>22</td>\n",
       "      <td>0</td>\n",
       "      <td>42</td>\n",
       "      <td>4</td>\n",
       "    </tr>\n",
       "    <tr>\n",
       "      <th>21</th>\n",
       "      <td>I Can See You (Taylorï¿½ï¿½ï¿½s Version) (From...</td>\n",
       "      <td>Taylor Swift</td>\n",
       "      <td>1</td>\n",
       "      <td>2023</td>\n",
       "      <td>7</td>\n",
       "      <td>7</td>\n",
       "      <td>516</td>\n",
       "      <td>38</td>\n",
       "      <td>52135248</td>\n",
       "      <td>73</td>\n",
       "      <td>...</td>\n",
       "      <td>123</td>\n",
       "      <td>F#</td>\n",
       "      <td>Major</td>\n",
       "      <td>69</td>\n",
       "      <td>82</td>\n",
       "      <td>76</td>\n",
       "      <td>6</td>\n",
       "      <td>0</td>\n",
       "      <td>6</td>\n",
       "      <td>3</td>\n",
       "    </tr>\n",
       "    <tr>\n",
       "      <th>23</th>\n",
       "      <td>Peso Pluma: Bzrp Music Sessions, Vol. 55</td>\n",
       "      <td>Bizarrap, Peso Pluma</td>\n",
       "      <td>2</td>\n",
       "      <td>2023</td>\n",
       "      <td>5</td>\n",
       "      <td>31</td>\n",
       "      <td>1313</td>\n",
       "      <td>40</td>\n",
       "      <td>200647221</td>\n",
       "      <td>17</td>\n",
       "      <td>...</td>\n",
       "      <td>133</td>\n",
       "      <td>F</td>\n",
       "      <td>Minor</td>\n",
       "      <td>85</td>\n",
       "      <td>81</td>\n",
       "      <td>67</td>\n",
       "      <td>26</td>\n",
       "      <td>0</td>\n",
       "      <td>12</td>\n",
       "      <td>5</td>\n",
       "    </tr>\n",
       "  </tbody>\n",
       "</table>\n",
       "<p>20 rows × 24 columns</p>\n",
       "</div>"
      ],
      "text/plain": [
       "                                           track_name  \\\n",
       "0                 Seven (feat. Latto) (Explicit Ver.)   \n",
       "1                                                LALA   \n",
       "2                                             vampire   \n",
       "3                                        Cruel Summer   \n",
       "4                                      WHERE SHE GOES   \n",
       "5                                            Sprinter   \n",
       "6                                     Ella Baila Sola   \n",
       "7                                            Columbia   \n",
       "8                                            fukumean   \n",
       "9                                     La Bebe - Remix   \n",
       "10                                          un x100to   \n",
       "11                                          Super Shy   \n",
       "13                                           Daylight   \n",
       "15                                          Kill Bill   \n",
       "16                                  Cupid - Twin Ver.   \n",
       "18                                         Classy 101   \n",
       "19                                         Like Crazy   \n",
       "20                                          LADY GAGA   \n",
       "21  I Can See You (Taylorï¿½ï¿½ï¿½s Version) (From...   \n",
       "23           Peso Pluma: Bzrp Music Sessions, Vol. 55   \n",
       "\n",
       "                              artist(s)_name  artist_count  released_year  \\\n",
       "0                           Latto, Jung Kook             2           2023   \n",
       "1                                Myke Towers             1           2023   \n",
       "2                             Olivia Rodrigo             1           2023   \n",
       "3                               Taylor Swift             1           2019   \n",
       "4                                  Bad Bunny             1           2023   \n",
       "5                          Dave, Central Cee             2           2023   \n",
       "6                 Eslabon Armado, Peso Pluma             2           2023   \n",
       "7                                    Quevedo             1           2023   \n",
       "8                                      Gunna             1           2023   \n",
       "9                      Peso Pluma, Yng Lvcas             2           2023   \n",
       "10                 Bad Bunny, Grupo Frontera             2           2023   \n",
       "11                                  NewJeans             1           2023   \n",
       "13                             David Kushner             1           2023   \n",
       "15                                       SZA             1           2022   \n",
       "16                               Fifty Fifty             1           2023   \n",
       "18                          Feid, Young Miko             2           2023   \n",
       "19                                     Jimin             1           2023   \n",
       "20  Gabito Ballesteros, Junior H, Peso Pluma             3           2023   \n",
       "21                              Taylor Swift             1           2023   \n",
       "23                      Bizarrap, Peso Pluma             2           2023   \n",
       "\n",
       "    released_month  released_day  in_spotify_playlists  in_spotify_charts  \\\n",
       "0                7            14                   553                147   \n",
       "1                3            23                  1474                 48   \n",
       "2                6            30                  1397                113   \n",
       "3                8            23                  7858                100   \n",
       "4                5            18                  3133                 50   \n",
       "5                6             1                  2186                 91   \n",
       "6                3            16                  3090                 50   \n",
       "7                7             7                   714                 43   \n",
       "8                5            15                  1096                 83   \n",
       "9                3            17                  2953                 44   \n",
       "10               4            17                  2876                 40   \n",
       "11               7             7                   422                 55   \n",
       "13               4            14                  3528                 98   \n",
       "15              12             8                  8109                 77   \n",
       "16               2            24                  2942                 77   \n",
       "18               3            31                  2610                 40   \n",
       "19               3            24                   596                 68   \n",
       "20               6            22                   332                 26   \n",
       "21               7             7                   516                 38   \n",
       "23               5            31                  1313                 40   \n",
       "\n",
       "       streams  in_apple_playlists  ...  bpm key   mode danceability_%  \\\n",
       "0    141381703                  43  ...  125   B  Major             80   \n",
       "1    133716286                  48  ...   92  C#  Major             71   \n",
       "2    140003974                  94  ...  138   F  Major             51   \n",
       "3    800840817                 116  ...  170   A  Major             55   \n",
       "4    303236322                  84  ...  144   A  Minor             65   \n",
       "5    183706234                  67  ...  141  C#  Major             92   \n",
       "6    725980112                  34  ...  148   F  Minor             67   \n",
       "7     58149378                  25  ...  100   F  Major             67   \n",
       "8     95217315                  60  ...  130  C#  Minor             85   \n",
       "9    553634067                  49  ...  170   D  Minor             81   \n",
       "10   505671438                  41  ...   83  F#  Minor             57   \n",
       "11    58255150                  37  ...  150   F  Minor             78   \n",
       "13   387570742                  80  ...  130   D  Minor             51   \n",
       "15  1163093654                 183  ...   89  G#  Major             64   \n",
       "16   496795686                  91  ...  120   B  Minor             78   \n",
       "18   335222234                  43  ...  100   B  Major             86   \n",
       "19   363369738                   8  ...  120   G  Major             63   \n",
       "20    86444842                  11  ...  140   F  Minor             65   \n",
       "21    52135248                  73  ...  123  F#  Major             69   \n",
       "23   200647221                  17  ...  133   F  Minor             85   \n",
       "\n",
       "    valence_% energy_% acousticness_%  instrumentalness_%  liveness_%  \\\n",
       "0          89       83             31                   0           8   \n",
       "1          61       74              7                   0          10   \n",
       "2          32       53             17                   0          31   \n",
       "3          58       72             11                   0          11   \n",
       "4          23       80             14                  63          11   \n",
       "5          66       58             19                   0           8   \n",
       "6          83       76             48                   0           8   \n",
       "7          26       71             37                   0          11   \n",
       "8          22       62             12                   0          28   \n",
       "9          56       48             21                   0           8   \n",
       "10         56       72             23                   0          27   \n",
       "11         52       82             18                   0          15   \n",
       "13         32       43             83                   0           9   \n",
       "15         43       73              5                  17          16   \n",
       "16         76       59             43                   0          34   \n",
       "18         67       66             14                   0          12   \n",
       "19         36       73              0                   0          36   \n",
       "20         87       74             22                   0          42   \n",
       "21         82       76              6                   0           6   \n",
       "23         81       67             26                   0          12   \n",
       "\n",
       "    speechiness_%  \n",
       "0               4  \n",
       "1               4  \n",
       "2               6  \n",
       "3              15  \n",
       "4               6  \n",
       "5              24  \n",
       "6               3  \n",
       "7               4  \n",
       "8               9  \n",
       "9              33  \n",
       "10              5  \n",
       "11              7  \n",
       "13              3  \n",
       "15              4  \n",
       "16              3  \n",
       "18             16  \n",
       "19              4  \n",
       "20              4  \n",
       "21              3  \n",
       "23              5  \n",
       "\n",
       "[20 rows x 24 columns]"
      ]
     },
     "execution_count": 77,
     "metadata": {},
     "output_type": "execute_result"
    }
   ],
   "source": [
    "cleanData.head(20)"
   ]
  },
  {
   "cell_type": "code",
   "execution_count": 107,
   "metadata": {},
   "outputs": [
    {
     "name": "stdout",
     "output_type": "stream",
     "text": [
      "{}\n"
     ]
    }
   ],
   "source": [
    "non_convertible_values = {}\n",
    "cols_to_convert = ['streams']\n",
    "\n",
    "\n",
    "for col in cols_to_convert:\n",
    "    for val in cleanData[col].unique():\n",
    "        try:\n",
    "            int(val)\n",
    "        except ValueError:\n",
    "            if col not in non_convertible_values:\n",
    "                non_convertible_values[col] = []\n",
    "            non_convertible_values[col].append(val)\n",
    "\n",
    "print(non_convertible_values)\n"
   ]
  },
  {
   "cell_type": "code",
   "execution_count": 108,
   "metadata": {},
   "outputs": [
    {
     "ename": "KeyError",
     "evalue": "0",
     "output_type": "error",
     "traceback": [
      "\u001b[0;31m---------------------------------------------------------------------------\u001b[0m",
      "\u001b[0;31mKeyError\u001b[0m                                  Traceback (most recent call last)",
      "Input \u001b[0;32mIn [108]\u001b[0m, in \u001b[0;36m<cell line: 1>\u001b[0;34m()\u001b[0m\n\u001b[0;32m----> 1\u001b[0m cleanData \u001b[38;5;241m=\u001b[39m cleanData[cleanData[\u001b[38;5;124m'\u001b[39m\u001b[38;5;124mstreams\u001b[39m\u001b[38;5;124m'\u001b[39m] \u001b[38;5;241m!=\u001b[39m \u001b[43mnon_convertible_values\u001b[49m\u001b[43m[\u001b[49m\u001b[38;5;241;43m0\u001b[39;49m\u001b[43m]\u001b[49m]\n\u001b[1;32m      4\u001b[0m cleanData[\u001b[38;5;124m'\u001b[39m\u001b[38;5;124mstreams\u001b[39m\u001b[38;5;124m'\u001b[39m] \u001b[38;5;241m=\u001b[39m cleanData[\u001b[38;5;124m'\u001b[39m\u001b[38;5;124mstreams\u001b[39m\u001b[38;5;124m'\u001b[39m]\u001b[38;5;241m.\u001b[39mastype(\u001b[38;5;28mint\u001b[39m)\n\u001b[1;32m      5\u001b[0m cleanData[\u001b[38;5;124m'\u001b[39m\u001b[38;5;124mstreams\u001b[39m\u001b[38;5;124m'\u001b[39m]\u001b[38;5;241m.\u001b[39mdtype\n",
      "\u001b[0;31mKeyError\u001b[0m: 0"
     ]
    }
   ],
   "source": [
    "cleanData = cleanData[cleanData['streams'] != non_convertible_values[0]]\n",
    "\n",
    "\n",
    "cleanData['streams'] = cleanData['streams'].astype(int)\n",
    "cleanData['streams'].dtype\n",
    "\n",
    "#Lo volvi a runnear y se borraron los indices"
   ]
  },
  {
   "cell_type": "code",
   "execution_count": 112,
   "metadata": {},
   "outputs": [
    {
     "name": "stdout",
     "output_type": "stream",
     "text": [
      "<class 'pandas.core.frame.DataFrame'>\n",
      "Int64Index: 816 entries, 0 to 952\n",
      "Data columns (total 24 columns):\n",
      " #   Column                Non-Null Count  Dtype \n",
      "---  ------                --------------  ----- \n",
      " 0   track_name            816 non-null    object\n",
      " 1   artist(s)_name        816 non-null    object\n",
      " 2   artist_count          816 non-null    int64 \n",
      " 3   released_year         816 non-null    int64 \n",
      " 4   released_month        816 non-null    int64 \n",
      " 5   released_day          816 non-null    int64 \n",
      " 6   in_spotify_playlists  816 non-null    int64 \n",
      " 7   in_spotify_charts     816 non-null    int64 \n",
      " 8   streams               816 non-null    int64 \n",
      " 9   in_apple_playlists    816 non-null    int64 \n",
      " 10  in_apple_charts       816 non-null    int64 \n",
      " 11  in_deezer_playlists   816 non-null    int64 \n",
      " 12  in_deezer_charts      816 non-null    int64 \n",
      " 13  in_shazam_charts      816 non-null    int64 \n",
      " 14  bpm                   816 non-null    int64 \n",
      " 15  key                   816 non-null    object\n",
      " 16  mode                  816 non-null    object\n",
      " 17  danceability_%        816 non-null    int64 \n",
      " 18  valence_%             816 non-null    int64 \n",
      " 19  energy_%              816 non-null    int64 \n",
      " 20  acousticness_%        816 non-null    int64 \n",
      " 21  instrumentalness_%    816 non-null    int64 \n",
      " 22  liveness_%            816 non-null    int64 \n",
      " 23  speechiness_%         816 non-null    int64 \n",
      "dtypes: int64(20), object(4)\n",
      "memory usage: 159.4+ KB\n"
     ]
    }
   ],
   "source": [
    "cleanData.info()"
   ]
  },
  {
   "cell_type": "code",
   "execution_count": 90,
   "metadata": {},
   "outputs": [
    {
     "name": "stdout",
     "output_type": "stream",
     "text": [
      "numero artistas unicos: \n"
     ]
    },
    {
     "data": {
      "text/plain": [
       "699"
      ]
     },
     "execution_count": 90,
     "metadata": {},
     "output_type": "execute_result"
    }
   ],
   "source": [
    "###### b)\n",
    "\n",
    "artistasUnicos = set()\n",
    "for artistas in data['artist(s)_name']:\n",
    "    for artista in artistas.split(', '):\n",
    "        artistasUnicos.add(artista.strip())\n",
    "\n",
    "num = len(artistasUnicos)\n",
    "print('numero artistas unicos: ')\n",
    "num\n"
   ]
  },
  {
   "cell_type": "code",
   "execution_count": 120,
   "metadata": {},
   "outputs": [
    {
     "data": {
      "application/vnd.plotly.v1+json": {
       "config": {
        "plotlyServerURL": "https://plot.ly"
       },
       "data": [
        {
         "hovertemplate": "track_name=%{x}<br>streams=%{y}<extra></extra>",
         "legendgroup": "",
         "line": {
          "color": "#636efa",
          "dash": "solid"
         },
         "marker": {
          "symbol": "circle"
         },
         "mode": "lines",
         "name": "",
         "orientation": "v",
         "showlegend": false,
         "type": "scatter",
         "x": [
          "Seven (feat. Latto) (Explicit Ver.)",
          "LALA",
          "vampire",
          "Cruel Summer",
          "WHERE SHE GOES",
          "Sprinter",
          "Ella Baila Sola",
          "Columbia",
          "fukumean",
          "La Bebe - Remix",
          "un x100to",
          "Super Shy",
          "Daylight",
          "Kill Bill",
          "Cupid - Twin Ver.",
          "Classy 101",
          "Like Crazy",
          "LADY GAGA",
          "I Can See You (Taylorï¿½ï¿½ï¿½s Version) (From The ",
          "Peso Pluma: Bzrp Music Sessions, Vol. 55",
          "Popular (with Playboi Carti & Madonna) - The Idol Vol. 1 (Music from the HBO Original Series)",
          "SABOR FRESA",
          "Calm Down (with Selena Gomez)",
          "MOJABI GHOST",
          "Last Night",
          "Dance The Night (From Barbie The Album)",
          "Rush",
          "TULUM",
          "Creepin'",
          "Anti-Hero",
          "TQG",
          "Frï¿½ï¿½gil (feat. Grupo Front",
          "Blank Space",
          "Style",
          "TQM",
          "El Azul",
          "Sunflower - Spider-Man: Into the Spider-Verse",
          "I'm Good (Blue)",
          "See You Again",
          "Angels Like You",
          "Die For You",
          "Starboy",
          "Die For You - Remix",
          "El Cielo",
          "Baby Don't Hurt Me",
          "AMARGURA",
          "(It Goes Like) Nanana - Edit",
          "Moonlight",
          "La Bachata",
          "Tï¿½ï¿",
          "Boy's a liar Pt. 2",
          "Left and Right (Feat. Jung Kook of BTS)",
          "BESO",
          "Hey Mor",
          "Yellow",
          "Karma",
          "People",
          "Overdrive",
          "Enchanted (Taylor's Version)",
          "BABY HELLO",
          "golden hour",
          "Quevedo: Bzrp Music Sessions, Vol. 52",
          "Viva La Vida",
          "Here With Me",
          "Unholy (feat. Kim Petras)",
          "Yandel 150",
          "CORAZï¿½ï¿½N VA",
          "Riptide",
          "Until I Found You (with Em Beihold) - Em Beihold Version",
          "Novidade na ï¿½ï¿",
          "Back To December (Taylor's Version)",
          "STAY (with Justin Bieber)",
          "El Merengue",
          "Me Porto Bonito",
          "Makeba",
          "MONTAGEM - FR PUNK",
          "Fast Car",
          "What It Is (Solo Version)",
          "Coco Chanel",
          "Donï¿½ï¿½ï¿½t Bl",
          "Still With You",
          "All My Life (feat. J. Cole)",
          "Say Yes To Heaven",
          "Snooze",
          "Summertime Sadness",
          "Take Two",
          "Lover",
          "Too Many Nights (feat. Don Toliver & with Future)",
          "Chemical",
          "Mockingbird",
          "New Jeans",
          "Primera Cita",
          "Cold Heart - PNAU Remix",
          "Dandelions",
          "Bones",
          "Set Fire to the Rain",
          "Money Trees",
          "Tak Segampang Itu",
          "LAGUNAS",
          "Mine (Taylor's Version)",
          "Everybody Wants To Rule The World",
          "No Role Modelz",
          "Tattoo",
          "Rara Vez",
          "VAGABUNDO",
          "august",
          "LUNA",
          "Miracle (with Ellie Goulding)",
          "Nonsense",
          "Que Vuelvas",
          "Feliz Cumpleaï¿½ï¿½os Fe",
          "Can't Hold Us (feat. Ray Dalton)",
          "lovely - Bonus Track",
          "Rauw Alejandro: Bzrp Music Sessions, Vol. 56",
          "Queencard",
          "OMG",
          "Radio",
          "Shakira: Bzrp Music Sessions, Vol. 53",
          "Trance (with Travis Scott & Young Thug)",
          "Tere Vaaste (From \"Zara Hatke Zara Bachke\")",
          "Perfect",
          "Romantic Homicide",
          "Believer",
          "Novo Balanï¿½",
          "Gol Bolinha, Gol Quadrado 2",
          "Without Me",
          "Stargirl Interlude",
          "Ojitos Lindos",
          "Somewhere Only We Know",
          "Those Eyes",
          "El Gordo Trae El Mando",
          "Mi Bello Angel",
          "Nosso Quadro",
          "Locked Out Of Heaven",
          "Un Finde | CROSSOVER #2",
          "Counting Stars",
          "PRC",
          "One Dance",
          "Enchanted",
          "Sure Thing",
          "Every Breath You Take - Remastered 2003",
          "The Night We Met",
          "We Found Love",
          "Let Me Down Slowly",
          "Am I Dreaming (Metro Boomin & A$AP Rocky, Roisee)",
          "Do I Wanna Know?",
          "Demons",
          "ýýýýýýýýýýýý",
          "Reminder",
          "Shake It Off",
          "Why'd You Only Call Me When You're High?",
          "Shape of You",
          "Creep",
          "Car's Outside",
          "Apocalypse",
          "Cheques",
          "Pink + White",
          "Just The Way You Are",
          "Take Me To Church",
          "Bebe Dame",
          "You Belong With Me (Taylorï¿½ï¿½ï¿½s Ve",
          "Titi Me Preguntï¿",
          "Better Than Revenge (Taylor's Version)",
          "Shut up My Moms Calling",
          "Es un Secreto",
          "POLARIS - Remix",
          "Ditto",
          "Take On Me",
          "Annihilate (Spider-Man: Across the Spider-Verse) (Metro Boomin & Swae Lee, Lil Wayne, Offset)",
          "Angel Pt 1 (feat. Jimin of BTS, JVKE & Muni Long)",
          "Acrï¿½ï¿½s",
          "AMG",
          "Phir Aur Kya Chahiye (From \"Zara Hatke Zara Bachke\")",
          "S-Class",
          "Hits Different",
          "Chanel",
          "Self Love (Spider-Man: Across the Spider-Verse) (Metro Boomin & Coi Leray)",
          "Area Codes",
          "Abcdario",
          "Obsessed",
          "Piï¿½ï¿½man Deï¿",
          "FLOWER",
          "All The Way Live (Spider-Man: Across the Spider-Verse) (Metro Boomin & Future, Lil Uzi Vert)",
          "Eyes Closed",
          "Escapism.",
          "La Jumpa",
          "Karma (feat. Ice Spice)",
          "Superhero (Heroes & Villains) [with Future & Chris Brown]",
          "Las Morras",
          "CHORRITO PA LAS ANIMAS",
          "Ch y la Pizza",
          "Snow On The Beach (feat. More Lana Del Rey)",
          "Players",
          "Bite Me",
          "Stand By Me (feat. Morgan Wallen)",
          "Normal",
          "Hummingbird (Metro Boomin & James Blake)",
          "Seu Brilho Sumiu - Ao Vivo",
          "Bad Habit",
          "CUFF IT",
          "Lilith (feat. SUGA of BTS) (Diablo IV Anthem)",
          "69",
          "Niï¿½ï¿½a Bo",
          "Search & Rescue",
          "AMERICA HAS A PROBLEM (feat. Kendrick Lamar)",
          "Lavender Haze",
          "Link Up (Metro Boomin & Don Toliver, Wizkid feat. BEAM & Toian) - Spider-Verse Remix (Spider-Man: Across the Spider-Verse )",
          "Efecto",
          "Erro Gostoso - Ao Vivo",
          "Cupido",
          "Just Wanna Rock",
          "Until I Found You",
          "Rich Flex",
          "Easy On Me",
          "Cartï¿½ï¿½o B",
          "Danger (Spider) (Offset & JID)",
          "Oi Balde - Ao Vivo",
          "The Real Slim Shady",
          "MERCHO",
          "The Color Violet",
          "Glimpse of Us",
          "Mejor Que Yo",
          "Curtains",
          "UNFORGIVEN (feat. Nile Rodgers)",
          "Haegeum",
          "Conexï¿½ï¿½es de Mï¿½ï¿½fia (feat. Rich ",
          "Never Felt So Alone",
          "X SI VOLVEMOS",
          "ceilings",
          "Cupid",
          "I AM",
          "Cupid ï¿½ï¿½ï¿½ Twin Ver. (FIFTY FIFTY) ï¿½ï¿½ï¿½ Spe",
          "Shorty Party",
          "Super",
          "Slut Me Out",
          "Double Fantasy (with Future)",
          "All Of The Girls You Loved Before",
          "PROVENZA",
          "Princess Diana (with Nicki Minaj)",
          "Di Que Si",
          "Igualito a Mi Apï¿",
          "Shoong! (feat. LISA of BLACKPINK)",
          "Komang",
          "DESPECHï¿",
          "Made You Look",
          "Watch This - ARIZONATEARS Pluggnb Remix",
          "Punto G",
          "Lovers Rock",
          "METAMORPHOSIS",
          "Mami Chula",
          "En Paris",
          "I Was Never There",
          "Don't ever say love me (feat. RM of BTS)",
          "Gato de Noche",
          "Call Out My Name",
          "Like Crazy (English Version)",
          "Rosa Pastel",
          "Sunroof",
          "Lose Yourself - Soundtrack Version",
          "Superman",
          "Mas Rica Que Ayer",
          "People Pt.2 (feat. IU)",
          "REMIX EXCLUSIVO",
          "Arcï¿½ï¿½ngel: Bzrp Music Sessions, Vol",
          "DOGTOOTH",
          "10:35",
          "SORRY NOT SORRY",
          "HAPPY",
          "La Bebe",
          "I Know - PR1SVX Edit",
          "Late Night Talking",
          "Leï¿½",
          "Something in the Orange",
          "VOID",
          "Dijeron Que No La Iba Lograr",
          "If We Ever Broke Up",
          "You Proof",
          "LA INOCENTE",
          "Malas Decisiones",
          "Murder In My Mind",
          "CAIRO",
          "I Love You So",
          "Dark Red",
          "Say You Won't Let Go",
          "Heart To Heart",
          "Peaches (from The Super Mario Bros. Movie)",
          "Marisola - Remix",
          "LOKERA",
          "Numb",
          "on the street (with J. Cole)",
          "One Thing At A Time",
          "Miss You",
          "Ainï¿½ï¿½ï¿½t Tha",
          "Thinkinï¿½ï¿½ï¿½ B",
          "Private Landing (feat. Justin Bieber & Future)",
          "Everything I Love",
          "Heaven",
          "LET GO",
          "Sial",
          "I Wrote The Book",
          "Apna Bana Le (From \"Bhediya\")",
          "SPIT IN MY FACE!",
          "PLAYA DEL INGLï¿½",
          "Man Made A Bar (feat. Eric Church)",
          "Red Ruby Da Sleeze",
          "Kahani Suno 2.0",
          "Nobody Gets Me",
          "PERO Tï¿",
          "Hype Boy",
          "Bloody Mary",
          "ýýý98 Braves",
          "WANDA",
          "Thought You Should Know",
          "In The End",
          "Zona De Perigo",
          "Lovezinho",
          "I Like You (A Happier Song) (with Doja Cat)",
          "Neverita",
          "Sem Alianï¿½ï¿½a no ",
          "Enemy (with JID) - from the series Arcane League of Legends",
          "Revenge",
          "Bombonzinho - Ao Vivo",
          "LA CANCIï¿½",
          "Quï¿½ï¿½ Ago",
          "Love Again",
          "After Hours",
          "About Damn Time",
          "ýýýýýýýýýýýýýýýýýýýýý",
          "Besos Moja2",
          "Maan Meri Jaan",
          "Moscow Mule",
          "My Universe",
          "LLYLM",
          "TRUSTFALL",
          "ANTIFRAGILE",
          "Boy's a liar",
          "Shirt",
          "Lift Me Up - From Black Panther: Wakanda Forever - Music From and Inspired By",
          "STAR WALKIN' (League of Legends Worlds Anthem)",
          "Sex, Drugs, Etc.",
          "Boy With Luv (feat. Halsey)",
          "Hey, Mickey!",
          "Jhoome Jo Pathaan",
          "Escapism. - Sped Up",
          "Te Felicito",
          "Muï¿½ï¿½",
          "TV",
          "I'm Not The Only One",
          "Heather",
          "Besharam Rang (From \"Pathaan\")",
          "Sugar Rush Ride",
          "WAIT FOR U (feat. Drake & Tems)",
          "Don't Start Now",
          "After Dark",
          "MIDDLE OF THE NIGHT",
          "Atlantis",
          "Evoque Prata",
          "How Do I Say Goodbye",
          "Blind",
          "Die For You",
          "Doja",
          "Gatita",
          "Rumble",
          "Niagara Falls (Foot or 2) [with Travis Scott & 21 Savage]",
          "Yonaguni",
          "Super Freaky Girl",
          "Running Up That Hill (A Deal With God)",
          "Dream On",
          "Limbo",
          "Where Are You Now",
          "WORTH NOTHING",
          "KICK BACK",
          "Evergreen (You Didnï¿½ï¿½ï¿½t Deserve Me A",
          "Good Days",
          "Levitating (feat. DaBaby)",
          "Shut up My Moms Calling - (Sped Up)",
          "Ferrari",
          "You're On Your Own, Kid",
          "Agudo Mï¿½ï¿½gi",
          "It's Beginning To Look A Lot Like Christmas",
          "It's the Most Wonderful Time of the Year",
          "Let It Snow! Let It Snow! Let It Snow!",
          "Underneath the Tree",
          "Feliz Navidad",
          "Holly Jolly Christmas",
          "Mistletoe",
          "Sleigh Ride",
          "Seek & Destroy",
          "Love Language",
          "Happy Xmas (War Is Over)",
          "Used (feat. Don Toliver)",
          "The Christmas Song (Merry Christmas To You) - Remastered 1999",
          "Wonderful Christmastime - Edited Version / Remastered 2011",
          "Ghost in the Machine (feat. Phoebe Bridgers)",
          "Merry Christmas Everyone",
          "Let It Snow! Let It Snow! Let It Snow!",
          "SOS",
          "Open Arms (feat. Travis Scott)",
          "White Christmas",
          "Driving Home for Christmas - 2019 Remaster",
          "Christmas (Baby Please Come Home)",
          "Gone Girl",
          "F2F",
          "Notice Me",
          "It's Beginning to Look a Lot Like Christmas (with Mitchell Ayres & His Orchestra)",
          "Antidepresan",
          "Wild Flower (with youjeen)",
          "I Hate U",
          "Raindrops (Insane) [with Travis Scott]",
          "SPIT IN MY FACE!",
          "Deck The Hall - Remastered 1999",
          "Smoking on my Ex Pack",
          "Conceited",
          "Snow On The Beach (feat. Lana Del Rey)",
          "Maroon",
          "Tubarï¿½ï¿½o Te",
          "Bejeweled",
          "Tarot",
          "You Make It Feel Like Christmas (feat. Blake Shelton)",
          "Desesperados",
          "Too Late",
          "Party",
          "Run Rudolph Run - Single Version",
          "Jingle Bells - Remastered 1999",
          "Far",
          "On Time (with John Legend)",
          "GATï¿½ï¿½",
          "Is There Someone Else?",
          "Fingers Crossed",
          "Do It To It",
          "How Do I Make You Love Me?",
          "Gasoline",
          "Infinity",
          "Take My Breath",
          "Here We Goï¿½ï¿½ï¿½ Again (feat. Tyler, the Cr",
          "Best Friends",
          "Kiss Me More (feat. SZA)",
          "I Heard You're Married (feat. Lil Wayne)",
          "Dawn FM",
          "Surface Pressure",
          "Starry Eyes",
          "THATS WHAT I WANT",
          "One Right Now (with The Weeknd)",
          "Beggin",
          "Mon Amour - Remix",
          "Lo Siento BB:/ (with Bad Bunny & Julieta Venegas)",
          "The Motto",
          "Malvadï¿½ï¿",
          "Donï¿½ï¿½ï¿½t Break My",
          "Oh My God",
          "Entre Nosotros (Remix) [con Nicki Nicole]",
          "A Tale By Quincy",
          "I AM WOMAN",
          "Medallo",
          "It'll Be Okay",
          "Softcore",
          "Super Gremlin",
          "Volvï¿",
          "Todo De Ti",
          "Smokin Out The Window",
          "Meet Me At Our Spot",
          "Tacones Rojos",
          "Dakiti",
          "Tiago PZK: Bzrp Music Sessions, Vol. 48",
          "Lï¿½ï¿½ï¿",
          "Nostï¿½ï¿½l",
          "Sad Girlz Luv Money Remix (feat. Kali Uchis)",
          "Butter",
          "pushin P (feat. Young Thug)",
          "You Right",
          "deja vu",
          "TO THE MOON",
          "Lost in the Fire",
          "Salimo de Noche",
          "Volando - Remix",
          "Leave The Door Open",
          "Knife Talk (with 21 Savage ft. Project Pat)",
          "Don't Be Shy",
          "The Family Madrigal",
          "Phantom Regret by Jim",
          "Freaks",
          "Acapulco",
          "Daddy Issues",
          "thought i was playing",
          "ELEVEN",
          "What Else Can I Do?",
          "Miserable Man",
          "happier",
          "Praise God",
          "Get Into It (Yuh)",
          "Before You Go",
          "Sky",
          "Rolling in the Deep",
          "Sobrio",
          "Peru",
          "favorite crime",
          "Thunder",
          "The Business",
          "I WANNA BE YOUR SLAVE",
          "Vai Lï¿½ï¿½ Em Casa ",
          "The Feels",
          "No Lie",
          "OUT OUT (feat. Charli XCX & Saweetie)",
          "Pope Is a Rockstar",
          "2055",
          "Bored",
          "Astronaut In The Ocean",
          "Ley Seca",
          "Every Summertime",
          "Talking To The Moon",
          "you broke me first",
          "The Nights",
          "Take My Breath",
          "Way 2 Sexy (with Future & Young Thug)",
          "Cï¿½ï¿½",
          "Enemy - from the series Arcane League of Legends",
          "Lucid Dreams",
          "Quï¿½ï¿½ Mï¿½ï¿",
          "All of Me",
          "Smells Like Teen Spirit - Remastered 2021",
          "Fair Trade (with Travis Scott)",
          "Bar",
          "The Rumbling (TV Size)",
          "family ties (with Kendrick Lamar)",
          "Mr. Brightside",
          "Blessed-Cursed",
          "AM Remix",
          "Streets",
          "Shallow",
          "Polaroid Love",
          "Leave Before You Love Me (with Jonas Brothers)",
          "Permission to Dance",
          "Friday (feat. Mufasa & Hypeman) - Dopamine Re-Edit",
          "RAPSTAR",
          "'Till I Collapse",
          "Memories",
          "Se Le Ve",
          "25k jacket (feat. Lil Baby)",
          "Esqueï¿½ï¿½a-Me Se For C",
          "Miï¿½ï¿½n",
          "Sï¿½ï¿½",
          "MAMIII",
          "Still D.R.E.",
          "Stay Alive (Prod. SUGA of BTS)",
          "Boyfriend",
          "The Next Episode",
          "Light Switch",
          "City of Gods",
          "Brividi",
          "Lost",
          "In Da Club",
          "she's all i wanna be",
          "Ginseng Strip 2002",
          "All For Us - from the HBO Original Series Euphoria",
          "Notion",
          "Formula",
          "Excuses",
          "Cigarettes",
          "Cayï¿½ï¿½ La Noche (feat. Cruz Cafunï¿½ï¿½, Abhir Hathi, Bejo, EL IMA)",
          "California Love - Original Version (Explicit)",
          "Forgot About Dre",
          "Down Under (feat. Colin Hay)",
          "Mujeriego",
          "HUMBLE.",
          "Stan",
          "Contection",
          "Swim",
          "Numb Little Bug",
          "212",
          "Problemï¿½",
          "Bussin",
          "Worst Day",
          "Malvada",
          "Hrs and Hrs",
          "Alien Blues",
          "Thinking Out Loud",
          "Still Don't Know My Name",
          "Christmas Tree",
          "When I R.I.P.",
          "Do We Have A Problem?",
          "Forever",
          "Gospel (with Eminem)",
          "Seï¿½ï¿½o",
          "NEW MAGIC WAND",
          "Adore You",
          "La Santa",
          "Something In The Way - Remastered 2021",
          "Sweetest Pie",
          "Bam Bam (feat. Ed Sheeran)",
          "Una Noche en Medellï¿½",
          "Envolver",
          "Starlight",
          "Hati-Hati di Jalan",
          "DANï¿½ï¿½A",
          "Yo Voy (feat. Daddy Yankee)",
          "Residente: Bzrp Music Sessions, Vol. 49",
          "Jordan",
          "Nail Tech",
          "Chale",
          "Ya No Somos Ni Seremos",
          "Freaky Deaky",
          "this is what falling in love feels like",
          "La Zona",
          "Hope",
          "Levitating",
          "Wake Me Up - Radio Edit",
          "jealousy, jealousy",
          "Monï¿½ï¿½y so",
          "Demasiadas Mujeres",
          "Something Just Like This",
          "Closer",
          "O.O",
          "Tom's Diner",
          "First Class",
          "Fuera del mercado",
          "X ï¿½ï¿½LTIMA",
          "When You're Gone",
          "In My Head",
          "Wait a Minute!",
          "LOVE DIVE",
          "Pantysito",
          "Chance",
          "Cool for the Summer",
          "psychofreak (feat. WILLOW)",
          "Angel Baby",
          "Vampiro",
          "Si Quieren Frontear",
          "Right On",
          "That's Hilarious",
          "Soy El Unico",
          "RUMBATï¿½",
          "sentaDONA (Remix) s2",
          "Falling",
          "Sigue",
          "Fim de Semana no Rio",
          "MANIAC",
          "There's Nothing Holdin' Me Back",
          "IDGAF (with blackbear)",
          "Golden",
          "Get Lucky - Radio Edit",
          "Ain't Shit",
          "Nobody Like U - From \"Turning Red\"",
          "Still Life",
          "Photograph",
          "Love Yourself",
          "N95",
          "About Damn Time",
          "Die Hard",
          "Despuï¿½ï¿½s de la P",
          "United In Grief",
          "Father Time (feat. Sampha)",
          "Rich Spirit",
          "Me Fui de Vacaciones",
          "Silent Hill",
          "La Corriente",
          "Count Me Out",
          "Andrea",
          "Dos Mil 16",
          "We Cry Together",
          "Savior",
          "Un Coco",
          "Otro Atardecer",
          "Worldwide Steppers",
          "Aguacero",
          "Purple Hearts",
          "Un Verano Sin Ti",
          "ULTRA SOLO",
          "Ensï¿½ï¿½ï¿½ï¿½ame ",
          "El Apagï¿½",
          "Callaita",
          "Dua Lipa",
          "Agosto",
          "House Of Memories",
          "Mr. Morale",
          "That That (prod. & feat. SUGA of BTS)",
          "In The Stars",
          "Rich - Interlude",
          "SUPERMODEL",
          "Stefania (Kalush Orchestra)",
          "Thousand Miles",
          "Crown",
          "Auntie Diaries",
          "PUFFIN ON ZOOTIEZ",
          "Mirror",
          "Beautiful Girl",
          "Savior - Interlude",
          "Pasoori",
          "Mother I Sober (feat. Beth Gibbons of Portishead)",
          "TUS Lï¿½ï¿½GR",
          "Where Did You Go?",
          "I Tried to Tell Y'all",
          "Honest (feat. Don Toliver)",
          "ZOOM",
          "SloMo",
          "FEARLESS",
          "10 Things I Hate About You",
          "SPACE MAN",
          "With you",
          "Iris",
          "The Heart Part 5",
          "San Lucas",
          "This Love (Taylorï¿½ï¿½ï¿½s Ve",
          "Good Looking",
          "Flowers",
          "Yet To Come",
          "Run BTS",
          "Music For a Sushi Restaurant",
          "Matilda",
          "For Youth",
          "Vegas (From the Original Motion Picture Soundtrack ELVIS)",
          "Cash In Cash Out",
          "Potion (with Dua Lipa & Young Thug)",
          "Born Singer",
          "Little Freak",
          "La Llevo Al Cielo (Ft. ï¿½ï¿½engo F",
          "True Love",
          "Pass The Dutchie",
          "Villano Antillano: Bzrp Music Sessions, Vol. 51",
          "Love Of My Life",
          "Grapejuice",
          "So Good",
          "Belly Dancer",
          "Keep Driving",
          "Cinema",
          "Die Young (feat. 347aidan)",
          "Only Love Can Hurt Like This",
          "Hold My Hand",
          "Daydreaming",
          "Nos Comemos (feat. Ozuna)",
          "Me and Your Mama",
          "Crazy What Love Can Do",
          "SLOW DANCING IN THE DARK",
          "Antes de Perderte",
          "295",
          "En El Radio Un Cochinero",
          "Master of Puppets (Remastered)",
          "BREAK MY SOUL",
          "ULTRA SOLO REMIX",
          "Massive",
          "Betty (Get Money)",
          "Ojos Marrones",
          "POP!",
          "Layla",
          "MORE",
          "Sweet Child O' Mine",
          "Last Last",
          "Sticky",
          "Hot Shit (feat. Ye & Lil Durk)",
          "Ai Preto",
          "La Loto",
          "die first",
          "Afraid To Feel",
          "Baile no Morro",
          "cï¿½ï¿½mo dormi",
          "STAYING ALIVE (feat. Drake & Lil Baby)",
          "Si Te La Encuentras Por Ahï¿",
          "GIVENCHY",
          "ALIEN SUPERSTAR",
          "Mary On A Cross",
          "Attention",
          "THE SHADE",
          "Come Back Home - From \"Purple Hearts\"",
          "El Rescate",
          "Heartless",
          "Stay With Me (with Justin Timberlake, Halsey, & Pharrell)",
          "JGL",
          "Don't You Worry",
          "Pipoco",
          "Forget Me",
          "Bound 2",
          "Talk that Talk",
          "BILLIE EILISH.",
          "Ferxxo 100",
          "KU LO SA - A COLORS SHOW",
          "Prohibidox",
          "Static",
          "The Scientist",
          "Sparks",
          "Talk",
          "XQ Te Pones Asï¿",
          "Selfish",
          "Sin Seï¿½ï",
          "Lady Mi Amor",
          "Poland",
          "THE LONELIEST",
          "Bye Bye",
          "BABY OTAKU",
          "Nxde",
          "Miss You",
          "we fell in love in october",
          "2 Be Loved (Am I Ready)",
          "Celestial",
          "Typa Girl",
          "California Breeze",
          "Bamba (feat. Aitch & BIA)",
          "Casei Com a Putaria",
          "Major Distribution",
          "Pussy & Millions (feat. Travis Scott)",
          "Vigilante Shit",
          "Question...?",
          "On BS",
          "Mastermind",
          "Circo Loco",
          "Spin Bout U",
          "Would've, Could've, Should've",
          "Con La Brisa",
          "Privileged Rappers",
          "The Astronaut",
          "BackOutsideBoyz",
          "Broke Boys",
          "The Great War",
          "My Mind & Me",
          "Bigger Than The Whole Sky",
          "A Veces (feat. Feid)",
          "En La De Ella",
          "Alone"
         ],
         "xaxis": "x",
         "y": [
          141381703,
          133716286,
          140003974,
          800840817,
          303236322,
          183706234,
          725980112,
          58149378,
          95217315,
          553634067,
          505671438,
          58255150,
          387570742,
          1163093654,
          496795686,
          335222234,
          363369738,
          86444842,
          52135248,
          200647221,
          115364561,
          78300654,
          899183384,
          61245289,
          429829812,
          127408954,
          22581161,
          52294266,
          843957510,
          999748277,
          618990393,
          188933502,
          1355959075,
          786181836,
          176553476,
          354495408,
          2808096550,
          1109433169,
          1047101291,
          570515054,
          1647990401,
          2565529693,
          518745108,
          107753850,
          177740666,
          153372011,
          57876440,
          256483385,
          1214083358,
          111947664,
          156338624,
          720434240,
          357925728,
          674072710,
          1755214421,
          404562836,
          373199958,
          14780425,
          39578178,
          54266102,
          751134527,
          1356565093,
          1592909789,
          635412045,
          1230675890,
          585695368,
          43857627,
          2009094673,
          600976848,
          39709092,
          39228929,
          2665343922,
          223633238,
          1440757818,
          165484133,
          58054811,
          157058870,
          95131998,
          250305248,
          685032533,
          38411956,
          144565150,
          127567540,
          399686758,
          983637508,
          118482347,
          882831184,
          286400165,
          172825906,
          1241559043,
          29562220,
          77309611,
          1605224506,
          1116995633,
          838079900,
          1163620694,
          1093605526,
          179659294,
          39058561,
          36912123,
          1205951614,
          1791000570,
          201660859,
          248088961,
          90839753,
          607123776,
          55842345,
          211050784,
          342897938,
          2762,
          601863821,
          1953533826,
          2355719893,
          66902503,
          96273746,
          430977451,
          284819874,
          721975598,
          276259178,
          54225632,
          2559529074,
          681583126,
          2594040133,
          81102253,
          11956641,
          1687664027,
          611700552,
          1133865788,
          1089402494,
          411747614,
          255932395,
          31873544,
          233801632,
          1481349984,
          142095275,
          2011464183,
          436027885,
          2713922350,
          621660989,
          950906471,
          1593270737,
          1410088830,
          1235005533,
          1374581173,
          94186466,
          1788326445,
          1840364617,
          143573775,
          684675814,
          1113838873,
          1267333350,
          3562543890,
          1271293243,
          265882712,
          841749534,
          47956378,
          806397070,
          1641426668,
          2135158446,
          367316268,
          350381515,
          1264310836,
          30343206,
          405136812,
          540654286,
          57312735,
          397582059,
          1479115056,
          86773632,
          133753727,
          123124076,
          463564958,
          64533040,
          65496046,
          68616963,
          161460990,
          70106975,
          113509496,
          89933133,
          71007139,
          43522589,
          232896922,
          37126685,
          195576623,
          532336353,
          538115192,
          46142772,
          401036314,
          127026613,
          345031710,
          288101651,
          60350538,
          335074782,
          76767396,
          46065667,
          459276435,
          39666245,
          138517666,
          822633917,
          595900742,
          51985779,
          57945987,
          115010040,
          175097833,
          57089066,
          488386797,
          32761689,
          1047480053,
          153454328,
          217672943,
          457184829,
          726434358,
          573633020,
          1406111294,
          71573339,
          24975653,
          145458418,
          1424589568,
          231332117,
          415932686,
          988515741,
          50847624,
          39893489,
          92035115,
          118810253,
          77233241,
          117747907,
          266624541,
          293186992,
          139681964,
          123132751,
          103762518,
          162887075,
          91221625,
          190490915,
          96180277,
          185240616,
          885093467,
          104992946,
          147290338,
          158950978,
          76910644,
          137123880,
          782369383,
          502574952,
          207033255,
          381161027,
          466231982,
          357580552,
          61105704,
          198275403,
          705469769,
          34502215,
          304118600,
          1449799467,
          173627354,
          90025258,
          652704649,
          1829992958,
          655466831,
          146409671,
          95816024,
          117206995,
          100409613,
          80758350,
          325592432,
          58473276,
          52722996,
          191945597,
          77377503,
          743693613,
          267789608,
          449701773,
          67070410,
          116334601,
          165584767,
          367814306,
          477033549,
          156214700,
          448843705,
          294352144,
          972164968,
          920045682,
          2420461338,
          244658767,
          68216992,
          223582566,
          471819764,
          1361425037,
          116599790,
          148469433,
          497225336,
          88791109,
          125917280,
          105062254,
          95623148,
          144584800,
          298063749,
          166570053,
          83021468,
          139836056,
          303216294,
          221409663,
          58890931,
          81419389,
          156777415,
          284908316,
          93438910,
          363472647,
          372476382,
          56533272,
          175399345,
          203221468,
          1624165576,
          134294498,
          70069745,
          609293408,
          671365962,
          93587665,
          1223481149,
          1022258230,
          263453310,
          1435127549,
          236857112,
          147538971,
          698086140,
          723894473,
          403097450,
          309483971,
          319566866,
          909001996,
          1061966512,
          124988687,
          134255790,
          301051721,
          156338624,
          309653982,
          297328960,
          332506354,
          480507035,
          1065580332,
          122763672,
          1365184,
          184308753,
          606361689,
          120972253,
          338564981,
          1606986953,
          1301799902,
          140187018,
          107642809,
          556585270,
          2303033973,
          646886885,
          872137015,
          571386359,
          174006928,
          284785823,
          163284000,
          246390068,
          482257456,
          168684524,
          78489819,
          195516622,
          1260594497,
          428685680,
          1024858327,
          838586769,
          199386237,
          972509632,
          213438580,
          210038833,
          227918678,
          826623384,
          1802514301,
          181831132,
          462791599,
          348647203,
          90598517,
          807561936,
          663832097,
          446390129,
          485285717,
          520034544,
          476244795,
          629173063,
          404664135,
          98709329,
          110849052,
          460492795,
          94005786,
          389771964,
          403939487,
          110073250,
          351636786,
          473248298,
          73981293,
          155653938,
          395591396,
          429504768,
          242767149,
          65362788,
          67540165,
          62019074,
          295998468,
          136689549,
          135611421,
          356709897,
          110649992,
          301869854,
          127027715,
          57144458,
          56870689,
          323437194,
          317726339,
          116144341,
          328207708,
          608228647,
          180577478,
          809306935,
          49262961,
          614555082,
          245350949,
          178660459,
          51641685,
          78139948,
          322336177,
          391251368,
          349585590,
          674772936,
          119238316,
          116903579,
          888046992,
          130655803,
          88103848,
          101114984,
          1575467011,
          91656026,
          53933526,
          267758538,
          74601456,
          920797189,
          539595276,
          1367810478,
          578207856,
          775542072,
          656013912,
          240684449,
          63803529,
          466214729,
          236940480,
          41924466,
          225259194,
          393230256,
          287201015,
          599770206,
          342779426,
          673801126,
          1168642797,
          383550148,
          530511203,
          510876816,
          1763363713,
          374191487,
          108809090,
          436695353,
          354065229,
          1143647827,
          311395144,
          672656250,
          1256880657,
          245095641,
          686734357,
          261414174,
          610045621,
          1115880852,
          594482982,
          566954746,
          184937148,
          31959571,
          824420218,
          363467642,
          1127468248,
          60680939,
          247737946,
          154797871,
          124407432,
          850608354,
          376333030,
          516784627,
          1608045237,
          506778838,
          1472799873,
          513643924,
          261286503,
          783706581,
          422691058,
          1062345656,
          851070493,
          263894529,
          345903614,
          956865266,
          427486004,
          156658366,
          624515457,
          777765388,
          1138474110,
          355219175,
          290228626,
          1062956628,
          1180094974,
          1456081449,
          432702334,
          489945871,
          465959382,
          1223481149,
          2288695111,
          720825549,
          2086124197,
          1690192927,
          593917618,
          200972675,
          71014967,
          560222750,
          1806617704,
          77337771,
          528544703,
          865640097,
          2159346687,
          211372494,
          651732901,
          608334048,
          863756573,
          797402345,
          1695712020,
          1759567999,
          223319934,
          54937991,
          258316038,
          596152090,
          177129919,
          716591492,
          1210599487,
          246376690,
          496311364,
          843309044,
          500340342,
          107255472,
          135079152,
          822239726,
          1202722675,
          343197054,
          240769997,
          426204830,
          421135627,
          554875730,
          327498031,
          185408548,
          245400167,
          579395142,
          675039469,
          252871192,
          231996128,
          1929770265,
          918915401,
          1180896317,
          498960285,
          258714692,
          143139338,
          209768491,
          64714573,
          50746620,
          154119539,
          181328253,
          370068639,
          2280566092,
          563902868,
          317622165,
          203680270,
          81350745,
          282883169,
          64787943,
          2484812918,
          461437791,
          1439191367,
          759208783,
          368646862,
          299634472,
          756907987,
          682475162,
          546191065,
          229473310,
          202677468,
          208166039,
          527033089,
          94616487,
          394030335,
          193443895,
          299648208,
          319757142,
          153240879,
          346127840,
          312622938,
          1200808494,
          797196073,
          1970673297,
          665765558,
          263779030,
          339473453,
          2204080728,
          2591224264,
          135444283,
          236872197,
          694525298,
          421365166,
          349746291,
          255120451,
          190981339,
          924193303,
          305771063,
          273005485,
          89566512,
          677389855,
          75476209,
          408843328,
          187772591,
          178512385,
          101780047,
          146363130,
          126443991,
          157990698,
          176290831,
          1023187129,
          106933107,
          139193812,
          212234990,
          1714490998,
          197643795,
          807015863,
          933815613,
          499710590,
          120847157,
          53909146,
          2236667932,
          2123309722,
          301242089,
          723894473,
          237351106,
          461558540,
          156898322,
          127309180,
          173702135,
          305650299,
          123216717,
          479655659,
          126191104,
          344055883,
          338422004,
          68895644,
          86176890,
          403231558,
          319546754,
          61739839,
          283359161,
          76831876,
          283332261,
          307752576,
          279737940,
          212351890,
          1304313953,
          150500965,
          246127838,
          582863434,
          58687425,
          212109195,
          382199619,
          41210087,
          231657891,
          53729194,
          244741137,
          42485571,
          37778188,
          254218729,
          53603447,
          160035717,
          37091576,
          284249832,
          33381454,
          184622518,
          300983101,
          121077868,
          106919680,
          136996305,
          65719930,
          229497852,
          185550869,
          54682594,
          240580042,
          1284942608,
          71423324,
          244891912,
          132171975,
          184706613,
          184826429,
          302006641,
          330881149,
          334733572,
          366214458,
          114546317,
          448500832,
          136676504,
          190625045,
          79095270,
          273194684,
          333146475,
          194902696,
          195918494,
          248511839,
          233671263,
          199587884,
          91781263,
          383835984,
          236060709,
          189236868,
          160845341,
          588955257,
          238350348,
          187703102,
          138334433,
          445590495,
          286739476,
          1122364376,
          157136970,
          183273246,
          164856284,
          704171068,
          354614964,
          279717388,
          195628667,
          221752937,
          263280370,
          213505179,
          130419412,
          155795783,
          1553497987,
          293466523,
          191448892,
          85924992,
          176103902,
          121189256,
          131746175,
          244790012,
          129314708,
          331511413,
          170732845,
          179061440,
          185236961,
          171788484,
          387080183,
          264717480,
          244928911,
          97610446,
          287278853,
          887906111,
          123473120,
          323455692,
          240918092,
          191873381,
          239411309,
          703301727,
          189476119,
          277132266,
          278920007,
          222410722,
          185392587,
          202452860,
          1608164312,
          624101957,
          148461629,
          47093942,
          380319238,
          209106362,
          53987404,
          115331792,
          225093344,
          84697729,
          159240673,
          170709584,
          154356956,
          723043854,
          247689123,
          176474912,
          235549288,
          85559365,
          146223492,
          187701588,
          154863153,
          191333656,
          253650850,
          223064273,
          170413877,
          218320587,
          141720999,
          198365537,
          177503916,
          71095708,
          112436403,
          203436468,
          93367537,
          106249219,
          181382590,
          91473363,
          121871870,
          73513683,
          133895612,
          96007391
         ],
         "yaxis": "y"
        }
       ],
       "layout": {
        "height": 1400,
        "legend": {
         "tracegroupgap": 0
        },
        "template": {
         "data": {
          "bar": [
           {
            "error_x": {
             "color": "#2a3f5f"
            },
            "error_y": {
             "color": "#2a3f5f"
            },
            "marker": {
             "line": {
              "color": "#E5ECF6",
              "width": 0.5
             },
             "pattern": {
              "fillmode": "overlay",
              "size": 10,
              "solidity": 0.2
             }
            },
            "type": "bar"
           }
          ],
          "barpolar": [
           {
            "marker": {
             "line": {
              "color": "#E5ECF6",
              "width": 0.5
             },
             "pattern": {
              "fillmode": "overlay",
              "size": 10,
              "solidity": 0.2
             }
            },
            "type": "barpolar"
           }
          ],
          "carpet": [
           {
            "aaxis": {
             "endlinecolor": "#2a3f5f",
             "gridcolor": "white",
             "linecolor": "white",
             "minorgridcolor": "white",
             "startlinecolor": "#2a3f5f"
            },
            "baxis": {
             "endlinecolor": "#2a3f5f",
             "gridcolor": "white",
             "linecolor": "white",
             "minorgridcolor": "white",
             "startlinecolor": "#2a3f5f"
            },
            "type": "carpet"
           }
          ],
          "choropleth": [
           {
            "colorbar": {
             "outlinewidth": 0,
             "ticks": ""
            },
            "type": "choropleth"
           }
          ],
          "contour": [
           {
            "colorbar": {
             "outlinewidth": 0,
             "ticks": ""
            },
            "colorscale": [
             [
              0,
              "#0d0887"
             ],
             [
              0.1111111111111111,
              "#46039f"
             ],
             [
              0.2222222222222222,
              "#7201a8"
             ],
             [
              0.3333333333333333,
              "#9c179e"
             ],
             [
              0.4444444444444444,
              "#bd3786"
             ],
             [
              0.5555555555555556,
              "#d8576b"
             ],
             [
              0.6666666666666666,
              "#ed7953"
             ],
             [
              0.7777777777777778,
              "#fb9f3a"
             ],
             [
              0.8888888888888888,
              "#fdca26"
             ],
             [
              1,
              "#f0f921"
             ]
            ],
            "type": "contour"
           }
          ],
          "contourcarpet": [
           {
            "colorbar": {
             "outlinewidth": 0,
             "ticks": ""
            },
            "type": "contourcarpet"
           }
          ],
          "heatmap": [
           {
            "colorbar": {
             "outlinewidth": 0,
             "ticks": ""
            },
            "colorscale": [
             [
              0,
              "#0d0887"
             ],
             [
              0.1111111111111111,
              "#46039f"
             ],
             [
              0.2222222222222222,
              "#7201a8"
             ],
             [
              0.3333333333333333,
              "#9c179e"
             ],
             [
              0.4444444444444444,
              "#bd3786"
             ],
             [
              0.5555555555555556,
              "#d8576b"
             ],
             [
              0.6666666666666666,
              "#ed7953"
             ],
             [
              0.7777777777777778,
              "#fb9f3a"
             ],
             [
              0.8888888888888888,
              "#fdca26"
             ],
             [
              1,
              "#f0f921"
             ]
            ],
            "type": "heatmap"
           }
          ],
          "heatmapgl": [
           {
            "colorbar": {
             "outlinewidth": 0,
             "ticks": ""
            },
            "colorscale": [
             [
              0,
              "#0d0887"
             ],
             [
              0.1111111111111111,
              "#46039f"
             ],
             [
              0.2222222222222222,
              "#7201a8"
             ],
             [
              0.3333333333333333,
              "#9c179e"
             ],
             [
              0.4444444444444444,
              "#bd3786"
             ],
             [
              0.5555555555555556,
              "#d8576b"
             ],
             [
              0.6666666666666666,
              "#ed7953"
             ],
             [
              0.7777777777777778,
              "#fb9f3a"
             ],
             [
              0.8888888888888888,
              "#fdca26"
             ],
             [
              1,
              "#f0f921"
             ]
            ],
            "type": "heatmapgl"
           }
          ],
          "histogram": [
           {
            "marker": {
             "pattern": {
              "fillmode": "overlay",
              "size": 10,
              "solidity": 0.2
             }
            },
            "type": "histogram"
           }
          ],
          "histogram2d": [
           {
            "colorbar": {
             "outlinewidth": 0,
             "ticks": ""
            },
            "colorscale": [
             [
              0,
              "#0d0887"
             ],
             [
              0.1111111111111111,
              "#46039f"
             ],
             [
              0.2222222222222222,
              "#7201a8"
             ],
             [
              0.3333333333333333,
              "#9c179e"
             ],
             [
              0.4444444444444444,
              "#bd3786"
             ],
             [
              0.5555555555555556,
              "#d8576b"
             ],
             [
              0.6666666666666666,
              "#ed7953"
             ],
             [
              0.7777777777777778,
              "#fb9f3a"
             ],
             [
              0.8888888888888888,
              "#fdca26"
             ],
             [
              1,
              "#f0f921"
             ]
            ],
            "type": "histogram2d"
           }
          ],
          "histogram2dcontour": [
           {
            "colorbar": {
             "outlinewidth": 0,
             "ticks": ""
            },
            "colorscale": [
             [
              0,
              "#0d0887"
             ],
             [
              0.1111111111111111,
              "#46039f"
             ],
             [
              0.2222222222222222,
              "#7201a8"
             ],
             [
              0.3333333333333333,
              "#9c179e"
             ],
             [
              0.4444444444444444,
              "#bd3786"
             ],
             [
              0.5555555555555556,
              "#d8576b"
             ],
             [
              0.6666666666666666,
              "#ed7953"
             ],
             [
              0.7777777777777778,
              "#fb9f3a"
             ],
             [
              0.8888888888888888,
              "#fdca26"
             ],
             [
              1,
              "#f0f921"
             ]
            ],
            "type": "histogram2dcontour"
           }
          ],
          "mesh3d": [
           {
            "colorbar": {
             "outlinewidth": 0,
             "ticks": ""
            },
            "type": "mesh3d"
           }
          ],
          "parcoords": [
           {
            "line": {
             "colorbar": {
              "outlinewidth": 0,
              "ticks": ""
             }
            },
            "type": "parcoords"
           }
          ],
          "pie": [
           {
            "automargin": true,
            "type": "pie"
           }
          ],
          "scatter": [
           {
            "marker": {
             "colorbar": {
              "outlinewidth": 0,
              "ticks": ""
             }
            },
            "type": "scatter"
           }
          ],
          "scatter3d": [
           {
            "line": {
             "colorbar": {
              "outlinewidth": 0,
              "ticks": ""
             }
            },
            "marker": {
             "colorbar": {
              "outlinewidth": 0,
              "ticks": ""
             }
            },
            "type": "scatter3d"
           }
          ],
          "scattercarpet": [
           {
            "marker": {
             "colorbar": {
              "outlinewidth": 0,
              "ticks": ""
             }
            },
            "type": "scattercarpet"
           }
          ],
          "scattergeo": [
           {
            "marker": {
             "colorbar": {
              "outlinewidth": 0,
              "ticks": ""
             }
            },
            "type": "scattergeo"
           }
          ],
          "scattergl": [
           {
            "marker": {
             "colorbar": {
              "outlinewidth": 0,
              "ticks": ""
             }
            },
            "type": "scattergl"
           }
          ],
          "scattermapbox": [
           {
            "marker": {
             "colorbar": {
              "outlinewidth": 0,
              "ticks": ""
             }
            },
            "type": "scattermapbox"
           }
          ],
          "scatterpolar": [
           {
            "marker": {
             "colorbar": {
              "outlinewidth": 0,
              "ticks": ""
             }
            },
            "type": "scatterpolar"
           }
          ],
          "scatterpolargl": [
           {
            "marker": {
             "colorbar": {
              "outlinewidth": 0,
              "ticks": ""
             }
            },
            "type": "scatterpolargl"
           }
          ],
          "scatterternary": [
           {
            "marker": {
             "colorbar": {
              "outlinewidth": 0,
              "ticks": ""
             }
            },
            "type": "scatterternary"
           }
          ],
          "surface": [
           {
            "colorbar": {
             "outlinewidth": 0,
             "ticks": ""
            },
            "colorscale": [
             [
              0,
              "#0d0887"
             ],
             [
              0.1111111111111111,
              "#46039f"
             ],
             [
              0.2222222222222222,
              "#7201a8"
             ],
             [
              0.3333333333333333,
              "#9c179e"
             ],
             [
              0.4444444444444444,
              "#bd3786"
             ],
             [
              0.5555555555555556,
              "#d8576b"
             ],
             [
              0.6666666666666666,
              "#ed7953"
             ],
             [
              0.7777777777777778,
              "#fb9f3a"
             ],
             [
              0.8888888888888888,
              "#fdca26"
             ],
             [
              1,
              "#f0f921"
             ]
            ],
            "type": "surface"
           }
          ],
          "table": [
           {
            "cells": {
             "fill": {
              "color": "#EBF0F8"
             },
             "line": {
              "color": "white"
             }
            },
            "header": {
             "fill": {
              "color": "#C8D4E3"
             },
             "line": {
              "color": "white"
             }
            },
            "type": "table"
           }
          ]
         },
         "layout": {
          "annotationdefaults": {
           "arrowcolor": "#2a3f5f",
           "arrowhead": 0,
           "arrowwidth": 1
          },
          "autotypenumbers": "strict",
          "coloraxis": {
           "colorbar": {
            "outlinewidth": 0,
            "ticks": ""
           }
          },
          "colorscale": {
           "diverging": [
            [
             0,
             "#8e0152"
            ],
            [
             0.1,
             "#c51b7d"
            ],
            [
             0.2,
             "#de77ae"
            ],
            [
             0.3,
             "#f1b6da"
            ],
            [
             0.4,
             "#fde0ef"
            ],
            [
             0.5,
             "#f7f7f7"
            ],
            [
             0.6,
             "#e6f5d0"
            ],
            [
             0.7,
             "#b8e186"
            ],
            [
             0.8,
             "#7fbc41"
            ],
            [
             0.9,
             "#4d9221"
            ],
            [
             1,
             "#276419"
            ]
           ],
           "sequential": [
            [
             0,
             "#0d0887"
            ],
            [
             0.1111111111111111,
             "#46039f"
            ],
            [
             0.2222222222222222,
             "#7201a8"
            ],
            [
             0.3333333333333333,
             "#9c179e"
            ],
            [
             0.4444444444444444,
             "#bd3786"
            ],
            [
             0.5555555555555556,
             "#d8576b"
            ],
            [
             0.6666666666666666,
             "#ed7953"
            ],
            [
             0.7777777777777778,
             "#fb9f3a"
            ],
            [
             0.8888888888888888,
             "#fdca26"
            ],
            [
             1,
             "#f0f921"
            ]
           ],
           "sequentialminus": [
            [
             0,
             "#0d0887"
            ],
            [
             0.1111111111111111,
             "#46039f"
            ],
            [
             0.2222222222222222,
             "#7201a8"
            ],
            [
             0.3333333333333333,
             "#9c179e"
            ],
            [
             0.4444444444444444,
             "#bd3786"
            ],
            [
             0.5555555555555556,
             "#d8576b"
            ],
            [
             0.6666666666666666,
             "#ed7953"
            ],
            [
             0.7777777777777778,
             "#fb9f3a"
            ],
            [
             0.8888888888888888,
             "#fdca26"
            ],
            [
             1,
             "#f0f921"
            ]
           ]
          },
          "colorway": [
           "#636efa",
           "#EF553B",
           "#00cc96",
           "#ab63fa",
           "#FFA15A",
           "#19d3f3",
           "#FF6692",
           "#B6E880",
           "#FF97FF",
           "#FECB52"
          ],
          "font": {
           "color": "#2a3f5f"
          },
          "geo": {
           "bgcolor": "white",
           "lakecolor": "white",
           "landcolor": "#E5ECF6",
           "showlakes": true,
           "showland": true,
           "subunitcolor": "white"
          },
          "hoverlabel": {
           "align": "left"
          },
          "hovermode": "closest",
          "mapbox": {
           "style": "light"
          },
          "paper_bgcolor": "white",
          "plot_bgcolor": "#E5ECF6",
          "polar": {
           "angularaxis": {
            "gridcolor": "white",
            "linecolor": "white",
            "ticks": ""
           },
           "bgcolor": "#E5ECF6",
           "radialaxis": {
            "gridcolor": "white",
            "linecolor": "white",
            "ticks": ""
           }
          },
          "scene": {
           "xaxis": {
            "backgroundcolor": "#E5ECF6",
            "gridcolor": "white",
            "gridwidth": 2,
            "linecolor": "white",
            "showbackground": true,
            "ticks": "",
            "zerolinecolor": "white"
           },
           "yaxis": {
            "backgroundcolor": "#E5ECF6",
            "gridcolor": "white",
            "gridwidth": 2,
            "linecolor": "white",
            "showbackground": true,
            "ticks": "",
            "zerolinecolor": "white"
           },
           "zaxis": {
            "backgroundcolor": "#E5ECF6",
            "gridcolor": "white",
            "gridwidth": 2,
            "linecolor": "white",
            "showbackground": true,
            "ticks": "",
            "zerolinecolor": "white"
           }
          },
          "shapedefaults": {
           "line": {
            "color": "#2a3f5f"
           }
          },
          "ternary": {
           "aaxis": {
            "gridcolor": "white",
            "linecolor": "white",
            "ticks": ""
           },
           "baxis": {
            "gridcolor": "white",
            "linecolor": "white",
            "ticks": ""
           },
           "bgcolor": "#E5ECF6",
           "caxis": {
            "gridcolor": "white",
            "linecolor": "white",
            "ticks": ""
           }
          },
          "title": {
           "x": 0.05
          },
          "xaxis": {
           "automargin": true,
           "gridcolor": "white",
           "linecolor": "white",
           "ticks": "",
           "title": {
            "standoff": 15
           },
           "zerolinecolor": "white",
           "zerolinewidth": 2
          },
          "yaxis": {
           "automargin": true,
           "gridcolor": "white",
           "linecolor": "white",
           "ticks": "",
           "title": {
            "standoff": 15
           },
           "zerolinecolor": "white",
           "zerolinewidth": 2
          }
         }
        },
        "title": {
         "text": "Título del gráfico de líneas"
        },
        "width": 1800,
        "xaxis": {
         "anchor": "y",
         "domain": [
          0,
          1
         ],
         "title": {
          "text": "track_name"
         }
        },
        "yaxis": {
         "anchor": "x",
         "domain": [
          0,
          1
         ],
         "title": {
          "text": "streams"
         }
        }
       }
      },
      "text/html": [
       "<div>                            <div id=\"d197d404-7f7a-4d96-a780-1794a8c9a9d9\" class=\"plotly-graph-div\" style=\"height:1400px; width:1800px;\"></div>            <script type=\"text/javascript\">                require([\"plotly\"], function(Plotly) {                    window.PLOTLYENV=window.PLOTLYENV || {};                                    if (document.getElementById(\"d197d404-7f7a-4d96-a780-1794a8c9a9d9\")) {                    Plotly.newPlot(                        \"d197d404-7f7a-4d96-a780-1794a8c9a9d9\",                        [{\"hovertemplate\":\"track_name=%{x}<br>streams=%{y}<extra></extra>\",\"legendgroup\":\"\",\"line\":{\"color\":\"#636efa\",\"dash\":\"solid\"},\"marker\":{\"symbol\":\"circle\"},\"mode\":\"lines\",\"name\":\"\",\"orientation\":\"v\",\"showlegend\":false,\"x\":[\"Seven (feat. Latto) (Explicit Ver.)\",\"LALA\",\"vampire\",\"Cruel Summer\",\"WHERE SHE GOES\",\"Sprinter\",\"Ella Baila Sola\",\"Columbia\",\"fukumean\",\"La Bebe - Remix\",\"un x100to\",\"Super Shy\",\"Daylight\",\"Kill Bill\",\"Cupid - Twin Ver.\",\"Classy 101\",\"Like Crazy\",\"LADY GAGA\",\"I Can See You (Taylor\\u00ef\\u00bf\\u00bd\\u00ef\\u00bf\\u00bd\\u00ef\\u00bf\\u00bds Version) (From The \",\"Peso Pluma: Bzrp Music Sessions, Vol. 55\",\"Popular (with Playboi Carti & Madonna) - The Idol Vol. 1 (Music from the HBO Original Series)\",\"SABOR FRESA\",\"Calm Down (with Selena Gomez)\",\"MOJABI GHOST\",\"Last Night\",\"Dance The Night (From Barbie The Album)\",\"Rush\",\"TULUM\",\"Creepin'\",\"Anti-Hero\",\"TQG\",\"Fr\\u00ef\\u00bf\\u00bd\\u00ef\\u00bf\\u00bdgil (feat. Grupo Front\",\"Blank Space\",\"Style\",\"TQM\",\"El Azul\",\"Sunflower - Spider-Man: Into the Spider-Verse\",\"I'm Good (Blue)\",\"See You Again\",\"Angels Like You\",\"Die For You\",\"Starboy\",\"Die For You - Remix\",\"El Cielo\",\"Baby Don't Hurt Me\",\"AMARGURA\",\"(It Goes Like) Nanana - Edit\",\"Moonlight\",\"La Bachata\",\"T\\u00ef\\u00bf\\u00bd\\u00ef\\u00bf\",\"Boy's a liar Pt. 2\",\"Left and Right (Feat. Jung Kook of BTS)\",\"BESO\",\"Hey Mor\",\"Yellow\",\"Karma\",\"People\",\"Overdrive\",\"Enchanted (Taylor's Version)\",\"BABY HELLO\",\"golden hour\",\"Quevedo: Bzrp Music Sessions, Vol. 52\",\"Viva La Vida\",\"Here With Me\",\"Unholy (feat. Kim Petras)\",\"Yandel 150\",\"CORAZ\\u00ef\\u00bf\\u00bd\\u00ef\\u00bf\\u00bdN VA\",\"Riptide\",\"Until I Found You (with Em Beihold) - Em Beihold Version\",\"Novidade na \\u00ef\\u00bf\\u00bd\\u00ef\\u00bf\",\"Back To December (Taylor's Version)\",\"STAY (with Justin Bieber)\",\"El Merengue\",\"Me Porto Bonito\",\"Makeba\",\"MONTAGEM - FR PUNK\",\"Fast Car\",\"What It Is (Solo Version)\",\"Coco Chanel\",\"Don\\u00ef\\u00bf\\u00bd\\u00ef\\u00bf\\u00bd\\u00ef\\u00bf\\u00bdt Bl\",\"Still With You\",\"All My Life (feat. J. Cole)\",\"Say Yes To Heaven\",\"Snooze\",\"Summertime Sadness\",\"Take Two\",\"Lover\",\"Too Many Nights (feat. Don Toliver & with Future)\",\"Chemical\",\"Mockingbird\",\"New Jeans\",\"Primera Cita\",\"Cold Heart - PNAU Remix\",\"Dandelions\",\"Bones\",\"Set Fire to the Rain\",\"Money Trees\",\"Tak Segampang Itu\",\"LAGUNAS\",\"Mine (Taylor's Version)\",\"Everybody Wants To Rule The World\",\"No Role Modelz\",\"Tattoo\",\"Rara Vez\",\"VAGABUNDO\",\"august\",\"LUNA\",\"Miracle (with Ellie Goulding)\",\"Nonsense\",\"Que Vuelvas\",\"Feliz Cumplea\\u00ef\\u00bf\\u00bd\\u00ef\\u00bf\\u00bdos Fe\",\"Can't Hold Us (feat. Ray Dalton)\",\"lovely - Bonus Track\",\"Rauw Alejandro: Bzrp Music Sessions, Vol. 56\",\"Queencard\",\"OMG\",\"Radio\",\"Shakira: Bzrp Music Sessions, Vol. 53\",\"Trance (with Travis Scott & Young Thug)\",\"Tere Vaaste (From \\\"Zara Hatke Zara Bachke\\\")\",\"Perfect\",\"Romantic Homicide\",\"Believer\",\"Novo Balan\\u00ef\\u00bf\\u00bd\",\"Gol Bolinha, Gol Quadrado 2\",\"Without Me\",\"Stargirl Interlude\",\"Ojitos Lindos\",\"Somewhere Only We Know\",\"Those Eyes\",\"El Gordo Trae El Mando\",\"Mi Bello Angel\",\"Nosso Quadro\",\"Locked Out Of Heaven\",\"Un Finde | CROSSOVER #2\",\"Counting Stars\",\"PRC\",\"One Dance\",\"Enchanted\",\"Sure Thing\",\"Every Breath You Take - Remastered 2003\",\"The Night We Met\",\"We Found Love\",\"Let Me Down Slowly\",\"Am I Dreaming (Metro Boomin & A$AP Rocky, Roisee)\",\"Do I Wanna Know?\",\"Demons\",\"\\u00fd\\u00fd\\u00fd\\u00fd\\u00fd\\u00fd\\u00fd\\u00fd\\u00fd\\u00fd\\u00fd\\u00fd\",\"Reminder\",\"Shake It Off\",\"Why'd You Only Call Me When You're High?\",\"Shape of You\",\"Creep\",\"Car's Outside\",\"Apocalypse\",\"Cheques\",\"Pink + White\",\"Just The Way You Are\",\"Take Me To Church\",\"Bebe Dame\",\"You Belong With Me (Taylor\\u00ef\\u00bf\\u00bd\\u00ef\\u00bf\\u00bd\\u00ef\\u00bf\\u00bds Ve\",\"Titi Me Pregunt\\u00ef\\u00bf\",\"Better Than Revenge (Taylor's Version)\",\"Shut up My Moms Calling\",\"Es un Secreto\",\"POLARIS - Remix\",\"Ditto\",\"Take On Me\",\"Annihilate (Spider-Man: Across the Spider-Verse) (Metro Boomin & Swae Lee, Lil Wayne, Offset)\",\"Angel Pt 1 (feat. Jimin of BTS, JVKE & Muni Long)\",\"Acr\\u00ef\\u00bf\\u00bd\\u00ef\\u00bf\\u00bds\",\"AMG\",\"Phir Aur Kya Chahiye (From \\\"Zara Hatke Zara Bachke\\\")\",\"S-Class\",\"Hits Different\",\"Chanel\",\"Self Love (Spider-Man: Across the Spider-Verse) (Metro Boomin & Coi Leray)\",\"Area Codes\",\"Abcdario\",\"Obsessed\",\"Pi\\u00ef\\u00bf\\u00bd\\u00ef\\u00bf\\u00bdman De\\u00ef\\u00bf\",\"FLOWER\",\"All The Way Live (Spider-Man: Across the Spider-Verse) (Metro Boomin & Future, Lil Uzi Vert)\",\"Eyes Closed\",\"Escapism.\",\"La Jumpa\",\"Karma (feat. Ice Spice)\",\"Superhero (Heroes & Villains) [with Future & Chris Brown]\",\"Las Morras\",\"CHORRITO PA LAS ANIMAS\",\"Ch y la Pizza\",\"Snow On The Beach (feat. More Lana Del Rey)\",\"Players\",\"Bite Me\",\"Stand By Me (feat. Morgan Wallen)\",\"Normal\",\"Hummingbird (Metro Boomin & James Blake)\",\"Seu Brilho Sumiu - Ao Vivo\",\"Bad Habit\",\"CUFF IT\",\"Lilith (feat. SUGA of BTS) (Diablo IV Anthem)\",\"69\",\"Ni\\u00ef\\u00bf\\u00bd\\u00ef\\u00bf\\u00bda Bo\",\"Search & Rescue\",\"AMERICA HAS A PROBLEM (feat. Kendrick Lamar)\",\"Lavender Haze\",\"Link Up (Metro Boomin & Don Toliver, Wizkid feat. BEAM & Toian) - Spider-Verse Remix (Spider-Man: Across the Spider-Verse )\",\"Efecto\",\"Erro Gostoso - Ao Vivo\",\"Cupido\",\"Just Wanna Rock\",\"Until I Found You\",\"Rich Flex\",\"Easy On Me\",\"Cart\\u00ef\\u00bf\\u00bd\\u00ef\\u00bf\\u00bdo B\",\"Danger (Spider) (Offset & JID)\",\"Oi Balde - Ao Vivo\",\"The Real Slim Shady\",\"MERCHO\",\"The Color Violet\",\"Glimpse of Us\",\"Mejor Que Yo\",\"Curtains\",\"UNFORGIVEN (feat. Nile Rodgers)\",\"Haegeum\",\"Conex\\u00ef\\u00bf\\u00bd\\u00ef\\u00bf\\u00bdes de M\\u00ef\\u00bf\\u00bd\\u00ef\\u00bf\\u00bdfia (feat. Rich \",\"Never Felt So Alone\",\"X SI VOLVEMOS\",\"ceilings\",\"Cupid\",\"I AM\",\"Cupid \\u00ef\\u00bf\\u00bd\\u00ef\\u00bf\\u00bd\\u00ef\\u00bf\\u00bd Twin Ver. (FIFTY FIFTY) \\u00ef\\u00bf\\u00bd\\u00ef\\u00bf\\u00bd\\u00ef\\u00bf\\u00bd Spe\",\"Shorty Party\",\"Super\",\"Slut Me Out\",\"Double Fantasy (with Future)\",\"All Of The Girls You Loved Before\",\"PROVENZA\",\"Princess Diana (with Nicki Minaj)\",\"Di Que Si\",\"Igualito a Mi Ap\\u00ef\\u00bf\",\"Shoong! (feat. LISA of BLACKPINK)\",\"Komang\",\"DESPECH\\u00ef\\u00bf\",\"Made You Look\",\"Watch This - ARIZONATEARS Pluggnb Remix\",\"Punto G\",\"Lovers Rock\",\"METAMORPHOSIS\",\"Mami Chula\",\"En Paris\",\"I Was Never There\",\"Don't ever say love me (feat. RM of BTS)\",\"Gato de Noche\",\"Call Out My Name\",\"Like Crazy (English Version)\",\"Rosa Pastel\",\"Sunroof\",\"Lose Yourself - Soundtrack Version\",\"Superman\",\"Mas Rica Que Ayer\",\"People Pt.2 (feat. IU)\",\"REMIX EXCLUSIVO\",\"Arc\\u00ef\\u00bf\\u00bd\\u00ef\\u00bf\\u00bdngel: Bzrp Music Sessions, Vol\",\"DOGTOOTH\",\"10:35\",\"SORRY NOT SORRY\",\"HAPPY\",\"La Bebe\",\"I Know - PR1SVX Edit\",\"Late Night Talking\",\"Le\\u00ef\\u00bf\\u00bd\",\"Something in the Orange\",\"VOID\",\"Dijeron Que No La Iba Lograr\",\"If We Ever Broke Up\",\"You Proof\",\"LA INOCENTE\",\"Malas Decisiones\",\"Murder In My Mind\",\"CAIRO\",\"I Love You So\",\"Dark Red\",\"Say You Won't Let Go\",\"Heart To Heart\",\"Peaches (from The Super Mario Bros. Movie)\",\"Marisola - Remix\",\"LOKERA\",\"Numb\",\"on the street (with J. Cole)\",\"One Thing At A Time\",\"Miss You\",\"Ain\\u00ef\\u00bf\\u00bd\\u00ef\\u00bf\\u00bd\\u00ef\\u00bf\\u00bdt Tha\",\"Thinkin\\u00ef\\u00bf\\u00bd\\u00ef\\u00bf\\u00bd\\u00ef\\u00bf\\u00bd B\",\"Private Landing (feat. Justin Bieber & Future)\",\"Everything I Love\",\"Heaven\",\"LET GO\",\"Sial\",\"I Wrote The Book\",\"Apna Bana Le (From \\\"Bhediya\\\")\",\"SPIT IN MY FACE!\",\"PLAYA DEL INGL\\u00ef\\u00bf\\u00bd\",\"Man Made A Bar (feat. Eric Church)\",\"Red Ruby Da Sleeze\",\"Kahani Suno 2.0\",\"Nobody Gets Me\",\"PERO T\\u00ef\\u00bf\",\"Hype Boy\",\"Bloody Mary\",\"\\u00fd\\u00fd\\u00fd98 Braves\",\"WANDA\",\"Thought You Should Know\",\"In The End\",\"Zona De Perigo\",\"Lovezinho\",\"I Like You (A Happier Song) (with Doja Cat)\",\"Neverita\",\"Sem Alian\\u00ef\\u00bf\\u00bd\\u00ef\\u00bf\\u00bda no \",\"Enemy (with JID) - from the series Arcane League of Legends\",\"Revenge\",\"Bombonzinho - Ao Vivo\",\"LA CANCI\\u00ef\\u00bf\\u00bd\",\"Qu\\u00ef\\u00bf\\u00bd\\u00ef\\u00bf\\u00bd Ago\",\"Love Again\",\"After Hours\",\"About Damn Time\",\"\\u00fd\\u00fd\\u00fd\\u00fd\\u00fd\\u00fd\\u00fd\\u00fd\\u00fd\\u00fd\\u00fd\\u00fd\\u00fd\\u00fd\\u00fd\\u00fd\\u00fd\\u00fd\\u00fd\\u00fd\\u00fd\",\"Besos Moja2\",\"Maan Meri Jaan\",\"Moscow Mule\",\"My Universe\",\"LLYLM\",\"TRUSTFALL\",\"ANTIFRAGILE\",\"Boy's a liar\",\"Shirt\",\"Lift Me Up - From Black Panther: Wakanda Forever - Music From and Inspired By\",\"STAR WALKIN' (League of Legends Worlds Anthem)\",\"Sex, Drugs, Etc.\",\"Boy With Luv (feat. Halsey)\",\"Hey, Mickey!\",\"Jhoome Jo Pathaan\",\"Escapism. - Sped Up\",\"Te Felicito\",\"Mu\\u00ef\\u00bf\\u00bd\\u00ef\\u00bf\\u00bd\",\"TV\",\"I'm Not The Only One\",\"Heather\",\"Besharam Rang (From \\\"Pathaan\\\")\",\"Sugar Rush Ride\",\"WAIT FOR U (feat. Drake & Tems)\",\"Don't Start Now\",\"After Dark\",\"MIDDLE OF THE NIGHT\",\"Atlantis\",\"Evoque Prata\",\"How Do I Say Goodbye\",\"Blind\",\"Die For You\",\"Doja\",\"Gatita\",\"Rumble\",\"Niagara Falls (Foot or 2) [with Travis Scott & 21 Savage]\",\"Yonaguni\",\"Super Freaky Girl\",\"Running Up That Hill (A Deal With God)\",\"Dream On\",\"Limbo\",\"Where Are You Now\",\"WORTH NOTHING\",\"KICK BACK\",\"Evergreen (You Didn\\u00ef\\u00bf\\u00bd\\u00ef\\u00bf\\u00bd\\u00ef\\u00bf\\u00bdt Deserve Me A\",\"Good Days\",\"Levitating (feat. DaBaby)\",\"Shut up My Moms Calling - (Sped Up)\",\"Ferrari\",\"You're On Your Own, Kid\",\"Agudo M\\u00ef\\u00bf\\u00bd\\u00ef\\u00bf\\u00bdgi\",\"It's Beginning To Look A Lot Like Christmas\",\"It's the Most Wonderful Time of the Year\",\"Let It Snow! Let It Snow! Let It Snow!\",\"Underneath the Tree\",\"Feliz Navidad\",\"Holly Jolly Christmas\",\"Mistletoe\",\"Sleigh Ride\",\"Seek & Destroy\",\"Love Language\",\"Happy Xmas (War Is Over)\",\"Used (feat. Don Toliver)\",\"The Christmas Song (Merry Christmas To You) - Remastered 1999\",\"Wonderful Christmastime - Edited Version / Remastered 2011\",\"Ghost in the Machine (feat. Phoebe Bridgers)\",\"Merry Christmas Everyone\",\"Let It Snow! Let It Snow! Let It Snow!\",\"SOS\",\"Open Arms (feat. Travis Scott)\",\"White Christmas\",\"Driving Home for Christmas - 2019 Remaster\",\"Christmas (Baby Please Come Home)\",\"Gone Girl\",\"F2F\",\"Notice Me\",\"It's Beginning to Look a Lot Like Christmas (with Mitchell Ayres & His Orchestra)\",\"Antidepresan\",\"Wild Flower (with youjeen)\",\"I Hate U\",\"Raindrops (Insane) [with Travis Scott]\",\"SPIT IN MY FACE!\",\"Deck The Hall - Remastered 1999\",\"Smoking on my Ex Pack\",\"Conceited\",\"Snow On The Beach (feat. Lana Del Rey)\",\"Maroon\",\"Tubar\\u00ef\\u00bf\\u00bd\\u00ef\\u00bf\\u00bdo Te\",\"Bejeweled\",\"Tarot\",\"You Make It Feel Like Christmas (feat. Blake Shelton)\",\"Desesperados\",\"Too Late\",\"Party\",\"Run Rudolph Run - Single Version\",\"Jingle Bells - Remastered 1999\",\"Far\",\"On Time (with John Legend)\",\"GAT\\u00ef\\u00bf\\u00bd\\u00ef\\u00bf\\u00bd\",\"Is There Someone Else?\",\"Fingers Crossed\",\"Do It To It\",\"How Do I Make You Love Me?\",\"Gasoline\",\"Infinity\",\"Take My Breath\",\"Here We Go\\u00ef\\u00bf\\u00bd\\u00ef\\u00bf\\u00bd\\u00ef\\u00bf\\u00bd Again (feat. Tyler, the Cr\",\"Best Friends\",\"Kiss Me More (feat. SZA)\",\"I Heard You're Married (feat. Lil Wayne)\",\"Dawn FM\",\"Surface Pressure\",\"Starry Eyes\",\"THATS WHAT I WANT\",\"One Right Now (with The Weeknd)\",\"Beggin\",\"Mon Amour - Remix\",\"Lo Siento BB:/ (with Bad Bunny & Julieta Venegas)\",\"The Motto\",\"Malvad\\u00ef\\u00bf\\u00bd\\u00ef\\u00bf\",\"Don\\u00ef\\u00bf\\u00bd\\u00ef\\u00bf\\u00bd\\u00ef\\u00bf\\u00bdt Break My\",\"Oh My God\",\"Entre Nosotros (Remix) [con Nicki Nicole]\",\"A Tale By Quincy\",\"I AM WOMAN\",\"Medallo\",\"It'll Be Okay\",\"Softcore\",\"Super Gremlin\",\"Volv\\u00ef\\u00bf\",\"Todo De Ti\",\"Smokin Out The Window\",\"Meet Me At Our Spot\",\"Tacones Rojos\",\"Dakiti\",\"Tiago PZK: Bzrp Music Sessions, Vol. 48\",\"L\\u00ef\\u00bf\\u00bd\\u00ef\\u00bf\\u00bd\\u00ef\\u00bf\",\"Nost\\u00ef\\u00bf\\u00bd\\u00ef\\u00bf\\u00bdl\",\"Sad Girlz Luv Money Remix (feat. Kali Uchis)\",\"Butter\",\"pushin P (feat. Young Thug)\",\"You Right\",\"deja vu\",\"TO THE MOON\",\"Lost in the Fire\",\"Salimo de Noche\",\"Volando - Remix\",\"Leave The Door Open\",\"Knife Talk (with 21 Savage ft. Project Pat)\",\"Don't Be Shy\",\"The Family Madrigal\",\"Phantom Regret by Jim\",\"Freaks\",\"Acapulco\",\"Daddy Issues\",\"thought i was playing\",\"ELEVEN\",\"What Else Can I Do?\",\"Miserable Man\",\"happier\",\"Praise God\",\"Get Into It (Yuh)\",\"Before You Go\",\"Sky\",\"Rolling in the Deep\",\"Sobrio\",\"Peru\",\"favorite crime\",\"Thunder\",\"The Business\",\"I WANNA BE YOUR SLAVE\",\"Vai L\\u00ef\\u00bf\\u00bd\\u00ef\\u00bf\\u00bd Em Casa \",\"The Feels\",\"No Lie\",\"OUT OUT (feat. Charli XCX & Saweetie)\",\"Pope Is a Rockstar\",\"2055\",\"Bored\",\"Astronaut In The Ocean\",\"Ley Seca\",\"Every Summertime\",\"Talking To The Moon\",\"you broke me first\",\"The Nights\",\"Take My Breath\",\"Way 2 Sexy (with Future & Young Thug)\",\"C\\u00ef\\u00bf\\u00bd\\u00ef\\u00bf\\u00bd\",\"Enemy - from the series Arcane League of Legends\",\"Lucid Dreams\",\"Qu\\u00ef\\u00bf\\u00bd\\u00ef\\u00bf\\u00bd M\\u00ef\\u00bf\\u00bd\\u00ef\\u00bf\",\"All of Me\",\"Smells Like Teen Spirit - Remastered 2021\",\"Fair Trade (with Travis Scott)\",\"Bar\",\"The Rumbling (TV Size)\",\"family ties (with Kendrick Lamar)\",\"Mr. Brightside\",\"Blessed-Cursed\",\"AM Remix\",\"Streets\",\"Shallow\",\"Polaroid Love\",\"Leave Before You Love Me (with Jonas Brothers)\",\"Permission to Dance\",\"Friday (feat. Mufasa & Hypeman) - Dopamine Re-Edit\",\"RAPSTAR\",\"'Till I Collapse\",\"Memories\",\"Se Le Ve\",\"25k jacket (feat. Lil Baby)\",\"Esque\\u00ef\\u00bf\\u00bd\\u00ef\\u00bf\\u00bda-Me Se For C\",\"Mi\\u00ef\\u00bf\\u00bd\\u00ef\\u00bf\\u00bdn\",\"S\\u00ef\\u00bf\\u00bd\\u00ef\\u00bf\\u00bd\",\"MAMIII\",\"Still D.R.E.\",\"Stay Alive (Prod. SUGA of BTS)\",\"Boyfriend\",\"The Next Episode\",\"Light Switch\",\"City of Gods\",\"Brividi\",\"Lost\",\"In Da Club\",\"she's all i wanna be\",\"Ginseng Strip 2002\",\"All For Us - from the HBO Original Series Euphoria\",\"Notion\",\"Formula\",\"Excuses\",\"Cigarettes\",\"Cay\\u00ef\\u00bf\\u00bd\\u00ef\\u00bf\\u00bd La Noche (feat. Cruz Cafun\\u00ef\\u00bf\\u00bd\\u00ef\\u00bf\\u00bd, Abhir Hathi, Bejo, EL IMA)\",\"California Love - Original Version (Explicit)\",\"Forgot About Dre\",\"Down Under (feat. Colin Hay)\",\"Mujeriego\",\"HUMBLE.\",\"Stan\",\"Contection\",\"Swim\",\"Numb Little Bug\",\"212\",\"Problem\\u00ef\\u00bf\\u00bd\",\"Bussin\",\"Worst Day\",\"Malvada\",\"Hrs and Hrs\",\"Alien Blues\",\"Thinking Out Loud\",\"Still Don't Know My Name\",\"Christmas Tree\",\"When I R.I.P.\",\"Do We Have A Problem?\",\"Forever\",\"Gospel (with Eminem)\",\"Se\\u00ef\\u00bf\\u00bd\\u00ef\\u00bf\\u00bdo\",\"NEW MAGIC WAND\",\"Adore You\",\"La Santa\",\"Something In The Way - Remastered 2021\",\"Sweetest Pie\",\"Bam Bam (feat. Ed Sheeran)\",\"Una Noche en Medell\\u00ef\\u00bf\\u00bd\",\"Envolver\",\"Starlight\",\"Hati-Hati di Jalan\",\"DAN\\u00ef\\u00bf\\u00bd\\u00ef\\u00bf\\u00bdA\",\"Yo Voy (feat. Daddy Yankee)\",\"Residente: Bzrp Music Sessions, Vol. 49\",\"Jordan\",\"Nail Tech\",\"Chale\",\"Ya No Somos Ni Seremos\",\"Freaky Deaky\",\"this is what falling in love feels like\",\"La Zona\",\"Hope\",\"Levitating\",\"Wake Me Up - Radio Edit\",\"jealousy, jealousy\",\"Mon\\u00ef\\u00bf\\u00bd\\u00ef\\u00bf\\u00bdy so\",\"Demasiadas Mujeres\",\"Something Just Like This\",\"Closer\",\"O.O\",\"Tom's Diner\",\"First Class\",\"Fuera del mercado\",\"X \\u00ef\\u00bf\\u00bd\\u00ef\\u00bf\\u00bdLTIMA\",\"When You're Gone\",\"In My Head\",\"Wait a Minute!\",\"LOVE DIVE\",\"Pantysito\",\"Chance\",\"Cool for the Summer\",\"psychofreak (feat. WILLOW)\",\"Angel Baby\",\"Vampiro\",\"Si Quieren Frontear\",\"Right On\",\"That's Hilarious\",\"Soy El Unico\",\"RUMBAT\\u00ef\\u00bf\\u00bd\",\"sentaDONA (Remix) s2\",\"Falling\",\"Sigue\",\"Fim de Semana no Rio\",\"MANIAC\",\"There's Nothing Holdin' Me Back\",\"IDGAF (with blackbear)\",\"Golden\",\"Get Lucky - Radio Edit\",\"Ain't Shit\",\"Nobody Like U - From \\\"Turning Red\\\"\",\"Still Life\",\"Photograph\",\"Love Yourself\",\"N95\",\"About Damn Time\",\"Die Hard\",\"Despu\\u00ef\\u00bf\\u00bd\\u00ef\\u00bf\\u00bds de la P\",\"United In Grief\",\"Father Time (feat. Sampha)\",\"Rich Spirit\",\"Me Fui de Vacaciones\",\"Silent Hill\",\"La Corriente\",\"Count Me Out\",\"Andrea\",\"Dos Mil 16\",\"We Cry Together\",\"Savior\",\"Un Coco\",\"Otro Atardecer\",\"Worldwide Steppers\",\"Aguacero\",\"Purple Hearts\",\"Un Verano Sin Ti\",\"ULTRA SOLO\",\"Ens\\u00ef\\u00bf\\u00bd\\u00ef\\u00bf\\u00bd\\u00ef\\u00bf\\u00bd\\u00ef\\u00bf\\u00bdame \",\"El Apag\\u00ef\\u00bf\\u00bd\",\"Callaita\",\"Dua Lipa\",\"Agosto\",\"House Of Memories\",\"Mr. Morale\",\"That That (prod. & feat. SUGA of BTS)\",\"In The Stars\",\"Rich - Interlude\",\"SUPERMODEL\",\"Stefania (Kalush Orchestra)\",\"Thousand Miles\",\"Crown\",\"Auntie Diaries\",\"PUFFIN ON ZOOTIEZ\",\"Mirror\",\"Beautiful Girl\",\"Savior - Interlude\",\"Pasoori\",\"Mother I Sober (feat. Beth Gibbons of Portishead)\",\"TUS L\\u00ef\\u00bf\\u00bd\\u00ef\\u00bf\\u00bdGR\",\"Where Did You Go?\",\"I Tried to Tell Y'all\",\"Honest (feat. Don Toliver)\",\"ZOOM\",\"SloMo\",\"FEARLESS\",\"10 Things I Hate About You\",\"SPACE MAN\",\"With you\",\"Iris\",\"The Heart Part 5\",\"San Lucas\",\"This Love (Taylor\\u00ef\\u00bf\\u00bd\\u00ef\\u00bf\\u00bd\\u00ef\\u00bf\\u00bds Ve\",\"Good Looking\",\"Flowers\",\"Yet To Come\",\"Run BTS\",\"Music For a Sushi Restaurant\",\"Matilda\",\"For Youth\",\"Vegas (From the Original Motion Picture Soundtrack ELVIS)\",\"Cash In Cash Out\",\"Potion (with Dua Lipa & Young Thug)\",\"Born Singer\",\"Little Freak\",\"La Llevo Al Cielo (Ft. \\u00ef\\u00bf\\u00bd\\u00ef\\u00bf\\u00bdengo F\",\"True Love\",\"Pass The Dutchie\",\"Villano Antillano: Bzrp Music Sessions, Vol. 51\",\"Love Of My Life\",\"Grapejuice\",\"So Good\",\"Belly Dancer\",\"Keep Driving\",\"Cinema\",\"Die Young (feat. 347aidan)\",\"Only Love Can Hurt Like This\",\"Hold My Hand\",\"Daydreaming\",\"Nos Comemos (feat. Ozuna)\",\"Me and Your Mama\",\"Crazy What Love Can Do\",\"SLOW DANCING IN THE DARK\",\"Antes de Perderte\",\"295\",\"En El Radio Un Cochinero\",\"Master of Puppets (Remastered)\",\"BREAK MY SOUL\",\"ULTRA SOLO REMIX\",\"Massive\",\"Betty (Get Money)\",\"Ojos Marrones\",\"POP!\",\"Layla\",\"MORE\",\"Sweet Child O' Mine\",\"Last Last\",\"Sticky\",\"Hot Shit (feat. Ye & Lil Durk)\",\"Ai Preto\",\"La Loto\",\"die first\",\"Afraid To Feel\",\"Baile no Morro\",\"c\\u00ef\\u00bf\\u00bd\\u00ef\\u00bf\\u00bdmo dormi\",\"STAYING ALIVE (feat. Drake & Lil Baby)\",\"Si Te La Encuentras Por Ah\\u00ef\\u00bf\",\"GIVENCHY\",\"ALIEN SUPERSTAR\",\"Mary On A Cross\",\"Attention\",\"THE SHADE\",\"Come Back Home - From \\\"Purple Hearts\\\"\",\"El Rescate\",\"Heartless\",\"Stay With Me (with Justin Timberlake, Halsey, & Pharrell)\",\"JGL\",\"Don't You Worry\",\"Pipoco\",\"Forget Me\",\"Bound 2\",\"Talk that Talk\",\"BILLIE EILISH.\",\"Ferxxo 100\",\"KU LO SA - A COLORS SHOW\",\"Prohibidox\",\"Static\",\"The Scientist\",\"Sparks\",\"Talk\",\"XQ Te Pones As\\u00ef\\u00bf\",\"Selfish\",\"Sin Se\\u00ef\\u00bf\\u00bd\\u00ef\",\"Lady Mi Amor\",\"Poland\",\"THE LONELIEST\",\"Bye Bye\",\"BABY OTAKU\",\"Nxde\",\"Miss You\",\"we fell in love in october\",\"2 Be Loved (Am I Ready)\",\"Celestial\",\"Typa Girl\",\"California Breeze\",\"Bamba (feat. Aitch & BIA)\",\"Casei Com a Putaria\",\"Major Distribution\",\"Pussy & Millions (feat. Travis Scott)\",\"Vigilante Shit\",\"Question...?\",\"On BS\",\"Mastermind\",\"Circo Loco\",\"Spin Bout U\",\"Would've, Could've, Should've\",\"Con La Brisa\",\"Privileged Rappers\",\"The Astronaut\",\"BackOutsideBoyz\",\"Broke Boys\",\"The Great War\",\"My Mind & Me\",\"Bigger Than The Whole Sky\",\"A Veces (feat. Feid)\",\"En La De Ella\",\"Alone\"],\"xaxis\":\"x\",\"y\":[141381703,133716286,140003974,800840817,303236322,183706234,725980112,58149378,95217315,553634067,505671438,58255150,387570742,1163093654,496795686,335222234,363369738,86444842,52135248,200647221,115364561,78300654,899183384,61245289,429829812,127408954,22581161,52294266,843957510,999748277,618990393,188933502,1355959075,786181836,176553476,354495408,2808096550,1109433169,1047101291,570515054,1647990401,2565529693,518745108,107753850,177740666,153372011,57876440,256483385,1214083358,111947664,156338624,720434240,357925728,674072710,1755214421,404562836,373199958,14780425,39578178,54266102,751134527,1356565093,1592909789,635412045,1230675890,585695368,43857627,2009094673,600976848,39709092,39228929,2665343922,223633238,1440757818,165484133,58054811,157058870,95131998,250305248,685032533,38411956,144565150,127567540,399686758,983637508,118482347,882831184,286400165,172825906,1241559043,29562220,77309611,1605224506,1116995633,838079900,1163620694,1093605526,179659294,39058561,36912123,1205951614,1791000570,201660859,248088961,90839753,607123776,55842345,211050784,342897938,2762,601863821,1953533826,2355719893,66902503,96273746,430977451,284819874,721975598,276259178,54225632,2559529074,681583126,2594040133,81102253,11956641,1687664027,611700552,1133865788,1089402494,411747614,255932395,31873544,233801632,1481349984,142095275,2011464183,436027885,2713922350,621660989,950906471,1593270737,1410088830,1235005533,1374581173,94186466,1788326445,1840364617,143573775,684675814,1113838873,1267333350,3562543890,1271293243,265882712,841749534,47956378,806397070,1641426668,2135158446,367316268,350381515,1264310836,30343206,405136812,540654286,57312735,397582059,1479115056,86773632,133753727,123124076,463564958,64533040,65496046,68616963,161460990,70106975,113509496,89933133,71007139,43522589,232896922,37126685,195576623,532336353,538115192,46142772,401036314,127026613,345031710,288101651,60350538,335074782,76767396,46065667,459276435,39666245,138517666,822633917,595900742,51985779,57945987,115010040,175097833,57089066,488386797,32761689,1047480053,153454328,217672943,457184829,726434358,573633020,1406111294,71573339,24975653,145458418,1424589568,231332117,415932686,988515741,50847624,39893489,92035115,118810253,77233241,117747907,266624541,293186992,139681964,123132751,103762518,162887075,91221625,190490915,96180277,185240616,885093467,104992946,147290338,158950978,76910644,137123880,782369383,502574952,207033255,381161027,466231982,357580552,61105704,198275403,705469769,34502215,304118600,1449799467,173627354,90025258,652704649,1829992958,655466831,146409671,95816024,117206995,100409613,80758350,325592432,58473276,52722996,191945597,77377503,743693613,267789608,449701773,67070410,116334601,165584767,367814306,477033549,156214700,448843705,294352144,972164968,920045682,2420461338,244658767,68216992,223582566,471819764,1361425037,116599790,148469433,497225336,88791109,125917280,105062254,95623148,144584800,298063749,166570053,83021468,139836056,303216294,221409663,58890931,81419389,156777415,284908316,93438910,363472647,372476382,56533272,175399345,203221468,1624165576,134294498,70069745,609293408,671365962,93587665,1223481149,1022258230,263453310,1435127549,236857112,147538971,698086140,723894473,403097450,309483971,319566866,909001996,1061966512,124988687,134255790,301051721,156338624,309653982,297328960,332506354,480507035,1065580332,122763672,1365184,184308753,606361689,120972253,338564981,1606986953,1301799902,140187018,107642809,556585270,2303033973,646886885,872137015,571386359,174006928,284785823,163284000,246390068,482257456,168684524,78489819,195516622,1260594497,428685680,1024858327,838586769,199386237,972509632,213438580,210038833,227918678,826623384,1802514301,181831132,462791599,348647203,90598517,807561936,663832097,446390129,485285717,520034544,476244795,629173063,404664135,98709329,110849052,460492795,94005786,389771964,403939487,110073250,351636786,473248298,73981293,155653938,395591396,429504768,242767149,65362788,67540165,62019074,295998468,136689549,135611421,356709897,110649992,301869854,127027715,57144458,56870689,323437194,317726339,116144341,328207708,608228647,180577478,809306935,49262961,614555082,245350949,178660459,51641685,78139948,322336177,391251368,349585590,674772936,119238316,116903579,888046992,130655803,88103848,101114984,1575467011,91656026,53933526,267758538,74601456,920797189,539595276,1367810478,578207856,775542072,656013912,240684449,63803529,466214729,236940480,41924466,225259194,393230256,287201015,599770206,342779426,673801126,1168642797,383550148,530511203,510876816,1763363713,374191487,108809090,436695353,354065229,1143647827,311395144,672656250,1256880657,245095641,686734357,261414174,610045621,1115880852,594482982,566954746,184937148,31959571,824420218,363467642,1127468248,60680939,247737946,154797871,124407432,850608354,376333030,516784627,1608045237,506778838,1472799873,513643924,261286503,783706581,422691058,1062345656,851070493,263894529,345903614,956865266,427486004,156658366,624515457,777765388,1138474110,355219175,290228626,1062956628,1180094974,1456081449,432702334,489945871,465959382,1223481149,2288695111,720825549,2086124197,1690192927,593917618,200972675,71014967,560222750,1806617704,77337771,528544703,865640097,2159346687,211372494,651732901,608334048,863756573,797402345,1695712020,1759567999,223319934,54937991,258316038,596152090,177129919,716591492,1210599487,246376690,496311364,843309044,500340342,107255472,135079152,822239726,1202722675,343197054,240769997,426204830,421135627,554875730,327498031,185408548,245400167,579395142,675039469,252871192,231996128,1929770265,918915401,1180896317,498960285,258714692,143139338,209768491,64714573,50746620,154119539,181328253,370068639,2280566092,563902868,317622165,203680270,81350745,282883169,64787943,2484812918,461437791,1439191367,759208783,368646862,299634472,756907987,682475162,546191065,229473310,202677468,208166039,527033089,94616487,394030335,193443895,299648208,319757142,153240879,346127840,312622938,1200808494,797196073,1970673297,665765558,263779030,339473453,2204080728,2591224264,135444283,236872197,694525298,421365166,349746291,255120451,190981339,924193303,305771063,273005485,89566512,677389855,75476209,408843328,187772591,178512385,101780047,146363130,126443991,157990698,176290831,1023187129,106933107,139193812,212234990,1714490998,197643795,807015863,933815613,499710590,120847157,53909146,2236667932,2123309722,301242089,723894473,237351106,461558540,156898322,127309180,173702135,305650299,123216717,479655659,126191104,344055883,338422004,68895644,86176890,403231558,319546754,61739839,283359161,76831876,283332261,307752576,279737940,212351890,1304313953,150500965,246127838,582863434,58687425,212109195,382199619,41210087,231657891,53729194,244741137,42485571,37778188,254218729,53603447,160035717,37091576,284249832,33381454,184622518,300983101,121077868,106919680,136996305,65719930,229497852,185550869,54682594,240580042,1284942608,71423324,244891912,132171975,184706613,184826429,302006641,330881149,334733572,366214458,114546317,448500832,136676504,190625045,79095270,273194684,333146475,194902696,195918494,248511839,233671263,199587884,91781263,383835984,236060709,189236868,160845341,588955257,238350348,187703102,138334433,445590495,286739476,1122364376,157136970,183273246,164856284,704171068,354614964,279717388,195628667,221752937,263280370,213505179,130419412,155795783,1553497987,293466523,191448892,85924992,176103902,121189256,131746175,244790012,129314708,331511413,170732845,179061440,185236961,171788484,387080183,264717480,244928911,97610446,287278853,887906111,123473120,323455692,240918092,191873381,239411309,703301727,189476119,277132266,278920007,222410722,185392587,202452860,1608164312,624101957,148461629,47093942,380319238,209106362,53987404,115331792,225093344,84697729,159240673,170709584,154356956,723043854,247689123,176474912,235549288,85559365,146223492,187701588,154863153,191333656,253650850,223064273,170413877,218320587,141720999,198365537,177503916,71095708,112436403,203436468,93367537,106249219,181382590,91473363,121871870,73513683,133895612,96007391],\"yaxis\":\"y\",\"type\":\"scatter\"}],                        {\"template\":{\"data\":{\"bar\":[{\"error_x\":{\"color\":\"#2a3f5f\"},\"error_y\":{\"color\":\"#2a3f5f\"},\"marker\":{\"line\":{\"color\":\"#E5ECF6\",\"width\":0.5},\"pattern\":{\"fillmode\":\"overlay\",\"size\":10,\"solidity\":0.2}},\"type\":\"bar\"}],\"barpolar\":[{\"marker\":{\"line\":{\"color\":\"#E5ECF6\",\"width\":0.5},\"pattern\":{\"fillmode\":\"overlay\",\"size\":10,\"solidity\":0.2}},\"type\":\"barpolar\"}],\"carpet\":[{\"aaxis\":{\"endlinecolor\":\"#2a3f5f\",\"gridcolor\":\"white\",\"linecolor\":\"white\",\"minorgridcolor\":\"white\",\"startlinecolor\":\"#2a3f5f\"},\"baxis\":{\"endlinecolor\":\"#2a3f5f\",\"gridcolor\":\"white\",\"linecolor\":\"white\",\"minorgridcolor\":\"white\",\"startlinecolor\":\"#2a3f5f\"},\"type\":\"carpet\"}],\"choropleth\":[{\"colorbar\":{\"outlinewidth\":0,\"ticks\":\"\"},\"type\":\"choropleth\"}],\"contour\":[{\"colorbar\":{\"outlinewidth\":0,\"ticks\":\"\"},\"colorscale\":[[0.0,\"#0d0887\"],[0.1111111111111111,\"#46039f\"],[0.2222222222222222,\"#7201a8\"],[0.3333333333333333,\"#9c179e\"],[0.4444444444444444,\"#bd3786\"],[0.5555555555555556,\"#d8576b\"],[0.6666666666666666,\"#ed7953\"],[0.7777777777777778,\"#fb9f3a\"],[0.8888888888888888,\"#fdca26\"],[1.0,\"#f0f921\"]],\"type\":\"contour\"}],\"contourcarpet\":[{\"colorbar\":{\"outlinewidth\":0,\"ticks\":\"\"},\"type\":\"contourcarpet\"}],\"heatmap\":[{\"colorbar\":{\"outlinewidth\":0,\"ticks\":\"\"},\"colorscale\":[[0.0,\"#0d0887\"],[0.1111111111111111,\"#46039f\"],[0.2222222222222222,\"#7201a8\"],[0.3333333333333333,\"#9c179e\"],[0.4444444444444444,\"#bd3786\"],[0.5555555555555556,\"#d8576b\"],[0.6666666666666666,\"#ed7953\"],[0.7777777777777778,\"#fb9f3a\"],[0.8888888888888888,\"#fdca26\"],[1.0,\"#f0f921\"]],\"type\":\"heatmap\"}],\"heatmapgl\":[{\"colorbar\":{\"outlinewidth\":0,\"ticks\":\"\"},\"colorscale\":[[0.0,\"#0d0887\"],[0.1111111111111111,\"#46039f\"],[0.2222222222222222,\"#7201a8\"],[0.3333333333333333,\"#9c179e\"],[0.4444444444444444,\"#bd3786\"],[0.5555555555555556,\"#d8576b\"],[0.6666666666666666,\"#ed7953\"],[0.7777777777777778,\"#fb9f3a\"],[0.8888888888888888,\"#fdca26\"],[1.0,\"#f0f921\"]],\"type\":\"heatmapgl\"}],\"histogram\":[{\"marker\":{\"pattern\":{\"fillmode\":\"overlay\",\"size\":10,\"solidity\":0.2}},\"type\":\"histogram\"}],\"histogram2d\":[{\"colorbar\":{\"outlinewidth\":0,\"ticks\":\"\"},\"colorscale\":[[0.0,\"#0d0887\"],[0.1111111111111111,\"#46039f\"],[0.2222222222222222,\"#7201a8\"],[0.3333333333333333,\"#9c179e\"],[0.4444444444444444,\"#bd3786\"],[0.5555555555555556,\"#d8576b\"],[0.6666666666666666,\"#ed7953\"],[0.7777777777777778,\"#fb9f3a\"],[0.8888888888888888,\"#fdca26\"],[1.0,\"#f0f921\"]],\"type\":\"histogram2d\"}],\"histogram2dcontour\":[{\"colorbar\":{\"outlinewidth\":0,\"ticks\":\"\"},\"colorscale\":[[0.0,\"#0d0887\"],[0.1111111111111111,\"#46039f\"],[0.2222222222222222,\"#7201a8\"],[0.3333333333333333,\"#9c179e\"],[0.4444444444444444,\"#bd3786\"],[0.5555555555555556,\"#d8576b\"],[0.6666666666666666,\"#ed7953\"],[0.7777777777777778,\"#fb9f3a\"],[0.8888888888888888,\"#fdca26\"],[1.0,\"#f0f921\"]],\"type\":\"histogram2dcontour\"}],\"mesh3d\":[{\"colorbar\":{\"outlinewidth\":0,\"ticks\":\"\"},\"type\":\"mesh3d\"}],\"parcoords\":[{\"line\":{\"colorbar\":{\"outlinewidth\":0,\"ticks\":\"\"}},\"type\":\"parcoords\"}],\"pie\":[{\"automargin\":true,\"type\":\"pie\"}],\"scatter\":[{\"marker\":{\"colorbar\":{\"outlinewidth\":0,\"ticks\":\"\"}},\"type\":\"scatter\"}],\"scatter3d\":[{\"line\":{\"colorbar\":{\"outlinewidth\":0,\"ticks\":\"\"}},\"marker\":{\"colorbar\":{\"outlinewidth\":0,\"ticks\":\"\"}},\"type\":\"scatter3d\"}],\"scattercarpet\":[{\"marker\":{\"colorbar\":{\"outlinewidth\":0,\"ticks\":\"\"}},\"type\":\"scattercarpet\"}],\"scattergeo\":[{\"marker\":{\"colorbar\":{\"outlinewidth\":0,\"ticks\":\"\"}},\"type\":\"scattergeo\"}],\"scattergl\":[{\"marker\":{\"colorbar\":{\"outlinewidth\":0,\"ticks\":\"\"}},\"type\":\"scattergl\"}],\"scattermapbox\":[{\"marker\":{\"colorbar\":{\"outlinewidth\":0,\"ticks\":\"\"}},\"type\":\"scattermapbox\"}],\"scatterpolar\":[{\"marker\":{\"colorbar\":{\"outlinewidth\":0,\"ticks\":\"\"}},\"type\":\"scatterpolar\"}],\"scatterpolargl\":[{\"marker\":{\"colorbar\":{\"outlinewidth\":0,\"ticks\":\"\"}},\"type\":\"scatterpolargl\"}],\"scatterternary\":[{\"marker\":{\"colorbar\":{\"outlinewidth\":0,\"ticks\":\"\"}},\"type\":\"scatterternary\"}],\"surface\":[{\"colorbar\":{\"outlinewidth\":0,\"ticks\":\"\"},\"colorscale\":[[0.0,\"#0d0887\"],[0.1111111111111111,\"#46039f\"],[0.2222222222222222,\"#7201a8\"],[0.3333333333333333,\"#9c179e\"],[0.4444444444444444,\"#bd3786\"],[0.5555555555555556,\"#d8576b\"],[0.6666666666666666,\"#ed7953\"],[0.7777777777777778,\"#fb9f3a\"],[0.8888888888888888,\"#fdca26\"],[1.0,\"#f0f921\"]],\"type\":\"surface\"}],\"table\":[{\"cells\":{\"fill\":{\"color\":\"#EBF0F8\"},\"line\":{\"color\":\"white\"}},\"header\":{\"fill\":{\"color\":\"#C8D4E3\"},\"line\":{\"color\":\"white\"}},\"type\":\"table\"}]},\"layout\":{\"annotationdefaults\":{\"arrowcolor\":\"#2a3f5f\",\"arrowhead\":0,\"arrowwidth\":1},\"autotypenumbers\":\"strict\",\"coloraxis\":{\"colorbar\":{\"outlinewidth\":0,\"ticks\":\"\"}},\"colorscale\":{\"diverging\":[[0,\"#8e0152\"],[0.1,\"#c51b7d\"],[0.2,\"#de77ae\"],[0.3,\"#f1b6da\"],[0.4,\"#fde0ef\"],[0.5,\"#f7f7f7\"],[0.6,\"#e6f5d0\"],[0.7,\"#b8e186\"],[0.8,\"#7fbc41\"],[0.9,\"#4d9221\"],[1,\"#276419\"]],\"sequential\":[[0.0,\"#0d0887\"],[0.1111111111111111,\"#46039f\"],[0.2222222222222222,\"#7201a8\"],[0.3333333333333333,\"#9c179e\"],[0.4444444444444444,\"#bd3786\"],[0.5555555555555556,\"#d8576b\"],[0.6666666666666666,\"#ed7953\"],[0.7777777777777778,\"#fb9f3a\"],[0.8888888888888888,\"#fdca26\"],[1.0,\"#f0f921\"]],\"sequentialminus\":[[0.0,\"#0d0887\"],[0.1111111111111111,\"#46039f\"],[0.2222222222222222,\"#7201a8\"],[0.3333333333333333,\"#9c179e\"],[0.4444444444444444,\"#bd3786\"],[0.5555555555555556,\"#d8576b\"],[0.6666666666666666,\"#ed7953\"],[0.7777777777777778,\"#fb9f3a\"],[0.8888888888888888,\"#fdca26\"],[1.0,\"#f0f921\"]]},\"colorway\":[\"#636efa\",\"#EF553B\",\"#00cc96\",\"#ab63fa\",\"#FFA15A\",\"#19d3f3\",\"#FF6692\",\"#B6E880\",\"#FF97FF\",\"#FECB52\"],\"font\":{\"color\":\"#2a3f5f\"},\"geo\":{\"bgcolor\":\"white\",\"lakecolor\":\"white\",\"landcolor\":\"#E5ECF6\",\"showlakes\":true,\"showland\":true,\"subunitcolor\":\"white\"},\"hoverlabel\":{\"align\":\"left\"},\"hovermode\":\"closest\",\"mapbox\":{\"style\":\"light\"},\"paper_bgcolor\":\"white\",\"plot_bgcolor\":\"#E5ECF6\",\"polar\":{\"angularaxis\":{\"gridcolor\":\"white\",\"linecolor\":\"white\",\"ticks\":\"\"},\"bgcolor\":\"#E5ECF6\",\"radialaxis\":{\"gridcolor\":\"white\",\"linecolor\":\"white\",\"ticks\":\"\"}},\"scene\":{\"xaxis\":{\"backgroundcolor\":\"#E5ECF6\",\"gridcolor\":\"white\",\"gridwidth\":2,\"linecolor\":\"white\",\"showbackground\":true,\"ticks\":\"\",\"zerolinecolor\":\"white\"},\"yaxis\":{\"backgroundcolor\":\"#E5ECF6\",\"gridcolor\":\"white\",\"gridwidth\":2,\"linecolor\":\"white\",\"showbackground\":true,\"ticks\":\"\",\"zerolinecolor\":\"white\"},\"zaxis\":{\"backgroundcolor\":\"#E5ECF6\",\"gridcolor\":\"white\",\"gridwidth\":2,\"linecolor\":\"white\",\"showbackground\":true,\"ticks\":\"\",\"zerolinecolor\":\"white\"}},\"shapedefaults\":{\"line\":{\"color\":\"#2a3f5f\"}},\"ternary\":{\"aaxis\":{\"gridcolor\":\"white\",\"linecolor\":\"white\",\"ticks\":\"\"},\"baxis\":{\"gridcolor\":\"white\",\"linecolor\":\"white\",\"ticks\":\"\"},\"bgcolor\":\"#E5ECF6\",\"caxis\":{\"gridcolor\":\"white\",\"linecolor\":\"white\",\"ticks\":\"\"}},\"title\":{\"x\":0.05},\"xaxis\":{\"automargin\":true,\"gridcolor\":\"white\",\"linecolor\":\"white\",\"ticks\":\"\",\"title\":{\"standoff\":15},\"zerolinecolor\":\"white\",\"zerolinewidth\":2},\"yaxis\":{\"automargin\":true,\"gridcolor\":\"white\",\"linecolor\":\"white\",\"ticks\":\"\",\"title\":{\"standoff\":15},\"zerolinecolor\":\"white\",\"zerolinewidth\":2}}},\"xaxis\":{\"anchor\":\"y\",\"domain\":[0.0,1.0],\"title\":{\"text\":\"track_name\"}},\"yaxis\":{\"anchor\":\"x\",\"domain\":[0.0,1.0],\"title\":{\"text\":\"streams\"}},\"legend\":{\"tracegroupgap\":0},\"title\":{\"text\":\"T\\u00edtulo del gr\\u00e1fico de l\\u00edneas\"},\"height\":1400,\"width\":1800},                        {\"responsive\": true}                    ).then(function(){\n",
       "                            \n",
       "var gd = document.getElementById('d197d404-7f7a-4d96-a780-1794a8c9a9d9');\n",
       "var x = new MutationObserver(function (mutations, observer) {{\n",
       "        var display = window.getComputedStyle(gd).display;\n",
       "        if (!display || display === 'none') {{\n",
       "            console.log([gd, 'removed!']);\n",
       "            Plotly.purge(gd);\n",
       "            observer.disconnect();\n",
       "        }}\n",
       "}});\n",
       "\n",
       "// Listen for the removal of the full notebook cells\n",
       "var notebookContainer = gd.closest('#notebook-container');\n",
       "if (notebookContainer) {{\n",
       "    x.observe(notebookContainer, {childList: true});\n",
       "}}\n",
       "\n",
       "// Listen for the clearing of the current output cell\n",
       "var outputEl = gd.closest('.output');\n",
       "if (outputEl) {{\n",
       "    x.observe(outputEl, {childList: true});\n",
       "}}\n",
       "\n",
       "                        })                };                });            </script>        </div>"
      ]
     },
     "metadata": {},
     "output_type": "display_data"
    }
   ],
   "source": [
    "###### c)\n",
    "\n",
    "fig = px.line(cleanData, x = cleanData['track_name'], y = cleanData['streams'],\n",
    "              title = \"Título del gráfico de líneas\",\n",
    "              labels = {'x': 'X-axis', 'y':'Y-axis'}, width=1800, height=1400)\n",
    "\n",
    "fig.show()"
   ]
  },
  {
   "cell_type": "code",
   "execution_count": 119,
   "metadata": {},
   "outputs": [
    {
     "name": "stdout",
     "output_type": "stream",
     "text": [
      "count    8.160000e+02\n",
      "mean     4.689858e+08\n",
      "std      5.231267e+08\n",
      "min      2.762000e+03\n",
      "25%      1.342848e+08\n",
      "50%      2.638368e+08\n",
      "75%      6.011986e+08\n",
      "max      3.562544e+09\n",
      "Name: streams, dtype: float64\n"
     ]
    }
   ],
   "source": [
    "distribucion = cleanData['streams'].describe()\n",
    "print(distribucion)\n"
   ]
  },
  {
   "cell_type": "code",
   "execution_count": 87,
   "metadata": {},
   "outputs": [],
   "source": [
    "###### d)"
   ]
  },
  {
   "cell_type": "code",
   "execution_count": 126,
   "metadata": {},
   "outputs": [
    {
     "name": "stdout",
     "output_type": "stream",
     "text": [
      "count    4.930000e+02\n",
      "mean     5.063944e+08\n",
      "std      5.331516e+08\n",
      "min      1.478042e+07\n",
      "25%      1.562147e+08\n",
      "50%      2.996482e+08\n",
      "75%      6.815831e+08\n",
      "max      3.562544e+09\n",
      "Name: streams, dtype: float64\n",
      "----------\n",
      "count    3.230000e+02\n",
      "mean     4.118884e+08\n",
      "std      5.029107e+08\n",
      "min      2.762000e+03\n",
      "25%      1.103616e+08\n",
      "50%      2.233199e+08\n",
      "75%      5.352258e+08\n",
      "max      2.808097e+09\n",
      "Name: streams, dtype: float64\n"
     ]
    }
   ],
   "source": [
    "un_artista = cleanData[cleanData['artist_count'] == 1]['streams']\n",
    "varios_artistas = cleanData[cleanData['artist_count'] > 1]['streams']\n",
    "\n",
    "statsUno = un_artista.describe()\n",
    "statsVarios = varios_artistas.describe()\n",
    "\n",
    "print(statsUno)\n",
    "print('----------')\n",
    "print(statsVarios)\n"
   ]
  },
  {
   "cell_type": "markdown",
   "metadata": {},
   "source": [
    "Basandonos en los datos estadisticos de las dos distribuciones, las canciones con un artista solo tienden a tener mayor numero de reproducciones."
   ]
  },
  {
   "cell_type": "code",
   "execution_count": 138,
   "metadata": {},
   "outputs": [
    {
     "data": {
      "application/vnd.plotly.v1+json": {
       "config": {
        "plotlyServerURL": "https://plot.ly"
       },
       "data": [
        {
         "colorscale": [
          [
           0,
           "rgb(103,0,31)"
          ],
          [
           0.1,
           "rgb(178,24,43)"
          ],
          [
           0.2,
           "rgb(214,96,77)"
          ],
          [
           0.3,
           "rgb(244,165,130)"
          ],
          [
           0.4,
           "rgb(253,219,199)"
          ],
          [
           0.5,
           "rgb(247,247,247)"
          ],
          [
           0.6,
           "rgb(209,229,240)"
          ],
          [
           0.7,
           "rgb(146,197,222)"
          ],
          [
           0.8,
           "rgb(67,147,195)"
          ],
          [
           0.9,
           "rgb(33,102,172)"
          ],
          [
           1,
           "rgb(5,48,97)"
          ]
         ],
         "type": "heatmap",
         "x": [
          "track_name",
          "artist(s)_name",
          "artist_count",
          "released_year",
          "released_month",
          "released_day",
          "in_spotify_playlists",
          "in_spotify_charts",
          "streams",
          "in_apple_playlists",
          "in_apple_charts",
          "in_deezer_playlists",
          "in_deezer_charts",
          "in_shazam_charts",
          "bpm",
          "key",
          "mode",
          "danceability_%",
          "valence_%",
          "energy_%",
          "acousticness_%",
          "instrumentalness_%",
          "liveness_%",
          "speechiness_%"
         ],
         "xgap": 1,
         "y": [
          "track_name",
          "artist(s)_name",
          "artist_count",
          "released_year",
          "released_month",
          "released_day",
          "in_spotify_playlists",
          "in_spotify_charts",
          "streams",
          "in_apple_playlists",
          "in_apple_charts",
          "in_deezer_playlists",
          "in_deezer_charts",
          "in_shazam_charts",
          "bpm",
          "key",
          "mode",
          "danceability_%",
          "valence_%",
          "energy_%",
          "acousticness_%",
          "instrumentalness_%",
          "liveness_%",
          "speechiness_%"
         ],
         "ygap": 1,
         "z": [
          "141381703",
          "133716286",
          "140003974",
          "800840817",
          "303236322",
          "183706234",
          "725980112",
          "58149378",
          "95217315",
          "553634067",
          "505671438",
          "58255150",
          "1316855716",
          "387570742",
          "2513188493",
          "1163093654",
          "496795686",
          "30546883",
          "335222234",
          "363369738",
          "86444842",
          "52135248",
          "1297026226",
          "200647221",
          "115364561",
          "78300654",
          "899183384",
          "61245289",
          "429829812",
          "127408954",
          "22581161",
          "52294266",
          "843957510",
          "999748277",
          "618990393",
          "123122413",
          "188933502",
          "1355959075",
          "786181836",
          "176553476",
          "354495408",
          "2808096550",
          "1109433169",
          "1047101291",
          "65156199",
          "570515054",
          "1085685420",
          "1647990401",
          "2565529693",
          "518745108",
          "107753850",
          "177740666",
          "153372011",
          "57876440",
          "1813673666",
          "3703895074",
          "256483385",
          "1214083358",
          "16011326",
          "812019557",
          "111947664",
          "156338624",
          "720434240",
          "357925728",
          "674072710",
          "1755214421",
          "404562836",
          "373199958",
          "14780425",
          "39578178",
          "54266102",
          "2557975762",
          "751134527",
          "2282771485",
          "1356565093",
          "1592909789",
          "635412045",
          "1230675890",
          "585695368",
          "43857627",
          "2009094673",
          "600976848",
          "39709092",
          "39228929",
          "2665343922",
          "223633238",
          "2887241814",
          "1440757818",
          "165484133",
          "58054811",
          "157058870",
          "95131998",
          "250305248",
          "685032533",
          "38411956",
          "144565150",
          "127567540",
          "399686758",
          "983637508",
          "118482347",
          "882831184",
          "286400165",
          "172825906",
          "1241559043",
          "29562220",
          "77309611",
          "1605224506",
          "1116995633",
          "838079900",
          "1163620694",
          "1093605526",
          "179659294",
          "39058561",
          "36912123",
          "1205951614",
          "1791000570",
          "201660859",
          "248088961",
          "90839753",
          "607123776",
          "55842345",
          "211050784",
          "342897938",
          "2762",
          "330346424",
          "601863821",
          "1953533826",
          "2322580122",
          "2355719893",
          "66902503",
          "96273746",
          "430977451",
          "284819874",
          "721975598",
          "1217120710",
          "109276132",
          "276259178",
          "54225632",
          "2559529074",
          "681583126",
          "2594040133",
          "81102253",
          "11956641",
          "1687664027",
          "11599388",
          "611700552",
          "1133865788",
          "1089402494",
          "411747614",
          "255932395",
          "31873544",
          "95053634",
          "1279434863",
          "233801632",
          "1481349984",
          "142095275",
          "618885532",
          "2011464183",
          "1167330737",
          "929964809",
          "436027885",
          "657723613",
          "2713922350",
          "621660989",
          "1591223784",
          "950906471",
          "1593270737",
          "1410088830",
          "1235005533",
          "1661187319",
          "1374581173",
          "94186466",
          "1788326445",
          "1840364617",
          "143573775",
          "684675814",
          "1113838873",
          "1267333350",
          "726307468",
          "3562543890",
          "1131090940",
          "307370144",
          "1271293243",
          "265882712",
          "841749534",
          "47956378",
          "806397070",
          "2132335812",
          "1641426668",
          "2135158446",
          "367316268",
          "350381515",
          "1264310836",
          "30343206",
          "405136812",
          "1145727611",
          "540654286",
          "57312735",
          "397582059",
          "1479115056",
          "86773632",
          "133753727",
          "123124076",
          "463564958",
          "64533040",
          "65496046",
          "68616963",
          "161460990",
          "70106975",
          "113509496",
          "89933133",
          "71007139",
          "43522589",
          "232896922",
          "37126685",
          "195576623",
          "532336353",
          "538115192",
          "46142772",
          "401036314",
          "127026613",
          "345031710",
          "288101651",
          "60350538",
          "335074782",
          "76767396",
          "46065667",
          "459276435",
          "39666245",
          "138517666",
          "822633917",
          "595900742",
          "51985779",
          "57945987",
          "115010040",
          "175097833",
          "57089066",
          "488386797",
          "32761689",
          "1047480053",
          "153454328",
          "217672943",
          "457184829",
          "939844851",
          "726434358",
          "573633020",
          "1406111294",
          "71573339",
          "24975653",
          "145458418",
          "1424589568",
          "231332117",
          "415932686",
          "988515741",
          "50847624",
          "39893489",
          "92035115",
          "118810253",
          "77233241",
          "206399629",
          "117747907",
          "266624541",
          "293186992",
          "139681964",
          "123132751",
          "103762518",
          "162887075",
          "91221625",
          "190490915",
          "96180277",
          "185240616",
          "885093467",
          "104992946",
          "147290338",
          "1302184087",
          "158950978",
          "76910644",
          "137123880",
          "782369383",
          "502574952",
          "207033255",
          "404887295",
          "381161027",
          "466231982",
          "357580552",
          "61105704",
          "198275403",
          "168448603",
          "705469769",
          "34502215",
          "482175240",
          "304118600",
          "1449799467",
          "173627354",
          "90025258",
          "652704649",
          "1829992958",
          "655466831",
          "146409671",
          "95816024",
          "117206995",
          "100409613",
          "80758350",
          "325592432",
          "58473276",
          "52722996",
          "191945597",
          "77377503",
          "743693613",
          "267789608",
          "1221813483",
          "449701773",
          "67070410",
          "116334601",
          "433356509",
          "165584767",
          "367814306",
          "477033549",
          "156214700",
          "448843705",
          "1357608774",
          "294352144",
          "972164968",
          "920045682",
          "2420461338",
          "1947371785",
          "244658767",
          "68216992",
          "223582566",
          "471819764",
          "272377463",
          "1361425037",
          "149778242",
          "116599790",
          "148469433",
          "497225336",
          "88791109",
          "125917280",
          "105062254",
          "95623148",
          "144584800",
          "298063749",
          "166570053",
          "83021468",
          "139836056",
          "303216294",
          "221409663",
          "58890931",
          "81419389",
          "156777415",
          "284908316",
          "93438910",
          "363472647",
          "372476382",
          "380726517",
          "56533272",
          "175399345",
          "203221468",
          "1624165576",
          "134294498",
          "70069745",
          "609293408",
          "671365962",
          "362361576",
          "93587665",
          "1223481149",
          "1022258230",
          "263453310",
          "1435127549",
          "236857112",
          "147538971",
          "698086140",
          "723894473",
          "34450974",
          "403097450",
          "309483971",
          "319566866",
          "909001996",
          "1061966512",
          "32526947",
          "124988687",
          "103787664",
          "134255790",
          "301051721",
          "156338624",
          "152850295",
          "309653982",
          "297328960",
          "332506354",
          "480507035",
          "1065580332",
          "122763672",
          "445763624",
          "1365184",
          "184308753",
          "789753877",
          "323358833",
          "606361689",
          "120972253",
          "338564981",
          "1606986953",
          "1301799902",
          "140187018",
          "1897517891",
          "107642809",
          "551305895",
          "556585270",
          "2303033973",
          "646886885",
          "222612678",
          "1814349763",
          "872137015",
          "571386359",
          "304079786",
          "174006928",
          "284785823",
          "163284000",
          "246390068",
          "482257456",
          "168684524",
          "78489819",
          "195516622",
          "1260594497",
          "428685680",
          "1024858327",
          "838586769",
          "199386237",
          "972509632",
          "213438580",
          "1555511105",
          "210038833",
          "227918678",
          "826623384",
          "1802514301",
          "1329090101",
          "181831132",
          "462791599",
          "348647203",
          "366599607",
          "90598517",
          "1479264469",
          "1449779435",
          "1159176109",
          "769213520",
          "741301563",
          "807561936",
          "834129063",
          "663832097",
          "446390129",
          "690104769",
          "485285717",
          "520034544",
          "476244795",
          "629173063",
          "404664135",
          "98709329",
          "110849052",
          "460492795",
          "94005786",
          "395591396",
          "389771964",
          "403939487",
          "481697415",
          "110073250",
          "88092256",
          "351636786",
          "473248298",
          "73981293",
          "155653938",
          "395591396",
          "429504768",
          "242767149",
          "65362788",
          "67540165",
          "62019074",
          "135723538",
          "295998468",
          "261116938",
          "136689549",
          "135611421",
          "356709897",
          "110649992",
          "301869854",
          "127027715",
          "57144458",
          "56870689",
          "323437194",
          "317726339",
          "116144341",
          "328207708",
          "608228647",
          "180577478",
          "809306935",
          "49262961",
          "614555082",
          "245350949",
          "178660459",
          "51641685",
          "78139948",
          "322336177",
          "1007612429",
          "326792833",
          "391251368",
          "349585590",
          "339659802",
          "674772936",
          "432719968",
          "1309887447",
          "119238316",
          "116903579",
          "888046992",
          "200660871",
          "130655803",
          "1887039593",
          "88103848",
          "101114984",
          "1575467011",
          "91656026",
          "1042568408",
          "1735441776",
          "726837877",
          "53933526",
          "267758538",
          "74601456",
          "920797189",
          "539595276",
          "1367810478",
          "578207856",
          "775542072",
          "863625566",
          "656013912",
          "1056760045",
          "611994237",
          "1230855859",
          "582981380",
          "1858144199",
          "240684449",
          "583687007",
          "63803529",
          "466214729",
          "236940480",
          "41924466",
          "225259194",
          "393230256",
          "287201015",
          "599770206",
          "342779426",
          "673801126",
          "1168642797",
          "540539717",
          "383550148",
          "530511203",
          "37307967",
          "510876816",
          "1445941661",
          "1763363713",
          "374191487",
          "108809090",
          "436695353",
          "421040617",
          "501541661",
          "354065229",
          "1143647827",
          "311395144",
          "672656250",
          "1256880657",
          "1692897992",
          "245095641",
          "686734357",
          "261414174",
          "610045621",
          "1115880852",
          "594482982",
          "566954746",
          "BPM110KeyAModeMajorDanceability53Valence75Energy69Acousticness7Instrumentalness0Liveness17Speechiness3",
          "374706940",
          "184937148",
          "31959571",
          "167076418",
          "824420218",
          "363467642",
          "1127468248",
          "60680939",
          "247737946",
          "1699402402",
          "154797871",
          "198883004",
          "124407432",
          "850608354",
          "376333030",
          "516784627",
          "1608045237",
          "506778838",
          "1472799873",
          "513643924",
          "261286503",
          "783706581",
          "422691058",
          "1062345656",
          "1252563873",
          "851070493",
          "263894529",
          "345903614",
          "951637566",
          "956865266",
          "427486004",
          "156658366",
          "624515457",
          "777765388",
          "412795151",
          "1138474110",
          "355219175",
          "290228626",
          "1062956628",
          "1180094974",
          "1456081449",
          "432702334",
          "489945871",
          "465959382",
          "1223481149",
          "2864791672",
          "2288695111",
          "720825549",
          "2086124197",
          "1690192927",
          "991336132",
          "593917618",
          "200972675",
          "71014967",
          "560222750",
          "1806617704",
          "77337771",
          "528544703",
          "865640097",
          "2159346687",
          "211372494",
          "651732901",
          "608334048",
          "863756573",
          "797402345",
          "1695712020",
          "1759567999",
          "223319934",
          "54937991",
          "226897599",
          "258316038",
          "596152090",
          "177129919",
          "716591492",
          "1210599487",
          "246376690",
          "496311364",
          "146789379",
          "843309044",
          "500340342",
          "107255472",
          "135079152",
          "822239726",
          "1202722675",
          "343197054",
          "240769997",
          "426204830",
          "421135627",
          "554875730",
          "467727006",
          "327498031",
          "185408548",
          "245400167",
          "579395142",
          "675039469",
          "252871192",
          "231996128",
          "1929770265",
          "918915401",
          "1180896317",
          "498960285",
          "685071800",
          "258714692",
          "143139338",
          "209768491",
          "64714573",
          "50746620",
          "154119539",
          "181328253",
          "370068639",
          "2280566092",
          "563902868",
          "317622165",
          "291709698",
          "203680270",
          "81350745",
          "282883169",
          "64787943",
          "2484812918",
          "461437791",
          "1439191367",
          "759208783",
          "368646862",
          "299634472",
          "756907987",
          "682475162",
          "546191065",
          "229473310",
          "202677468",
          "121913181",
          "208166039",
          "527033089",
          "94616487",
          "394030335",
          "193443895",
          "299648208",
          "182978249",
          "319757142",
          "109091573",
          "153240879",
          "346127840",
          "312622938",
          "2197010679",
          "1200808494",
          "797196073",
          "1970673297",
          "665765558",
          "263779030",
          "339473453",
          "2204080728",
          "2591224264",
          "135444283",
          "1457139296",
          "236872197",
          "694525298",
          "240661097",
          "421365166",
          "349746291",
          "255120451",
          "190981339",
          "924193303",
          "305771063",
          "273005485",
          "89566512",
          "677389855",
          "75476209",
          "408843328",
          "187772591",
          "178512385",
          "101780047",
          "118381354",
          "146363130",
          "126443991",
          "157990698",
          "176290831",
          "1023187129",
          "106933107",
          "139193812",
          "212234990",
          "1714490998",
          "197643795",
          "807015863",
          "933815613",
          "499710590",
          "120847157",
          "53909146",
          "2236667932",
          "2123309722",
          "301242089",
          "723894473",
          "237351106",
          "461558540",
          "417230415",
          "156898322",
          "127309180",
          "313113297",
          "173702135",
          "271666301",
          "305650299",
          "123216717",
          "479655659",
          "126191104",
          "344055883",
          "338422004",
          "68895644",
          "86176890",
          "403231558",
          "319546754",
          "61739839",
          "283359161",
          "76831876",
          "283332261",
          "307752576",
          "279737940",
          "212351890",
          "1304313953",
          "150500965",
          "246127838",
          "582863434",
          "58687425",
          "212109195",
          "382199619",
          "41210087",
          "231657891",
          "53729194",
          "244741137",
          "42485571",
          "37778188",
          "254218729",
          "53603447",
          "160035717",
          "164163229",
          "37091576",
          "284249832",
          "33381454",
          "184622518",
          "300983101",
          "121077868",
          "106919680",
          "136996305",
          "65719930",
          "229497852",
          "185550869",
          "54682594",
          "240580042",
          "1284942608",
          "71423324",
          "244891912",
          "132171975",
          "184706613",
          "184826429",
          "302006641",
          "330881149",
          "334733572",
          "366214458",
          "114546317",
          "290833204",
          "448500832",
          "136676504",
          "190625045",
          "79095270",
          "273194684",
          "333146475",
          "194902696",
          "311482393",
          "195918494",
          "248511839",
          "233671263",
          "199587884",
          "91781263",
          "383835984",
          "236060709",
          "189236868",
          "160845341",
          "588955257",
          "238350348",
          "187703102",
          "295307001",
          "138334433",
          "445590495",
          "286739476",
          "1122364376",
          "157136970",
          "137070925",
          "183273246",
          "184807630",
          "164856284",
          "704171068",
          "354614964",
          "279717388",
          "195628667",
          "221752937",
          "263280370",
          "213505179",
          "130419412",
          "155795783",
          "1553497987",
          "293466523",
          "711366595",
          "191448892",
          "85924992",
          "176103902",
          "121189256",
          "131746175",
          "244790012",
          "129314708",
          "331511413",
          "219196651",
          "170732845",
          "273914335",
          "179061440",
          "185236961",
          "171788484",
          "387080183",
          "264717480",
          "244928911",
          "97610446",
          "287278853",
          "887906111",
          "123473120",
          "295152154",
          "323455692",
          "240918092",
          "191873381",
          "284216603",
          "239411309",
          "265548837",
          "703301727",
          "244585109",
          "189476119",
          "277132266",
          "278920007",
          "222410722",
          "185392587",
          "202452860",
          "1608164312",
          "624101957",
          "148461629",
          "47093942",
          "380319238",
          "209106362",
          "53987404",
          "115331792",
          "225093344",
          "84697729",
          "159240673",
          "170709584",
          "154356956",
          "723043854",
          "247689123",
          "176474912",
          "235549288",
          "140430339",
          "85559365",
          "146223492",
          "187701588",
          "154863153",
          "191333656",
          "253650850",
          "223064273",
          "170413877",
          "218320587",
          "141720999",
          "187339835",
          "198365537",
          "186104310",
          "177503916",
          "71095708",
          "112436403",
          "203436468",
          "93367537",
          "106249219",
          "181382590",
          "91473363",
          "121871870",
          "73513683",
          "133895612",
          "96007391"
         ],
         "zmax": 1,
         "zmin": -0.25
        }
       ],
       "layout": {
        "height": 600,
        "template": {
         "data": {
          "bar": [
           {
            "error_x": {
             "color": "#2a3f5f"
            },
            "error_y": {
             "color": "#2a3f5f"
            },
            "marker": {
             "line": {
              "color": "#E5ECF6",
              "width": 0.5
             },
             "pattern": {
              "fillmode": "overlay",
              "size": 10,
              "solidity": 0.2
             }
            },
            "type": "bar"
           }
          ],
          "barpolar": [
           {
            "marker": {
             "line": {
              "color": "#E5ECF6",
              "width": 0.5
             },
             "pattern": {
              "fillmode": "overlay",
              "size": 10,
              "solidity": 0.2
             }
            },
            "type": "barpolar"
           }
          ],
          "carpet": [
           {
            "aaxis": {
             "endlinecolor": "#2a3f5f",
             "gridcolor": "white",
             "linecolor": "white",
             "minorgridcolor": "white",
             "startlinecolor": "#2a3f5f"
            },
            "baxis": {
             "endlinecolor": "#2a3f5f",
             "gridcolor": "white",
             "linecolor": "white",
             "minorgridcolor": "white",
             "startlinecolor": "#2a3f5f"
            },
            "type": "carpet"
           }
          ],
          "choropleth": [
           {
            "colorbar": {
             "outlinewidth": 0,
             "ticks": ""
            },
            "type": "choropleth"
           }
          ],
          "contour": [
           {
            "colorbar": {
             "outlinewidth": 0,
             "ticks": ""
            },
            "colorscale": [
             [
              0,
              "#0d0887"
             ],
             [
              0.1111111111111111,
              "#46039f"
             ],
             [
              0.2222222222222222,
              "#7201a8"
             ],
             [
              0.3333333333333333,
              "#9c179e"
             ],
             [
              0.4444444444444444,
              "#bd3786"
             ],
             [
              0.5555555555555556,
              "#d8576b"
             ],
             [
              0.6666666666666666,
              "#ed7953"
             ],
             [
              0.7777777777777778,
              "#fb9f3a"
             ],
             [
              0.8888888888888888,
              "#fdca26"
             ],
             [
              1,
              "#f0f921"
             ]
            ],
            "type": "contour"
           }
          ],
          "contourcarpet": [
           {
            "colorbar": {
             "outlinewidth": 0,
             "ticks": ""
            },
            "type": "contourcarpet"
           }
          ],
          "heatmap": [
           {
            "colorbar": {
             "outlinewidth": 0,
             "ticks": ""
            },
            "colorscale": [
             [
              0,
              "#0d0887"
             ],
             [
              0.1111111111111111,
              "#46039f"
             ],
             [
              0.2222222222222222,
              "#7201a8"
             ],
             [
              0.3333333333333333,
              "#9c179e"
             ],
             [
              0.4444444444444444,
              "#bd3786"
             ],
             [
              0.5555555555555556,
              "#d8576b"
             ],
             [
              0.6666666666666666,
              "#ed7953"
             ],
             [
              0.7777777777777778,
              "#fb9f3a"
             ],
             [
              0.8888888888888888,
              "#fdca26"
             ],
             [
              1,
              "#f0f921"
             ]
            ],
            "type": "heatmap"
           }
          ],
          "heatmapgl": [
           {
            "colorbar": {
             "outlinewidth": 0,
             "ticks": ""
            },
            "colorscale": [
             [
              0,
              "#0d0887"
             ],
             [
              0.1111111111111111,
              "#46039f"
             ],
             [
              0.2222222222222222,
              "#7201a8"
             ],
             [
              0.3333333333333333,
              "#9c179e"
             ],
             [
              0.4444444444444444,
              "#bd3786"
             ],
             [
              0.5555555555555556,
              "#d8576b"
             ],
             [
              0.6666666666666666,
              "#ed7953"
             ],
             [
              0.7777777777777778,
              "#fb9f3a"
             ],
             [
              0.8888888888888888,
              "#fdca26"
             ],
             [
              1,
              "#f0f921"
             ]
            ],
            "type": "heatmapgl"
           }
          ],
          "histogram": [
           {
            "marker": {
             "pattern": {
              "fillmode": "overlay",
              "size": 10,
              "solidity": 0.2
             }
            },
            "type": "histogram"
           }
          ],
          "histogram2d": [
           {
            "colorbar": {
             "outlinewidth": 0,
             "ticks": ""
            },
            "colorscale": [
             [
              0,
              "#0d0887"
             ],
             [
              0.1111111111111111,
              "#46039f"
             ],
             [
              0.2222222222222222,
              "#7201a8"
             ],
             [
              0.3333333333333333,
              "#9c179e"
             ],
             [
              0.4444444444444444,
              "#bd3786"
             ],
             [
              0.5555555555555556,
              "#d8576b"
             ],
             [
              0.6666666666666666,
              "#ed7953"
             ],
             [
              0.7777777777777778,
              "#fb9f3a"
             ],
             [
              0.8888888888888888,
              "#fdca26"
             ],
             [
              1,
              "#f0f921"
             ]
            ],
            "type": "histogram2d"
           }
          ],
          "histogram2dcontour": [
           {
            "colorbar": {
             "outlinewidth": 0,
             "ticks": ""
            },
            "colorscale": [
             [
              0,
              "#0d0887"
             ],
             [
              0.1111111111111111,
              "#46039f"
             ],
             [
              0.2222222222222222,
              "#7201a8"
             ],
             [
              0.3333333333333333,
              "#9c179e"
             ],
             [
              0.4444444444444444,
              "#bd3786"
             ],
             [
              0.5555555555555556,
              "#d8576b"
             ],
             [
              0.6666666666666666,
              "#ed7953"
             ],
             [
              0.7777777777777778,
              "#fb9f3a"
             ],
             [
              0.8888888888888888,
              "#fdca26"
             ],
             [
              1,
              "#f0f921"
             ]
            ],
            "type": "histogram2dcontour"
           }
          ],
          "mesh3d": [
           {
            "colorbar": {
             "outlinewidth": 0,
             "ticks": ""
            },
            "type": "mesh3d"
           }
          ],
          "parcoords": [
           {
            "line": {
             "colorbar": {
              "outlinewidth": 0,
              "ticks": ""
             }
            },
            "type": "parcoords"
           }
          ],
          "pie": [
           {
            "automargin": true,
            "type": "pie"
           }
          ],
          "scatter": [
           {
            "marker": {
             "colorbar": {
              "outlinewidth": 0,
              "ticks": ""
             }
            },
            "type": "scatter"
           }
          ],
          "scatter3d": [
           {
            "line": {
             "colorbar": {
              "outlinewidth": 0,
              "ticks": ""
             }
            },
            "marker": {
             "colorbar": {
              "outlinewidth": 0,
              "ticks": ""
             }
            },
            "type": "scatter3d"
           }
          ],
          "scattercarpet": [
           {
            "marker": {
             "colorbar": {
              "outlinewidth": 0,
              "ticks": ""
             }
            },
            "type": "scattercarpet"
           }
          ],
          "scattergeo": [
           {
            "marker": {
             "colorbar": {
              "outlinewidth": 0,
              "ticks": ""
             }
            },
            "type": "scattergeo"
           }
          ],
          "scattergl": [
           {
            "marker": {
             "colorbar": {
              "outlinewidth": 0,
              "ticks": ""
             }
            },
            "type": "scattergl"
           }
          ],
          "scattermapbox": [
           {
            "marker": {
             "colorbar": {
              "outlinewidth": 0,
              "ticks": ""
             }
            },
            "type": "scattermapbox"
           }
          ],
          "scatterpolar": [
           {
            "marker": {
             "colorbar": {
              "outlinewidth": 0,
              "ticks": ""
             }
            },
            "type": "scatterpolar"
           }
          ],
          "scatterpolargl": [
           {
            "marker": {
             "colorbar": {
              "outlinewidth": 0,
              "ticks": ""
             }
            },
            "type": "scatterpolargl"
           }
          ],
          "scatterternary": [
           {
            "marker": {
             "colorbar": {
              "outlinewidth": 0,
              "ticks": ""
             }
            },
            "type": "scatterternary"
           }
          ],
          "surface": [
           {
            "colorbar": {
             "outlinewidth": 0,
             "ticks": ""
            },
            "colorscale": [
             [
              0,
              "#0d0887"
             ],
             [
              0.1111111111111111,
              "#46039f"
             ],
             [
              0.2222222222222222,
              "#7201a8"
             ],
             [
              0.3333333333333333,
              "#9c179e"
             ],
             [
              0.4444444444444444,
              "#bd3786"
             ],
             [
              0.5555555555555556,
              "#d8576b"
             ],
             [
              0.6666666666666666,
              "#ed7953"
             ],
             [
              0.7777777777777778,
              "#fb9f3a"
             ],
             [
              0.8888888888888888,
              "#fdca26"
             ],
             [
              1,
              "#f0f921"
             ]
            ],
            "type": "surface"
           }
          ],
          "table": [
           {
            "cells": {
             "fill": {
              "color": "#EBF0F8"
             },
             "line": {
              "color": "white"
             }
            },
            "header": {
             "fill": {
              "color": "#C8D4E3"
             },
             "line": {
              "color": "white"
             }
            },
            "type": "table"
           }
          ]
         },
         "layout": {
          "annotationdefaults": {
           "arrowcolor": "#2a3f5f",
           "arrowhead": 0,
           "arrowwidth": 1
          },
          "autotypenumbers": "strict",
          "coloraxis": {
           "colorbar": {
            "outlinewidth": 0,
            "ticks": ""
           }
          },
          "colorscale": {
           "diverging": [
            [
             0,
             "#8e0152"
            ],
            [
             0.1,
             "#c51b7d"
            ],
            [
             0.2,
             "#de77ae"
            ],
            [
             0.3,
             "#f1b6da"
            ],
            [
             0.4,
             "#fde0ef"
            ],
            [
             0.5,
             "#f7f7f7"
            ],
            [
             0.6,
             "#e6f5d0"
            ],
            [
             0.7,
             "#b8e186"
            ],
            [
             0.8,
             "#7fbc41"
            ],
            [
             0.9,
             "#4d9221"
            ],
            [
             1,
             "#276419"
            ]
           ],
           "sequential": [
            [
             0,
             "#0d0887"
            ],
            [
             0.1111111111111111,
             "#46039f"
            ],
            [
             0.2222222222222222,
             "#7201a8"
            ],
            [
             0.3333333333333333,
             "#9c179e"
            ],
            [
             0.4444444444444444,
             "#bd3786"
            ],
            [
             0.5555555555555556,
             "#d8576b"
            ],
            [
             0.6666666666666666,
             "#ed7953"
            ],
            [
             0.7777777777777778,
             "#fb9f3a"
            ],
            [
             0.8888888888888888,
             "#fdca26"
            ],
            [
             1,
             "#f0f921"
            ]
           ],
           "sequentialminus": [
            [
             0,
             "#0d0887"
            ],
            [
             0.1111111111111111,
             "#46039f"
            ],
            [
             0.2222222222222222,
             "#7201a8"
            ],
            [
             0.3333333333333333,
             "#9c179e"
            ],
            [
             0.4444444444444444,
             "#bd3786"
            ],
            [
             0.5555555555555556,
             "#d8576b"
            ],
            [
             0.6666666666666666,
             "#ed7953"
            ],
            [
             0.7777777777777778,
             "#fb9f3a"
            ],
            [
             0.8888888888888888,
             "#fdca26"
            ],
            [
             1,
             "#f0f921"
            ]
           ]
          },
          "colorway": [
           "#636efa",
           "#EF553B",
           "#00cc96",
           "#ab63fa",
           "#FFA15A",
           "#19d3f3",
           "#FF6692",
           "#B6E880",
           "#FF97FF",
           "#FECB52"
          ],
          "font": {
           "color": "#2a3f5f"
          },
          "geo": {
           "bgcolor": "white",
           "lakecolor": "white",
           "landcolor": "#E5ECF6",
           "showlakes": true,
           "showland": true,
           "subunitcolor": "white"
          },
          "hoverlabel": {
           "align": "left"
          },
          "hovermode": "closest",
          "mapbox": {
           "style": "light"
          },
          "paper_bgcolor": "white",
          "plot_bgcolor": "#E5ECF6",
          "polar": {
           "angularaxis": {
            "gridcolor": "white",
            "linecolor": "white",
            "ticks": ""
           },
           "bgcolor": "#E5ECF6",
           "radialaxis": {
            "gridcolor": "white",
            "linecolor": "white",
            "ticks": ""
           }
          },
          "scene": {
           "xaxis": {
            "backgroundcolor": "#E5ECF6",
            "gridcolor": "white",
            "gridwidth": 2,
            "linecolor": "white",
            "showbackground": true,
            "ticks": "",
            "zerolinecolor": "white"
           },
           "yaxis": {
            "backgroundcolor": "#E5ECF6",
            "gridcolor": "white",
            "gridwidth": 2,
            "linecolor": "white",
            "showbackground": true,
            "ticks": "",
            "zerolinecolor": "white"
           },
           "zaxis": {
            "backgroundcolor": "#E5ECF6",
            "gridcolor": "white",
            "gridwidth": 2,
            "linecolor": "white",
            "showbackground": true,
            "ticks": "",
            "zerolinecolor": "white"
           }
          },
          "shapedefaults": {
           "line": {
            "color": "#2a3f5f"
           }
          },
          "ternary": {
           "aaxis": {
            "gridcolor": "white",
            "linecolor": "white",
            "ticks": ""
           },
           "baxis": {
            "gridcolor": "white",
            "linecolor": "white",
            "ticks": ""
           },
           "bgcolor": "#E5ECF6",
           "caxis": {
            "gridcolor": "white",
            "linecolor": "white",
            "ticks": ""
           }
          },
          "title": {
           "x": 0.05
          },
          "xaxis": {
           "automargin": true,
           "gridcolor": "white",
           "linecolor": "white",
           "ticks": "",
           "title": {
            "standoff": 15
           },
           "zerolinecolor": "white",
           "zerolinewidth": 2
          },
          "yaxis": {
           "automargin": true,
           "gridcolor": "white",
           "linecolor": "white",
           "ticks": "",
           "title": {
            "standoff": 15
           },
           "zerolinecolor": "white",
           "zerolinewidth": 2
          }
         }
        },
        "title": {
         "text": "correlacion",
         "x": 0.5
        },
        "width": 600,
        "xaxis": {
         "showgrid": false
        },
        "yaxis": {
         "autorange": "reversed",
         "showgrid": false
        }
       }
      },
      "text/html": [
       "<div>                            <div id=\"ed867851-9504-4782-a4f1-1da767ca191e\" class=\"plotly-graph-div\" style=\"height:600px; width:600px;\"></div>            <script type=\"text/javascript\">                require([\"plotly\"], function(Plotly) {                    window.PLOTLYENV=window.PLOTLYENV || {};                                    if (document.getElementById(\"ed867851-9504-4782-a4f1-1da767ca191e\")) {                    Plotly.newPlot(                        \"ed867851-9504-4782-a4f1-1da767ca191e\",                        [{\"colorscale\":[[0.0,\"rgb(103,0,31)\"],[0.1,\"rgb(178,24,43)\"],[0.2,\"rgb(214,96,77)\"],[0.3,\"rgb(244,165,130)\"],[0.4,\"rgb(253,219,199)\"],[0.5,\"rgb(247,247,247)\"],[0.6,\"rgb(209,229,240)\"],[0.7,\"rgb(146,197,222)\"],[0.8,\"rgb(67,147,195)\"],[0.9,\"rgb(33,102,172)\"],[1.0,\"rgb(5,48,97)\"]],\"x\":[\"track_name\",\"artist(s)_name\",\"artist_count\",\"released_year\",\"released_month\",\"released_day\",\"in_spotify_playlists\",\"in_spotify_charts\",\"streams\",\"in_apple_playlists\",\"in_apple_charts\",\"in_deezer_playlists\",\"in_deezer_charts\",\"in_shazam_charts\",\"bpm\",\"key\",\"mode\",\"danceability_%\",\"valence_%\",\"energy_%\",\"acousticness_%\",\"instrumentalness_%\",\"liveness_%\",\"speechiness_%\"],\"xgap\":1,\"y\":[\"track_name\",\"artist(s)_name\",\"artist_count\",\"released_year\",\"released_month\",\"released_day\",\"in_spotify_playlists\",\"in_spotify_charts\",\"streams\",\"in_apple_playlists\",\"in_apple_charts\",\"in_deezer_playlists\",\"in_deezer_charts\",\"in_shazam_charts\",\"bpm\",\"key\",\"mode\",\"danceability_%\",\"valence_%\",\"energy_%\",\"acousticness_%\",\"instrumentalness_%\",\"liveness_%\",\"speechiness_%\"],\"ygap\":1,\"z\":[\"141381703\",\"133716286\",\"140003974\",\"800840817\",\"303236322\",\"183706234\",\"725980112\",\"58149378\",\"95217315\",\"553634067\",\"505671438\",\"58255150\",\"1316855716\",\"387570742\",\"2513188493\",\"1163093654\",\"496795686\",\"30546883\",\"335222234\",\"363369738\",\"86444842\",\"52135248\",\"1297026226\",\"200647221\",\"115364561\",\"78300654\",\"899183384\",\"61245289\",\"429829812\",\"127408954\",\"22581161\",\"52294266\",\"843957510\",\"999748277\",\"618990393\",\"123122413\",\"188933502\",\"1355959075\",\"786181836\",\"176553476\",\"354495408\",\"2808096550\",\"1109433169\",\"1047101291\",\"65156199\",\"570515054\",\"1085685420\",\"1647990401\",\"2565529693\",\"518745108\",\"107753850\",\"177740666\",\"153372011\",\"57876440\",\"1813673666\",\"3703895074\",\"256483385\",\"1214083358\",\"16011326\",\"812019557\",\"111947664\",\"156338624\",\"720434240\",\"357925728\",\"674072710\",\"1755214421\",\"404562836\",\"373199958\",\"14780425\",\"39578178\",\"54266102\",\"2557975762\",\"751134527\",\"2282771485\",\"1356565093\",\"1592909789\",\"635412045\",\"1230675890\",\"585695368\",\"43857627\",\"2009094673\",\"600976848\",\"39709092\",\"39228929\",\"2665343922\",\"223633238\",\"2887241814\",\"1440757818\",\"165484133\",\"58054811\",\"157058870\",\"95131998\",\"250305248\",\"685032533\",\"38411956\",\"144565150\",\"127567540\",\"399686758\",\"983637508\",\"118482347\",\"882831184\",\"286400165\",\"172825906\",\"1241559043\",\"29562220\",\"77309611\",\"1605224506\",\"1116995633\",\"838079900\",\"1163620694\",\"1093605526\",\"179659294\",\"39058561\",\"36912123\",\"1205951614\",\"1791000570\",\"201660859\",\"248088961\",\"90839753\",\"607123776\",\"55842345\",\"211050784\",\"342897938\",\"2762\",\"330346424\",\"601863821\",\"1953533826\",\"2322580122\",\"2355719893\",\"66902503\",\"96273746\",\"430977451\",\"284819874\",\"721975598\",\"1217120710\",\"109276132\",\"276259178\",\"54225632\",\"2559529074\",\"681583126\",\"2594040133\",\"81102253\",\"11956641\",\"1687664027\",\"11599388\",\"611700552\",\"1133865788\",\"1089402494\",\"411747614\",\"255932395\",\"31873544\",\"95053634\",\"1279434863\",\"233801632\",\"1481349984\",\"142095275\",\"618885532\",\"2011464183\",\"1167330737\",\"929964809\",\"436027885\",\"657723613\",\"2713922350\",\"621660989\",\"1591223784\",\"950906471\",\"1593270737\",\"1410088830\",\"1235005533\",\"1661187319\",\"1374581173\",\"94186466\",\"1788326445\",\"1840364617\",\"143573775\",\"684675814\",\"1113838873\",\"1267333350\",\"726307468\",\"3562543890\",\"1131090940\",\"307370144\",\"1271293243\",\"265882712\",\"841749534\",\"47956378\",\"806397070\",\"2132335812\",\"1641426668\",\"2135158446\",\"367316268\",\"350381515\",\"1264310836\",\"30343206\",\"405136812\",\"1145727611\",\"540654286\",\"57312735\",\"397582059\",\"1479115056\",\"86773632\",\"133753727\",\"123124076\",\"463564958\",\"64533040\",\"65496046\",\"68616963\",\"161460990\",\"70106975\",\"113509496\",\"89933133\",\"71007139\",\"43522589\",\"232896922\",\"37126685\",\"195576623\",\"532336353\",\"538115192\",\"46142772\",\"401036314\",\"127026613\",\"345031710\",\"288101651\",\"60350538\",\"335074782\",\"76767396\",\"46065667\",\"459276435\",\"39666245\",\"138517666\",\"822633917\",\"595900742\",\"51985779\",\"57945987\",\"115010040\",\"175097833\",\"57089066\",\"488386797\",\"32761689\",\"1047480053\",\"153454328\",\"217672943\",\"457184829\",\"939844851\",\"726434358\",\"573633020\",\"1406111294\",\"71573339\",\"24975653\",\"145458418\",\"1424589568\",\"231332117\",\"415932686\",\"988515741\",\"50847624\",\"39893489\",\"92035115\",\"118810253\",\"77233241\",\"206399629\",\"117747907\",\"266624541\",\"293186992\",\"139681964\",\"123132751\",\"103762518\",\"162887075\",\"91221625\",\"190490915\",\"96180277\",\"185240616\",\"885093467\",\"104992946\",\"147290338\",\"1302184087\",\"158950978\",\"76910644\",\"137123880\",\"782369383\",\"502574952\",\"207033255\",\"404887295\",\"381161027\",\"466231982\",\"357580552\",\"61105704\",\"198275403\",\"168448603\",\"705469769\",\"34502215\",\"482175240\",\"304118600\",\"1449799467\",\"173627354\",\"90025258\",\"652704649\",\"1829992958\",\"655466831\",\"146409671\",\"95816024\",\"117206995\",\"100409613\",\"80758350\",\"325592432\",\"58473276\",\"52722996\",\"191945597\",\"77377503\",\"743693613\",\"267789608\",\"1221813483\",\"449701773\",\"67070410\",\"116334601\",\"433356509\",\"165584767\",\"367814306\",\"477033549\",\"156214700\",\"448843705\",\"1357608774\",\"294352144\",\"972164968\",\"920045682\",\"2420461338\",\"1947371785\",\"244658767\",\"68216992\",\"223582566\",\"471819764\",\"272377463\",\"1361425037\",\"149778242\",\"116599790\",\"148469433\",\"497225336\",\"88791109\",\"125917280\",\"105062254\",\"95623148\",\"144584800\",\"298063749\",\"166570053\",\"83021468\",\"139836056\",\"303216294\",\"221409663\",\"58890931\",\"81419389\",\"156777415\",\"284908316\",\"93438910\",\"363472647\",\"372476382\",\"380726517\",\"56533272\",\"175399345\",\"203221468\",\"1624165576\",\"134294498\",\"70069745\",\"609293408\",\"671365962\",\"362361576\",\"93587665\",\"1223481149\",\"1022258230\",\"263453310\",\"1435127549\",\"236857112\",\"147538971\",\"698086140\",\"723894473\",\"34450974\",\"403097450\",\"309483971\",\"319566866\",\"909001996\",\"1061966512\",\"32526947\",\"124988687\",\"103787664\",\"134255790\",\"301051721\",\"156338624\",\"152850295\",\"309653982\",\"297328960\",\"332506354\",\"480507035\",\"1065580332\",\"122763672\",\"445763624\",\"1365184\",\"184308753\",\"789753877\",\"323358833\",\"606361689\",\"120972253\",\"338564981\",\"1606986953\",\"1301799902\",\"140187018\",\"1897517891\",\"107642809\",\"551305895\",\"556585270\",\"2303033973\",\"646886885\",\"222612678\",\"1814349763\",\"872137015\",\"571386359\",\"304079786\",\"174006928\",\"284785823\",\"163284000\",\"246390068\",\"482257456\",\"168684524\",\"78489819\",\"195516622\",\"1260594497\",\"428685680\",\"1024858327\",\"838586769\",\"199386237\",\"972509632\",\"213438580\",\"1555511105\",\"210038833\",\"227918678\",\"826623384\",\"1802514301\",\"1329090101\",\"181831132\",\"462791599\",\"348647203\",\"366599607\",\"90598517\",\"1479264469\",\"1449779435\",\"1159176109\",\"769213520\",\"741301563\",\"807561936\",\"834129063\",\"663832097\",\"446390129\",\"690104769\",\"485285717\",\"520034544\",\"476244795\",\"629173063\",\"404664135\",\"98709329\",\"110849052\",\"460492795\",\"94005786\",\"395591396\",\"389771964\",\"403939487\",\"481697415\",\"110073250\",\"88092256\",\"351636786\",\"473248298\",\"73981293\",\"155653938\",\"395591396\",\"429504768\",\"242767149\",\"65362788\",\"67540165\",\"62019074\",\"135723538\",\"295998468\",\"261116938\",\"136689549\",\"135611421\",\"356709897\",\"110649992\",\"301869854\",\"127027715\",\"57144458\",\"56870689\",\"323437194\",\"317726339\",\"116144341\",\"328207708\",\"608228647\",\"180577478\",\"809306935\",\"49262961\",\"614555082\",\"245350949\",\"178660459\",\"51641685\",\"78139948\",\"322336177\",\"1007612429\",\"326792833\",\"391251368\",\"349585590\",\"339659802\",\"674772936\",\"432719968\",\"1309887447\",\"119238316\",\"116903579\",\"888046992\",\"200660871\",\"130655803\",\"1887039593\",\"88103848\",\"101114984\",\"1575467011\",\"91656026\",\"1042568408\",\"1735441776\",\"726837877\",\"53933526\",\"267758538\",\"74601456\",\"920797189\",\"539595276\",\"1367810478\",\"578207856\",\"775542072\",\"863625566\",\"656013912\",\"1056760045\",\"611994237\",\"1230855859\",\"582981380\",\"1858144199\",\"240684449\",\"583687007\",\"63803529\",\"466214729\",\"236940480\",\"41924466\",\"225259194\",\"393230256\",\"287201015\",\"599770206\",\"342779426\",\"673801126\",\"1168642797\",\"540539717\",\"383550148\",\"530511203\",\"37307967\",\"510876816\",\"1445941661\",\"1763363713\",\"374191487\",\"108809090\",\"436695353\",\"421040617\",\"501541661\",\"354065229\",\"1143647827\",\"311395144\",\"672656250\",\"1256880657\",\"1692897992\",\"245095641\",\"686734357\",\"261414174\",\"610045621\",\"1115880852\",\"594482982\",\"566954746\",\"BPM110KeyAModeMajorDanceability53Valence75Energy69Acousticness7Instrumentalness0Liveness17Speechiness3\",\"374706940\",\"184937148\",\"31959571\",\"167076418\",\"824420218\",\"363467642\",\"1127468248\",\"60680939\",\"247737946\",\"1699402402\",\"154797871\",\"198883004\",\"124407432\",\"850608354\",\"376333030\",\"516784627\",\"1608045237\",\"506778838\",\"1472799873\",\"513643924\",\"261286503\",\"783706581\",\"422691058\",\"1062345656\",\"1252563873\",\"851070493\",\"263894529\",\"345903614\",\"951637566\",\"956865266\",\"427486004\",\"156658366\",\"624515457\",\"777765388\",\"412795151\",\"1138474110\",\"355219175\",\"290228626\",\"1062956628\",\"1180094974\",\"1456081449\",\"432702334\",\"489945871\",\"465959382\",\"1223481149\",\"2864791672\",\"2288695111\",\"720825549\",\"2086124197\",\"1690192927\",\"991336132\",\"593917618\",\"200972675\",\"71014967\",\"560222750\",\"1806617704\",\"77337771\",\"528544703\",\"865640097\",\"2159346687\",\"211372494\",\"651732901\",\"608334048\",\"863756573\",\"797402345\",\"1695712020\",\"1759567999\",\"223319934\",\"54937991\",\"226897599\",\"258316038\",\"596152090\",\"177129919\",\"716591492\",\"1210599487\",\"246376690\",\"496311364\",\"146789379\",\"843309044\",\"500340342\",\"107255472\",\"135079152\",\"822239726\",\"1202722675\",\"343197054\",\"240769997\",\"426204830\",\"421135627\",\"554875730\",\"467727006\",\"327498031\",\"185408548\",\"245400167\",\"579395142\",\"675039469\",\"252871192\",\"231996128\",\"1929770265\",\"918915401\",\"1180896317\",\"498960285\",\"685071800\",\"258714692\",\"143139338\",\"209768491\",\"64714573\",\"50746620\",\"154119539\",\"181328253\",\"370068639\",\"2280566092\",\"563902868\",\"317622165\",\"291709698\",\"203680270\",\"81350745\",\"282883169\",\"64787943\",\"2484812918\",\"461437791\",\"1439191367\",\"759208783\",\"368646862\",\"299634472\",\"756907987\",\"682475162\",\"546191065\",\"229473310\",\"202677468\",\"121913181\",\"208166039\",\"527033089\",\"94616487\",\"394030335\",\"193443895\",\"299648208\",\"182978249\",\"319757142\",\"109091573\",\"153240879\",\"346127840\",\"312622938\",\"2197010679\",\"1200808494\",\"797196073\",\"1970673297\",\"665765558\",\"263779030\",\"339473453\",\"2204080728\",\"2591224264\",\"135444283\",\"1457139296\",\"236872197\",\"694525298\",\"240661097\",\"421365166\",\"349746291\",\"255120451\",\"190981339\",\"924193303\",\"305771063\",\"273005485\",\"89566512\",\"677389855\",\"75476209\",\"408843328\",\"187772591\",\"178512385\",\"101780047\",\"118381354\",\"146363130\",\"126443991\",\"157990698\",\"176290831\",\"1023187129\",\"106933107\",\"139193812\",\"212234990\",\"1714490998\",\"197643795\",\"807015863\",\"933815613\",\"499710590\",\"120847157\",\"53909146\",\"2236667932\",\"2123309722\",\"301242089\",\"723894473\",\"237351106\",\"461558540\",\"417230415\",\"156898322\",\"127309180\",\"313113297\",\"173702135\",\"271666301\",\"305650299\",\"123216717\",\"479655659\",\"126191104\",\"344055883\",\"338422004\",\"68895644\",\"86176890\",\"403231558\",\"319546754\",\"61739839\",\"283359161\",\"76831876\",\"283332261\",\"307752576\",\"279737940\",\"212351890\",\"1304313953\",\"150500965\",\"246127838\",\"582863434\",\"58687425\",\"212109195\",\"382199619\",\"41210087\",\"231657891\",\"53729194\",\"244741137\",\"42485571\",\"37778188\",\"254218729\",\"53603447\",\"160035717\",\"164163229\",\"37091576\",\"284249832\",\"33381454\",\"184622518\",\"300983101\",\"121077868\",\"106919680\",\"136996305\",\"65719930\",\"229497852\",\"185550869\",\"54682594\",\"240580042\",\"1284942608\",\"71423324\",\"244891912\",\"132171975\",\"184706613\",\"184826429\",\"302006641\",\"330881149\",\"334733572\",\"366214458\",\"114546317\",\"290833204\",\"448500832\",\"136676504\",\"190625045\",\"79095270\",\"273194684\",\"333146475\",\"194902696\",\"311482393\",\"195918494\",\"248511839\",\"233671263\",\"199587884\",\"91781263\",\"383835984\",\"236060709\",\"189236868\",\"160845341\",\"588955257\",\"238350348\",\"187703102\",\"295307001\",\"138334433\",\"445590495\",\"286739476\",\"1122364376\",\"157136970\",\"137070925\",\"183273246\",\"184807630\",\"164856284\",\"704171068\",\"354614964\",\"279717388\",\"195628667\",\"221752937\",\"263280370\",\"213505179\",\"130419412\",\"155795783\",\"1553497987\",\"293466523\",\"711366595\",\"191448892\",\"85924992\",\"176103902\",\"121189256\",\"131746175\",\"244790012\",\"129314708\",\"331511413\",\"219196651\",\"170732845\",\"273914335\",\"179061440\",\"185236961\",\"171788484\",\"387080183\",\"264717480\",\"244928911\",\"97610446\",\"287278853\",\"887906111\",\"123473120\",\"295152154\",\"323455692\",\"240918092\",\"191873381\",\"284216603\",\"239411309\",\"265548837\",\"703301727\",\"244585109\",\"189476119\",\"277132266\",\"278920007\",\"222410722\",\"185392587\",\"202452860\",\"1608164312\",\"624101957\",\"148461629\",\"47093942\",\"380319238\",\"209106362\",\"53987404\",\"115331792\",\"225093344\",\"84697729\",\"159240673\",\"170709584\",\"154356956\",\"723043854\",\"247689123\",\"176474912\",\"235549288\",\"140430339\",\"85559365\",\"146223492\",\"187701588\",\"154863153\",\"191333656\",\"253650850\",\"223064273\",\"170413877\",\"218320587\",\"141720999\",\"187339835\",\"198365537\",\"186104310\",\"177503916\",\"71095708\",\"112436403\",\"203436468\",\"93367537\",\"106249219\",\"181382590\",\"91473363\",\"121871870\",\"73513683\",\"133895612\",\"96007391\"],\"zmax\":1,\"zmin\":-0.25,\"type\":\"heatmap\"}],                        {\"height\":600,\"title\":{\"text\":\"correlacion\",\"x\":0.5},\"width\":600,\"xaxis\":{\"showgrid\":false},\"yaxis\":{\"autorange\":\"reversed\",\"showgrid\":false},\"template\":{\"data\":{\"bar\":[{\"error_x\":{\"color\":\"#2a3f5f\"},\"error_y\":{\"color\":\"#2a3f5f\"},\"marker\":{\"line\":{\"color\":\"#E5ECF6\",\"width\":0.5},\"pattern\":{\"fillmode\":\"overlay\",\"size\":10,\"solidity\":0.2}},\"type\":\"bar\"}],\"barpolar\":[{\"marker\":{\"line\":{\"color\":\"#E5ECF6\",\"width\":0.5},\"pattern\":{\"fillmode\":\"overlay\",\"size\":10,\"solidity\":0.2}},\"type\":\"barpolar\"}],\"carpet\":[{\"aaxis\":{\"endlinecolor\":\"#2a3f5f\",\"gridcolor\":\"white\",\"linecolor\":\"white\",\"minorgridcolor\":\"white\",\"startlinecolor\":\"#2a3f5f\"},\"baxis\":{\"endlinecolor\":\"#2a3f5f\",\"gridcolor\":\"white\",\"linecolor\":\"white\",\"minorgridcolor\":\"white\",\"startlinecolor\":\"#2a3f5f\"},\"type\":\"carpet\"}],\"choropleth\":[{\"colorbar\":{\"outlinewidth\":0,\"ticks\":\"\"},\"type\":\"choropleth\"}],\"contour\":[{\"colorbar\":{\"outlinewidth\":0,\"ticks\":\"\"},\"colorscale\":[[0.0,\"#0d0887\"],[0.1111111111111111,\"#46039f\"],[0.2222222222222222,\"#7201a8\"],[0.3333333333333333,\"#9c179e\"],[0.4444444444444444,\"#bd3786\"],[0.5555555555555556,\"#d8576b\"],[0.6666666666666666,\"#ed7953\"],[0.7777777777777778,\"#fb9f3a\"],[0.8888888888888888,\"#fdca26\"],[1.0,\"#f0f921\"]],\"type\":\"contour\"}],\"contourcarpet\":[{\"colorbar\":{\"outlinewidth\":0,\"ticks\":\"\"},\"type\":\"contourcarpet\"}],\"heatmap\":[{\"colorbar\":{\"outlinewidth\":0,\"ticks\":\"\"},\"colorscale\":[[0.0,\"#0d0887\"],[0.1111111111111111,\"#46039f\"],[0.2222222222222222,\"#7201a8\"],[0.3333333333333333,\"#9c179e\"],[0.4444444444444444,\"#bd3786\"],[0.5555555555555556,\"#d8576b\"],[0.6666666666666666,\"#ed7953\"],[0.7777777777777778,\"#fb9f3a\"],[0.8888888888888888,\"#fdca26\"],[1.0,\"#f0f921\"]],\"type\":\"heatmap\"}],\"heatmapgl\":[{\"colorbar\":{\"outlinewidth\":0,\"ticks\":\"\"},\"colorscale\":[[0.0,\"#0d0887\"],[0.1111111111111111,\"#46039f\"],[0.2222222222222222,\"#7201a8\"],[0.3333333333333333,\"#9c179e\"],[0.4444444444444444,\"#bd3786\"],[0.5555555555555556,\"#d8576b\"],[0.6666666666666666,\"#ed7953\"],[0.7777777777777778,\"#fb9f3a\"],[0.8888888888888888,\"#fdca26\"],[1.0,\"#f0f921\"]],\"type\":\"heatmapgl\"}],\"histogram\":[{\"marker\":{\"pattern\":{\"fillmode\":\"overlay\",\"size\":10,\"solidity\":0.2}},\"type\":\"histogram\"}],\"histogram2d\":[{\"colorbar\":{\"outlinewidth\":0,\"ticks\":\"\"},\"colorscale\":[[0.0,\"#0d0887\"],[0.1111111111111111,\"#46039f\"],[0.2222222222222222,\"#7201a8\"],[0.3333333333333333,\"#9c179e\"],[0.4444444444444444,\"#bd3786\"],[0.5555555555555556,\"#d8576b\"],[0.6666666666666666,\"#ed7953\"],[0.7777777777777778,\"#fb9f3a\"],[0.8888888888888888,\"#fdca26\"],[1.0,\"#f0f921\"]],\"type\":\"histogram2d\"}],\"histogram2dcontour\":[{\"colorbar\":{\"outlinewidth\":0,\"ticks\":\"\"},\"colorscale\":[[0.0,\"#0d0887\"],[0.1111111111111111,\"#46039f\"],[0.2222222222222222,\"#7201a8\"],[0.3333333333333333,\"#9c179e\"],[0.4444444444444444,\"#bd3786\"],[0.5555555555555556,\"#d8576b\"],[0.6666666666666666,\"#ed7953\"],[0.7777777777777778,\"#fb9f3a\"],[0.8888888888888888,\"#fdca26\"],[1.0,\"#f0f921\"]],\"type\":\"histogram2dcontour\"}],\"mesh3d\":[{\"colorbar\":{\"outlinewidth\":0,\"ticks\":\"\"},\"type\":\"mesh3d\"}],\"parcoords\":[{\"line\":{\"colorbar\":{\"outlinewidth\":0,\"ticks\":\"\"}},\"type\":\"parcoords\"}],\"pie\":[{\"automargin\":true,\"type\":\"pie\"}],\"scatter\":[{\"marker\":{\"colorbar\":{\"outlinewidth\":0,\"ticks\":\"\"}},\"type\":\"scatter\"}],\"scatter3d\":[{\"line\":{\"colorbar\":{\"outlinewidth\":0,\"ticks\":\"\"}},\"marker\":{\"colorbar\":{\"outlinewidth\":0,\"ticks\":\"\"}},\"type\":\"scatter3d\"}],\"scattercarpet\":[{\"marker\":{\"colorbar\":{\"outlinewidth\":0,\"ticks\":\"\"}},\"type\":\"scattercarpet\"}],\"scattergeo\":[{\"marker\":{\"colorbar\":{\"outlinewidth\":0,\"ticks\":\"\"}},\"type\":\"scattergeo\"}],\"scattergl\":[{\"marker\":{\"colorbar\":{\"outlinewidth\":0,\"ticks\":\"\"}},\"type\":\"scattergl\"}],\"scattermapbox\":[{\"marker\":{\"colorbar\":{\"outlinewidth\":0,\"ticks\":\"\"}},\"type\":\"scattermapbox\"}],\"scatterpolar\":[{\"marker\":{\"colorbar\":{\"outlinewidth\":0,\"ticks\":\"\"}},\"type\":\"scatterpolar\"}],\"scatterpolargl\":[{\"marker\":{\"colorbar\":{\"outlinewidth\":0,\"ticks\":\"\"}},\"type\":\"scatterpolargl\"}],\"scatterternary\":[{\"marker\":{\"colorbar\":{\"outlinewidth\":0,\"ticks\":\"\"}},\"type\":\"scatterternary\"}],\"surface\":[{\"colorbar\":{\"outlinewidth\":0,\"ticks\":\"\"},\"colorscale\":[[0.0,\"#0d0887\"],[0.1111111111111111,\"#46039f\"],[0.2222222222222222,\"#7201a8\"],[0.3333333333333333,\"#9c179e\"],[0.4444444444444444,\"#bd3786\"],[0.5555555555555556,\"#d8576b\"],[0.6666666666666666,\"#ed7953\"],[0.7777777777777778,\"#fb9f3a\"],[0.8888888888888888,\"#fdca26\"],[1.0,\"#f0f921\"]],\"type\":\"surface\"}],\"table\":[{\"cells\":{\"fill\":{\"color\":\"#EBF0F8\"},\"line\":{\"color\":\"white\"}},\"header\":{\"fill\":{\"color\":\"#C8D4E3\"},\"line\":{\"color\":\"white\"}},\"type\":\"table\"}]},\"layout\":{\"annotationdefaults\":{\"arrowcolor\":\"#2a3f5f\",\"arrowhead\":0,\"arrowwidth\":1},\"autotypenumbers\":\"strict\",\"coloraxis\":{\"colorbar\":{\"outlinewidth\":0,\"ticks\":\"\"}},\"colorscale\":{\"diverging\":[[0,\"#8e0152\"],[0.1,\"#c51b7d\"],[0.2,\"#de77ae\"],[0.3,\"#f1b6da\"],[0.4,\"#fde0ef\"],[0.5,\"#f7f7f7\"],[0.6,\"#e6f5d0\"],[0.7,\"#b8e186\"],[0.8,\"#7fbc41\"],[0.9,\"#4d9221\"],[1,\"#276419\"]],\"sequential\":[[0.0,\"#0d0887\"],[0.1111111111111111,\"#46039f\"],[0.2222222222222222,\"#7201a8\"],[0.3333333333333333,\"#9c179e\"],[0.4444444444444444,\"#bd3786\"],[0.5555555555555556,\"#d8576b\"],[0.6666666666666666,\"#ed7953\"],[0.7777777777777778,\"#fb9f3a\"],[0.8888888888888888,\"#fdca26\"],[1.0,\"#f0f921\"]],\"sequentialminus\":[[0.0,\"#0d0887\"],[0.1111111111111111,\"#46039f\"],[0.2222222222222222,\"#7201a8\"],[0.3333333333333333,\"#9c179e\"],[0.4444444444444444,\"#bd3786\"],[0.5555555555555556,\"#d8576b\"],[0.6666666666666666,\"#ed7953\"],[0.7777777777777778,\"#fb9f3a\"],[0.8888888888888888,\"#fdca26\"],[1.0,\"#f0f921\"]]},\"colorway\":[\"#636efa\",\"#EF553B\",\"#00cc96\",\"#ab63fa\",\"#FFA15A\",\"#19d3f3\",\"#FF6692\",\"#B6E880\",\"#FF97FF\",\"#FECB52\"],\"font\":{\"color\":\"#2a3f5f\"},\"geo\":{\"bgcolor\":\"white\",\"lakecolor\":\"white\",\"landcolor\":\"#E5ECF6\",\"showlakes\":true,\"showland\":true,\"subunitcolor\":\"white\"},\"hoverlabel\":{\"align\":\"left\"},\"hovermode\":\"closest\",\"mapbox\":{\"style\":\"light\"},\"paper_bgcolor\":\"white\",\"plot_bgcolor\":\"#E5ECF6\",\"polar\":{\"angularaxis\":{\"gridcolor\":\"white\",\"linecolor\":\"white\",\"ticks\":\"\"},\"bgcolor\":\"#E5ECF6\",\"radialaxis\":{\"gridcolor\":\"white\",\"linecolor\":\"white\",\"ticks\":\"\"}},\"scene\":{\"xaxis\":{\"backgroundcolor\":\"#E5ECF6\",\"gridcolor\":\"white\",\"gridwidth\":2,\"linecolor\":\"white\",\"showbackground\":true,\"ticks\":\"\",\"zerolinecolor\":\"white\"},\"yaxis\":{\"backgroundcolor\":\"#E5ECF6\",\"gridcolor\":\"white\",\"gridwidth\":2,\"linecolor\":\"white\",\"showbackground\":true,\"ticks\":\"\",\"zerolinecolor\":\"white\"},\"zaxis\":{\"backgroundcolor\":\"#E5ECF6\",\"gridcolor\":\"white\",\"gridwidth\":2,\"linecolor\":\"white\",\"showbackground\":true,\"ticks\":\"\",\"zerolinecolor\":\"white\"}},\"shapedefaults\":{\"line\":{\"color\":\"#2a3f5f\"}},\"ternary\":{\"aaxis\":{\"gridcolor\":\"white\",\"linecolor\":\"white\",\"ticks\":\"\"},\"baxis\":{\"gridcolor\":\"white\",\"linecolor\":\"white\",\"ticks\":\"\"},\"bgcolor\":\"#E5ECF6\",\"caxis\":{\"gridcolor\":\"white\",\"linecolor\":\"white\",\"ticks\":\"\"}},\"title\":{\"x\":0.05},\"xaxis\":{\"automargin\":true,\"gridcolor\":\"white\",\"linecolor\":\"white\",\"ticks\":\"\",\"title\":{\"standoff\":15},\"zerolinecolor\":\"white\",\"zerolinewidth\":2},\"yaxis\":{\"automargin\":true,\"gridcolor\":\"white\",\"linecolor\":\"white\",\"ticks\":\"\",\"title\":{\"standoff\":15},\"zerolinecolor\":\"white\",\"zerolinewidth\":2}}}},                        {\"responsive\": true}                    ).then(function(){\n",
       "                            \n",
       "var gd = document.getElementById('ed867851-9504-4782-a4f1-1da767ca191e');\n",
       "var x = new MutationObserver(function (mutations, observer) {{\n",
       "        var display = window.getComputedStyle(gd).display;\n",
       "        if (!display || display === 'none') {{\n",
       "            console.log([gd, 'removed!']);\n",
       "            Plotly.purge(gd);\n",
       "            observer.disconnect();\n",
       "        }}\n",
       "}});\n",
       "\n",
       "// Listen for the removal of the full notebook cells\n",
       "var notebookContainer = gd.closest('#notebook-container');\n",
       "if (notebookContainer) {{\n",
       "    x.observe(notebookContainer, {childList: true});\n",
       "}}\n",
       "\n",
       "// Listen for the clearing of the current output cell\n",
       "var outputEl = gd.closest('.output');\n",
       "if (outputEl) {{\n",
       "    x.observe(outputEl, {childList: true});\n",
       "}}\n",
       "\n",
       "                        })                };                });            </script>        </div>"
      ]
     },
     "metadata": {},
     "output_type": "display_data"
    }
   ],
   "source": [
    "###### e)\n",
    "\n",
    "heat = go.Heatmap(\n",
    "    z = data['streams'],\n",
    "    x = data.columns.values,\n",
    "    y = data.columns.values,\n",
    "    zmin = - 0.25, \n",
    "    zmax = 1,\n",
    "    xgap = 1, \n",
    "    ygap = 1,\n",
    "    colorscale = 'RdBu'\n",
    ")\n",
    "\n",
    "layout = go.Layout(\n",
    "    title_text='correlacion', \n",
    "    title_x=0.5, \n",
    "    width=600, \n",
    "    height=600,\n",
    "    xaxis_showgrid=False,\n",
    "    yaxis_showgrid=False,\n",
    "    yaxis_autorange='reversed'\n",
    ")\n",
    "\n",
    "fig=go.Figure(data=[heat], layout=layout)\n",
    "fig.show()"
   ]
  },
  {
   "cell_type": "code",
   "execution_count": null,
   "metadata": {},
   "outputs": [],
   "source": [
    "###### f)"
   ]
  },
  {
   "cell_type": "code",
   "execution_count": null,
   "metadata": {},
   "outputs": [],
   "source": [
    "###### g)"
   ]
  }
 ],
 "metadata": {
  "colab": {
   "provenance": []
  },
  "kernelspec": {
   "display_name": "Python 3 (ipykernel)",
   "language": "python",
   "name": "python3"
  },
  "language_info": {
   "codemirror_mode": {
    "name": "ipython",
    "version": 3
   },
   "file_extension": ".py",
   "mimetype": "text/x-python",
   "name": "python",
   "nbconvert_exporter": "python",
   "pygments_lexer": "ipython3",
   "version": "3.9.12"
  }
 },
 "nbformat": 4,
 "nbformat_minor": 1
}
